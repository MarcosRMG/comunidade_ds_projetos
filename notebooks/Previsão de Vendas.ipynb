{
 "cells": [
  {
   "cell_type": "markdown",
   "id": "686d1a19",
   "metadata": {
    "heading_collapsed": true
   },
   "source": [
    "# 1 Rossmann Store Sales\n",
    " <a href=\"https://www.kaggle.com/c/rossmann-store-sales\" target=\"_blank\">Source: Kaggle</a>"
   ]
  },
  {
   "cell_type": "markdown",
   "id": "49fa0bb6",
   "metadata": {
    "heading_collapsed": true,
    "hidden": true
   },
   "source": [
    "## 1.1 Business Problem\n",
    "\n",
    "### 1.1.1 Scenario\n",
    "\n",
    "Rossmann operates over 3,000 drug stores in 7 European countries. Store sales are influenced by many factors, including promotions, competition, school and state holidays, seasonality, and locality.\n",
    "\n",
    "### 1.1.2 Task\n",
    "\n",
    "Rossmann store managers are tasked with predicting their daily sales for up to six weeks in advance."
   ]
  },
  {
   "cell_type": "markdown",
   "id": "ddb49759",
   "metadata": {
    "heading_collapsed": true
   },
   "source": [
    "# 2 Data Extraction"
   ]
  },
  {
   "cell_type": "markdown",
   "id": "5a4c310a",
   "metadata": {
    "heading_collapsed": true,
    "hidden": true
   },
   "source": [
    "## 2.1 Enviroment"
   ]
  },
  {
   "cell_type": "markdown",
   "id": "c9968b78",
   "metadata": {
    "heading_collapsed": true,
    "hidden": true
   },
   "source": [
    "### 2.1.1 Installations"
   ]
  },
  {
   "cell_type": "code",
   "execution_count": 1,
   "id": "98206fbd",
   "metadata": {
    "hidden": true
   },
   "outputs": [],
   "source": [
    "#pip install pandas"
   ]
  },
  {
   "cell_type": "code",
   "execution_count": 2,
   "id": "ee796077",
   "metadata": {
    "code_folding": [],
    "hidden": true
   },
   "outputs": [],
   "source": [
    "#pip install inflection"
   ]
  },
  {
   "cell_type": "code",
   "execution_count": 3,
   "id": "5e4df81e",
   "metadata": {
    "hidden": true
   },
   "outputs": [],
   "source": [
    "#pip install seaborn"
   ]
  },
  {
   "cell_type": "code",
   "execution_count": 49,
   "id": "2bc7e8c4",
   "metadata": {
    "hidden": true
   },
   "outputs": [
    {
     "name": "stdout",
     "output_type": "stream",
     "text": [
      "Collecting plotly\n",
      "  Using cached plotly-5.1.0-py2.py3-none-any.whl (20.6 MB)\n",
      "Requirement already satisfied: six in /home/mg/Documents/data_science_em_producao/dsproducao/lib/python3.8/site-packages (from plotly) (1.16.0)\n",
      "Collecting tenacity>=6.2.0\n",
      "  Using cached tenacity-8.0.1-py3-none-any.whl (24 kB)\n",
      "Installing collected packages: tenacity, plotly\n",
      "Successfully installed plotly-5.1.0 tenacity-8.0.1\n",
      "Note: you may need to restart the kernel to use updated packages.\n"
     ]
    }
   ],
   "source": [
    "#pip install plotly"
   ]
  },
  {
   "cell_type": "markdown",
   "id": "0c538942",
   "metadata": {
    "heading_collapsed": true,
    "hidden": true
   },
   "source": [
    "### 2.1.2 Imports"
   ]
  },
  {
   "cell_type": "code",
   "execution_count": 50,
   "id": "1fcb9c9c",
   "metadata": {
    "hidden": true
   },
   "outputs": [],
   "source": [
    "import pandas as pd\n",
    "import inflection\n",
    "import math\n",
    "import numpy as np\n",
    "import seaborn as sns\n",
    "import matplotlib.pyplot as plt\n",
    "import matplotlib\n",
    "from IPython.display import Image\n",
    "from datetime import datetime\n",
    "from datetime import timedelta\n",
    "import plotly.express as px"
   ]
  },
  {
   "cell_type": "markdown",
   "id": "ecb5b5cf",
   "metadata": {
    "heading_collapsed": true,
    "hidden": true
   },
   "source": [
    "### 2.1.3 Settings"
   ]
  },
  {
   "cell_type": "code",
   "execution_count": 14,
   "id": "770edb85",
   "metadata": {
    "hidden": true
   },
   "outputs": [],
   "source": [
    "# Suprimir notação científica no Pandas\n",
    "pd.set_option('display.float_format', lambda x: '%.2f' % x)\n",
    "matplotlib.rcParams['figure.figsize'] = (14, 8)\n",
    "sns.set_style(\"darkgrid\")"
   ]
  },
  {
   "cell_type": "markdown",
   "id": "5e689eb1",
   "metadata": {
    "heading_collapsed": true,
    "hidden": true
   },
   "source": [
    "## 2.2 Data Load"
   ]
  },
  {
   "cell_type": "code",
   "execution_count": 6,
   "id": "50dbb53e",
   "metadata": {
    "hidden": true
   },
   "outputs": [
    {
     "name": "stderr",
     "output_type": "stream",
     "text": [
      "/home/mg/Documents/data_science_em_producao/dsproducao/lib/python3.8/site-packages/IPython/core/interactiveshell.py:3441: DtypeWarning: Columns (7) have mixed types.Specify dtype option on import or set low_memory=False.\n",
      "  exec(code_obj, self.user_global_ns, self.user_ns)\n"
     ]
    }
   ],
   "source": [
    "df_sales_raw = pd.read_csv('../dados/rossmann-store-sales/train.csv')\n",
    "df_store_raw = pd.read_csv('../dados/rossmann-store-sales/store.csv')"
   ]
  },
  {
   "cell_type": "code",
   "execution_count": 7,
   "id": "a3b4f743",
   "metadata": {
    "hidden": true,
    "scrolled": true
   },
   "outputs": [],
   "source": [
    "#df_sales_raw.head(3)"
   ]
  },
  {
   "cell_type": "code",
   "execution_count": 8,
   "id": "b147a60f",
   "metadata": {
    "hidden": true
   },
   "outputs": [],
   "source": [
    "#df_store_raw.head(3)"
   ]
  },
  {
   "cell_type": "code",
   "execution_count": 9,
   "id": "d14985b0",
   "metadata": {
    "hidden": true
   },
   "outputs": [],
   "source": [
    "df_raw = pd.merge(df_sales_raw, df_store_raw, how='inner', on='Store')"
   ]
  },
  {
   "cell_type": "code",
   "execution_count": 91,
   "id": "d5f31a2c",
   "metadata": {
    "hidden": true
   },
   "outputs": [
    {
     "data": {
      "text/html": [
       "<div>\n",
       "<style scoped>\n",
       "    .dataframe tbody tr th:only-of-type {\n",
       "        vertical-align: middle;\n",
       "    }\n",
       "\n",
       "    .dataframe tbody tr th {\n",
       "        vertical-align: top;\n",
       "    }\n",
       "\n",
       "    .dataframe thead th {\n",
       "        text-align: right;\n",
       "    }\n",
       "</style>\n",
       "<table border=\"1\" class=\"dataframe\">\n",
       "  <thead>\n",
       "    <tr style=\"text-align: right;\">\n",
       "      <th></th>\n",
       "      <th>Store</th>\n",
       "      <th>DayOfWeek</th>\n",
       "      <th>Date</th>\n",
       "      <th>Sales</th>\n",
       "      <th>Customers</th>\n",
       "      <th>Open</th>\n",
       "      <th>Promo</th>\n",
       "      <th>StateHoliday</th>\n",
       "      <th>SchoolHoliday</th>\n",
       "      <th>StoreType</th>\n",
       "      <th>Assortment</th>\n",
       "      <th>CompetitionDistance</th>\n",
       "      <th>CompetitionOpenSinceMonth</th>\n",
       "      <th>CompetitionOpenSinceYear</th>\n",
       "      <th>Promo2</th>\n",
       "      <th>Promo2SinceWeek</th>\n",
       "      <th>Promo2SinceYear</th>\n",
       "      <th>PromoInterval</th>\n",
       "    </tr>\n",
       "  </thead>\n",
       "  <tbody>\n",
       "    <tr>\n",
       "      <th>725282</th>\n",
       "      <td>796</td>\n",
       "      <td>4</td>\n",
       "      <td>2013-09-19</td>\n",
       "      <td>5447</td>\n",
       "      <td>646</td>\n",
       "      <td>1</td>\n",
       "      <td>0</td>\n",
       "      <td>0</td>\n",
       "      <td>0</td>\n",
       "      <td>a</td>\n",
       "      <td>c</td>\n",
       "      <td>7180.00</td>\n",
       "      <td>11.00</td>\n",
       "      <td>2012.00</td>\n",
       "      <td>0</td>\n",
       "      <td>NaN</td>\n",
       "      <td>NaN</td>\n",
       "      <td>NaN</td>\n",
       "    </tr>\n",
       "  </tbody>\n",
       "</table>\n",
       "</div>"
      ],
      "text/plain": [
       "        Store  DayOfWeek        Date  Sales  Customers  Open  Promo  \\\n",
       "725282    796          4  2013-09-19   5447        646     1      0   \n",
       "\n",
       "       StateHoliday  SchoolHoliday StoreType Assortment  CompetitionDistance  \\\n",
       "725282            0              0         a          c              7180.00   \n",
       "\n",
       "        CompetitionOpenSinceMonth  CompetitionOpenSinceYear  Promo2  \\\n",
       "725282                      11.00                   2012.00       0   \n",
       "\n",
       "        Promo2SinceWeek  Promo2SinceYear PromoInterval  \n",
       "725282              NaN              NaN           NaN  "
      ]
     },
     "execution_count": 91,
     "metadata": {},
     "output_type": "execute_result"
    }
   ],
   "source": [
    "#df_raw.sample()"
   ]
  },
  {
   "cell_type": "markdown",
   "id": "f522bdcd",
   "metadata": {
    "heading_collapsed": true,
    "hidden": true
   },
   "source": [
    "## 2.3 Process File"
   ]
  },
  {
   "cell_type": "code",
   "execution_count": 46,
   "id": "4654bbda",
   "metadata": {
    "hidden": true
   },
   "outputs": [],
   "source": [
    "#df_raw.to_csv('../dados/procedimentos/df_raw.csv', index=False)"
   ]
  },
  {
   "cell_type": "markdown",
   "id": "2deaf5db",
   "metadata": {
    "heading_collapsed": true
   },
   "source": [
    "# 3 Transformations"
   ]
  },
  {
   "cell_type": "code",
   "execution_count": 48,
   "id": "e0590cb1",
   "metadata": {
    "hidden": true
   },
   "outputs": [],
   "source": [
    "df1 = pd.read_csv('../dados/procedimentos/df_raw.csv')"
   ]
  },
  {
   "cell_type": "markdown",
   "id": "1afc0bbe",
   "metadata": {
    "heading_collapsed": true,
    "hidden": true
   },
   "source": [
    "## 3.1 Rename Columns"
   ]
  },
  {
   "cell_type": "code",
   "execution_count": 49,
   "id": "4e57f056",
   "metadata": {
    "hidden": true
   },
   "outputs": [],
   "source": [
    "cols_old = ['Store', 'DayOfWeek', 'Date', 'Sales', 'Customers', 'Open', 'Promo', 'StateHoliday', \n",
    "                     'SchoolHoliday', 'StoreType', 'Assortment', 'CompetitionDistance', \n",
    "                     'CompetitionOpenSinceMonth', 'CompetitionOpenSinceYear', 'Promo2', 'Promo2SinceWeek', \n",
    "                     'Promo2SinceYear', 'PromoInterval']\n",
    "# Renomeando as colunas para o padrão snacke case\n",
    "snackecase = lambda x: inflection.underscore(x)\n",
    "cols_new = list(map(snackecase, cols_old))\n",
    "df1.columns = cols_new"
   ]
  },
  {
   "cell_type": "markdown",
   "id": "3aea0a99",
   "metadata": {
    "heading_collapsed": true,
    "hidden": true
   },
   "source": [
    "## 3.2 Dimensions"
   ]
  },
  {
   "cell_type": "code",
   "execution_count": 13,
   "id": "a2128c83",
   "metadata": {
    "hidden": true
   },
   "outputs": [],
   "source": [
    "#print(f'Number of rows: {df1.shape[0]}')\n",
    "#print(f'Number of columns: {df1.shape[1]}')"
   ]
  },
  {
   "cell_type": "markdown",
   "id": "647e9b43",
   "metadata": {
    "heading_collapsed": true,
    "hidden": true
   },
   "source": [
    "## 3.3 Types"
   ]
  },
  {
   "cell_type": "code",
   "execution_count": 50,
   "id": "0d21cb2f",
   "metadata": {
    "hidden": true
   },
   "outputs": [],
   "source": [
    "df1['date'] = pd.to_datetime(df1['date'])\n",
    "#df1.dtypes"
   ]
  },
  {
   "cell_type": "markdown",
   "id": "b78e0e5f",
   "metadata": {
    "heading_collapsed": true,
    "hidden": true
   },
   "source": [
    "## 3.4 Missing"
   ]
  },
  {
   "cell_type": "code",
   "execution_count": 15,
   "id": "af7217bb",
   "metadata": {
    "hidden": true
   },
   "outputs": [],
   "source": [
    "#df1.isna().sum()"
   ]
  },
  {
   "cell_type": "markdown",
   "id": "410dd328",
   "metadata": {
    "heading_collapsed": true,
    "hidden": true
   },
   "source": [
    "## 3.5 Fill NaN"
   ]
  },
  {
   "cell_type": "markdown",
   "id": "6e4084c5",
   "metadata": {
    "heading_collapsed": true,
    "hidden": true
   },
   "source": [
    "### competition_distance              \n",
    "\n",
    "Representa a distância do concorrente mais próximo\n",
    "\n",
    "Suposição: \n",
    "1. Não possuem concorrentes próximos; \n",
    "2. A distância com relação ao concorrente é muito longa.\n",
    "\n",
    "Tratamento: \n",
    "1. Preencher as linhas com um registro maior do que a distância máxima registrada na coluna."
   ]
  },
  {
   "cell_type": "code",
   "execution_count": 51,
   "id": "d874fa87",
   "metadata": {
    "hidden": true
   },
   "outputs": [],
   "source": [
    "#print(f\"Maior distância do concorrente para a loja: {df1['competition_distance'].max()}\")\n",
    "df1['competition_distance'] = df1['competition_distance'].apply(lambda x: 200000.0 if math.isnan(x) else x)\n",
    "#print(f\"Dados NaN restantes: {df1['competition_distance'].isna().sum()}\")                 "
   ]
  },
  {
   "cell_type": "markdown",
   "id": "aac55b8b",
   "metadata": {
    "heading_collapsed": true,
    "hidden": true
   },
   "source": [
    "### competition_open_since_month\n",
    "\n",
    "Representa aproximadamente o mês que o concorrente mais próximo abriu a loja\n",
    "\n",
    "Suposição: \n",
    "1. Falta do concorrente próximo;\n",
    "2. O concorrente próximo abriu a loja antes;\n",
    "3. A data de abertura do concorrente não foi registrada. \n",
    "\n",
    "Tratamento:\n",
    "1. Extrair da coluna date o mês da data da venda, por considerar que as vendas são influenciadas pela data no qual o concorrente próximo abriu. "
   ]
  },
  {
   "cell_type": "code",
   "execution_count": 52,
   "id": "ab1e9ed2",
   "metadata": {
    "hidden": true
   },
   "outputs": [],
   "source": [
    "df1['competition_open_since_month'] = df1.apply(lambda x: x['date'].month if math.isnan(x['competition_open_since_month']) else x['competition_open_since_month'], axis=1)"
   ]
  },
  {
   "cell_type": "code",
   "execution_count": 18,
   "id": "1908a93b",
   "metadata": {
    "hidden": true
   },
   "outputs": [],
   "source": [
    "#print(f'Dados faltantes na coluna: {df1[\"competition_open_since_month\"].isna().sum()}')"
   ]
  },
  {
   "cell_type": "markdown",
   "id": "10deea43",
   "metadata": {
    "heading_collapsed": true,
    "hidden": true
   },
   "source": [
    "### competition_open_since_year\n",
    "\n",
    "Representa aproximadamente o ano que o concorrente mais próximo abriu a loja\n",
    "\n",
    "Suposição: \n",
    "1. Falta do concorrente próximo;\n",
    "2. O concorrente próximo abriu a loja antes;\n",
    "3. A data de abertura do concorrente não foi registrada. \n",
    "\n",
    "Tratamento:\n",
    "1. Extrair da coluna date o ano da data da venda, por considerar que as vendas são influenciadas pela data no qual o concorrente próximo abriu. "
   ]
  },
  {
   "cell_type": "code",
   "execution_count": 53,
   "id": "661c634c",
   "metadata": {
    "hidden": true
   },
   "outputs": [],
   "source": [
    "df1['competition_open_since_year'] = df1.apply(lambda x: x['date'].year if math.isnan(x['competition_open_since_year']) else x['competition_open_since_year'], axis=1)"
   ]
  },
  {
   "cell_type": "code",
   "execution_count": 20,
   "id": "da9b85ed",
   "metadata": {
    "hidden": true
   },
   "outputs": [],
   "source": [
    "#print(f'Dados faltantes na coluna: {df1[\"competition_open_since_year\"].isna().sum()}')"
   ]
  },
  {
   "cell_type": "markdown",
   "id": "8fc4b4eb",
   "metadata": {
    "heading_collapsed": true,
    "hidden": true
   },
   "source": [
    "### promo2_since_week"
   ]
  },
  {
   "cell_type": "code",
   "execution_count": 54,
   "id": "be907633",
   "metadata": {
    "hidden": true
   },
   "outputs": [],
   "source": [
    "df1['promo2_since_week'] = df1.apply(lambda x: x['date'].week if math.isnan(x['promo2_since_week']) else x['promo2_since_week'], axis=1)"
   ]
  },
  {
   "cell_type": "code",
   "execution_count": 22,
   "id": "f40baa23",
   "metadata": {
    "hidden": true
   },
   "outputs": [],
   "source": [
    "#print(f'Dados faltantes na coluna: {df1[\"promo2_since_week\"].isna().sum()}')"
   ]
  },
  {
   "cell_type": "markdown",
   "id": "a3111a71",
   "metadata": {
    "heading_collapsed": true,
    "hidden": true
   },
   "source": [
    "### promo2_since_year "
   ]
  },
  {
   "cell_type": "code",
   "execution_count": 55,
   "id": "2bcf9c97",
   "metadata": {
    "hidden": true
   },
   "outputs": [],
   "source": [
    "df1['promo2_since_year'] = df1.apply(lambda x: x['date'].year if math.isnan(x['promo2_since_year']) else x['promo2_since_year'], axis=1)"
   ]
  },
  {
   "cell_type": "code",
   "execution_count": 24,
   "id": "e4bb0df3",
   "metadata": {
    "hidden": true
   },
   "outputs": [],
   "source": [
    "#print(f'Dados faltantes na coluna: {df1[\"promo2_since_year\"].isna().sum()}')"
   ]
  },
  {
   "cell_type": "markdown",
   "id": "90ea8749",
   "metadata": {
    "heading_collapsed": true,
    "hidden": true
   },
   "source": [
    "### promo_interval"
   ]
  },
  {
   "cell_type": "code",
   "execution_count": 56,
   "id": "ec801a77",
   "metadata": {
    "hidden": true
   },
   "outputs": [],
   "source": [
    "month_map = {1: 'Jan',\n",
    "            2: 'Feb',\n",
    "            3: 'Mar',\n",
    "            4: 'Apr',\n",
    "            5: 'May',\n",
    "            6: 'Jun',\n",
    "            7: 'Jul',\n",
    "            8: 'Aug',\n",
    "            9: 'Sep',\n",
    "            10: 'Oct',\n",
    "            11: 'Nov',\n",
    "            12: 'Dec'}\n",
    "\n",
    "df1['promo_interval'].fillna(0, inplace=True)\n",
    "df1['month_map'] = df1['date'].dt.month.map(month_map)\n",
    "\n",
    "df1['is_promo'] = df1[['promo_interval', 'month_map']].apply(lambda x: 0 if x['promo_interval'] == 0 else 1 if x['month_map'] in x['promo_interval'].split(',') else 0, axis=1)"
   ]
  },
  {
   "cell_type": "code",
   "execution_count": 26,
   "id": "ab6594a4",
   "metadata": {
    "hidden": true
   },
   "outputs": [],
   "source": [
    "#print(f'Dados faltantes na coluna: {df1[\"promo_interval\"].isna().sum()}')"
   ]
  },
  {
   "cell_type": "markdown",
   "id": "44d94ff9",
   "metadata": {
    "heading_collapsed": true,
    "hidden": true
   },
   "source": [
    "## 3.6 Change Data Types"
   ]
  },
  {
   "cell_type": "code",
   "execution_count": 57,
   "id": "b58a16b0",
   "metadata": {
    "hidden": true
   },
   "outputs": [],
   "source": [
    "df1['competition_open_since_month'] = df1['competition_open_since_month'].astype(int)\n",
    "df1['competition_open_since_year'] = df1['competition_open_since_year'].astype(int)\n",
    "df1['promo2_since_week'] = df1['promo2_since_week'].astype(int)\n",
    "df1['promo2_since_year'] = df1['promo2_since_year'].astype(int)\n",
    "#df1.dtypes"
   ]
  },
  {
   "cell_type": "markdown",
   "id": "a2d16485",
   "metadata": {
    "heading_collapsed": true,
    "hidden": true
   },
   "source": [
    "## 3.7 Descriptive Statistical"
   ]
  },
  {
   "cell_type": "code",
   "execution_count": 58,
   "id": "a2ba62c8",
   "metadata": {
    "hidden": true
   },
   "outputs": [],
   "source": [
    "num_attributes = df1.select_dtypes(include=['int64', 'float64'])\n",
    "cat_attributes = df1.select_dtypes(exclude=['int64', 'float64', 'datetime64[ns]'])"
   ]
  },
  {
   "cell_type": "markdown",
   "id": "0595e3e7",
   "metadata": {
    "heading_collapsed": true,
    "hidden": true
   },
   "source": [
    "### 3.7.1 Numerical Attribues"
   ]
  },
  {
   "cell_type": "code",
   "execution_count": 29,
   "id": "b8e2f934",
   "metadata": {
    "hidden": true
   },
   "outputs": [],
   "source": [
    "# Central Tendency - mean and median\n",
    "ct1 = pd.DataFrame(num_attributes.apply(np.mean))\n",
    "ct2 = pd.DataFrame(num_attributes.apply(np.median))\n",
    "\n",
    "# Dispersion - std, min, max, range, skew, kurtosis \n",
    "d1 = pd.DataFrame((num_attributes).apply(np.std))\n",
    "d2 = pd.DataFrame(num_attributes).apply(min)\n",
    "d3 = pd.DataFrame(num_attributes).apply(max)\n",
    "d4 = pd.DataFrame(num_attributes).apply(lambda x: x.max() - x.min())\n",
    "d5 = pd.DataFrame(num_attributes).apply(lambda x: x.skew())\n",
    "d6 = pd.DataFrame(num_attributes).apply(lambda x: x.kurtosis())\n",
    "\n",
    "# Concatenate\n",
    "\n",
    "m = pd.concat([d2, d3, d4, ct1, ct2, d1, d5, d6], axis=1).reset_index()\n",
    "m.columns = ['features', 'min', 'max', 'range', 'mean', 'median', 'std', 'skew', 'kurtosis']\n",
    "#m"
   ]
  },
  {
   "cell_type": "markdown",
   "id": "3c925915",
   "metadata": {
    "heading_collapsed": true,
    "hidden": true
   },
   "source": [
    "### 3.7.2 Categorical Attributes"
   ]
  },
  {
   "cell_type": "code",
   "execution_count": 30,
   "id": "1cba06b7",
   "metadata": {
    "hidden": true
   },
   "outputs": [],
   "source": [
    "#cat_attributes.apply(lambda x: x.unique().shape)"
   ]
  },
  {
   "cell_type": "code",
   "execution_count": 31,
   "id": "e5e21f8e",
   "metadata": {
    "hidden": true
   },
   "outputs": [
    {
     "data": {
      "text/plain": [
       "\"\\nax1 = df1[df1['sales'] > 0]\\nplt.subplot(1, 3, 1)\\nsns.boxplot(x='state_holiday', y='sales', data=ax1)\\n\\nplt.subplot(1, 3, 2)\\nsns.boxplot(x='store_type', y='sales', data=ax1)\\n\\nplt.subplot(1, 3, 3)\\nsns.boxplot(x='assortment', y='sales', data=ax1)\\n\""
      ]
     },
     "execution_count": 31,
     "metadata": {},
     "output_type": "execute_result"
    }
   ],
   "source": [
    "'''\n",
    "ax1 = df1[df1['sales'] > 0]\n",
    "plt.subplot(1, 3, 1)\n",
    "sns.boxplot(x='state_holiday', y='sales', data=ax1)\n",
    "\n",
    "plt.subplot(1, 3, 2)\n",
    "sns.boxplot(x='store_type', y='sales', data=ax1)\n",
    "\n",
    "plt.subplot(1, 3, 3)\n",
    "sns.boxplot(x='assortment', y='sales', data=ax1)\n",
    "'''"
   ]
  },
  {
   "cell_type": "markdown",
   "id": "ea0cbb80",
   "metadata": {
    "heading_collapsed": true,
    "hidden": true
   },
   "source": [
    "## 3.8 Feature Engineering"
   ]
  },
  {
   "cell_type": "markdown",
   "id": "a471129e",
   "metadata": {
    "heading_collapsed": true,
    "hidden": true
   },
   "source": [
    "### 3.8.1 Mind Map Hypothesis"
   ]
  },
  {
   "cell_type": "markdown",
   "id": "5aabd7c4",
   "metadata": {
    "hidden": true
   },
   "source": [
    "Mind Map Hypothesis\n",
    "\n",
    "Phenomenon\n",
    "- Sales forecast\n",
    "\n",
    "Agents:\n",
    "- Customers, stores, time and products\n",
    "\n",
    "Agents attributes\n",
    "- Image below\n",
    "\n",
    "Hypothesis:\n",
    "- Topics below"
   ]
  },
  {
   "cell_type": "code",
   "execution_count": 33,
   "id": "b50ac234",
   "metadata": {
    "hidden": true
   },
   "outputs": [
    {
     "data": {
      "image/png": "[encoded data removed]",
      "text/plain": [
       "<IPython.core.display.Image object>"
      ]
     },
     "execution_count": 33,
     "metadata": {},
     "output_type": "execute_result"
    }
   ],
   "source": [
    "Image('../img/Dayle_Sales_Store.png')"
   ]
  },
  {
   "cell_type": "markdown",
   "id": "dfb729c8",
   "metadata": {
    "heading_collapsed": true,
    "hidden": true
   },
   "source": [
    "#### 3.8.1.1 Store Hyphotesis"
   ]
  },
  {
   "cell_type": "markdown",
   "id": "5655b084",
   "metadata": {
    "hidden": true
   },
   "source": [
    "1. Lojas maiores deveriam vender mais;\n",
    "\n",
    "2. Lojas com mais funcionários deveriam vender mais;\n",
    "\n",
    "3. Lojas com concorrentes por perto deveriam vender menos;\n",
    "\n",
    "4. Lojas com maior estoque deveriam vender mais;\n",
    "\n",
    "5. Lojas com mais produtos na vitrine deveriam vender mais;\n",
    "\n",
    "6. Lojas com maior sortimento deveriam vender mais; \n",
    "\n",
    "7. Lojas com concorrentes a mais tempo deveriam vender mais;\n",
    "\n",
    "8. Lojas com promoção ativas deveriam vender mais;\n",
    "\n",
    "9. Lojas com promoção ativas por mais tempo deveriam vender mais;\n",
    "\n",
    "10. Lojas com promoção consecutivas deveriam vender mais; "
   ]
  },
  {
   "cell_type": "markdown",
   "id": "8bcb019b",
   "metadata": {
    "heading_collapsed": true,
    "hidden": true
   },
   "source": [
    "#### 3.8.1.2 Product Hyphotesis"
   ]
  },
  {
   "cell_type": "markdown",
   "id": "0c1baf7c",
   "metadata": {
    "hidden": true
   },
   "source": [
    "1. Produtos mais baratos deveriam vender mais;\n",
    "\n",
    "2. Produtos em promoção deveriam vender mais;\n",
    "\n",
    "3. Produtos mais caros deveriam vender menos;\n",
    "\n",
    "4. Produtos com maior qualidade deveriam vender mais;"
   ]
  },
  {
   "cell_type": "markdown",
   "id": "f09bc84b",
   "metadata": {
    "heading_collapsed": true,
    "hidden": true
   },
   "source": [
    "#### 3.8.1.3 Time Hyphotesis"
   ]
  },
  {
   "cell_type": "markdown",
   "id": "b481b0f6",
   "metadata": {
    "hidden": true
   },
   "source": [
    "1. No segundo semestre deveriam aumentar as vendas;\n",
    "\n",
    "2. No verão as vendas deveriam ser maiores;\n",
    "\n",
    "3. No final de semana as vendas são menores;\n",
    "\n",
    "4. Durante as férias escolares as vendas são menores;\n",
    "\n",
    "5. No natal as vendas são maiores; \n",
    "\n",
    "6. As vendas são maiores com o passar dos anos;"
   ]
  },
  {
   "cell_type": "markdown",
   "id": "a3e19c99",
   "metadata": {
    "heading_collapsed": true,
    "hidden": true
   },
   "source": [
    "### 3.8.2 Hyphotesis List"
   ]
  },
  {
   "cell_type": "markdown",
   "id": "7ee05f4f",
   "metadata": {
    "hidden": true
   },
   "source": [
    "1. Lojas com maior sortimento deveriam vender mais; \n",
    "\n",
    "2. Lojas com concorrentes por perto deveriam vender menos;\n",
    "\n",
    "3. Lojas com concorrentes a mais tempo deveriam vender mais;\n",
    "\n",
    "4. Lojas com promoção ativas deveriam vender mais;\n",
    "\n",
    "5. Lojas com promoção ativas por mais tempo deveriam vender mais;\n",
    "\n",
    "6. Lojas com promoção consecutivas deveriam vender mais; \n",
    "\n",
    "7. No natal as vendas são maiores; \n",
    "\n",
    "8. As vendas são maiores com o passar dos anos;\n",
    "\n",
    "9. No segundo semestre deveriam aumentar as vendas;\n",
    "\n",
    "10. No final de semana as vendas são menores;\n",
    "\n",
    "11. Durante as férias escolares as vendas são menores;\n",
    "\n",
    "12. Depois do dia 10 de cada mais as vendas deveriam ser maiores;"
   ]
  },
  {
   "cell_type": "markdown",
   "id": "67457ee4",
   "metadata": {
    "heading_collapsed": true,
    "hidden": true
   },
   "source": [
    "### 3.8.3 Feature Engineering"
   ]
  },
  {
   "cell_type": "code",
   "execution_count": 59,
   "id": "3ae6b706",
   "metadata": {
    "hidden": true
   },
   "outputs": [],
   "source": [
    "# year\n",
    "df1['year'] = df1['date'].dt.year\n",
    "\n",
    "# month\n",
    "df1['month'] = df1['date'].dt.month\n",
    "\n",
    "# day\n",
    "df1['day'] = df1['date'].dt.day\n",
    "\n",
    "# week of year\n",
    "df1['week_of_year'] = df1['date'].dt.isocalendar().week\n",
    "\n",
    "# year week\n",
    "df1['year_week'] = df1['date'].dt.strftime('%Y-%W')\n",
    "\n",
    "# competition since\n",
    "df1['competition_since'] = df1.apply(lambda x: datetime(year=x['competition_open_since_year'], month=x['competition_open_since_month'], day=1), axis=1)\n",
    "df1['competition_time_month'] = ((df1['date'] - df1['competition_since']) / 30).apply(lambda x: x.days).astype(int)\n",
    "\n",
    "# promo since\n",
    "df1['promo_since'] = df1['promo2_since_year'].astype(str) + '-' + df1['promo2_since_week'].astype(str)\n",
    "df1['promo_since'] = df1['promo_since'].apply(lambda x: datetime.strptime(x + '-1', '%Y-%W-%w') - timedelta(days=7))\n",
    "df1['promo_time_week'] = ((df1['date'] - df1['promo_since']) / 7).apply(lambda x: x.days).astype(int)\n",
    "\n",
    "# Assortment\n",
    "df1['assortment'] = df1['assortment'].apply(lambda x: 'basic' if x == 'a' else 'extra' if x == 'b'else 'extended')\n",
    "\n",
    "# state holiday\n",
    "df1['state_holiday'] = df1['state_holiday'].apply(lambda x: 'public_holiday' if x == 'a' else 'easter_holiday' if x == 'b' else 'christmas' if x == 'c' else 'regular_day')"
   ]
  },
  {
   "cell_type": "markdown",
   "id": "5b97be2a",
   "metadata": {
    "heading_collapsed": true,
    "hidden": true
   },
   "source": [
    "## 3.9 Data Filter"
   ]
  },
  {
   "cell_type": "markdown",
   "id": "b0efde30",
   "metadata": {
    "heading_collapsed": true,
    "hidden": true
   },
   "source": [
    "### 3.9.1 Row Filter"
   ]
  },
  {
   "cell_type": "code",
   "execution_count": 60,
   "id": "f320d132",
   "metadata": {
    "hidden": true
   },
   "outputs": [],
   "source": [
    "df1 = df1[(df1['open'] != 0) & (df1['sales'] > 0)]"
   ]
  },
  {
   "cell_type": "markdown",
   "id": "3c4e0889",
   "metadata": {
    "heading_collapsed": true,
    "hidden": true
   },
   "source": [
    "### 3.9.2 Columns Filter"
   ]
  },
  {
   "cell_type": "code",
   "execution_count": 61,
   "id": "3b1b1b35",
   "metadata": {
    "hidden": true
   },
   "outputs": [],
   "source": [
    "df1.drop(['customers', 'open', 'promo_interval', 'month_map'], axis=1, inplace=True)"
   ]
  },
  {
   "cell_type": "markdown",
   "id": "87d867d7",
   "metadata": {
    "heading_collapsed": true,
    "hidden": true
   },
   "source": [
    "## 3.10 Process File"
   ]
  },
  {
   "cell_type": "code",
   "execution_count": 62,
   "id": "e4411a05",
   "metadata": {
    "hidden": true
   },
   "outputs": [],
   "source": [
    "#df1.to_csv('../dados/procedimentos/df1.csv', index=False)"
   ]
  },
  {
   "cell_type": "markdown",
   "id": "3b48eb7c",
   "metadata": {},
   "source": [
    "# 4 Exploratory Data Analysis"
   ]
  },
  {
   "cell_type": "code",
   "execution_count": 3,
   "id": "48ea5b6f",
   "metadata": {},
   "outputs": [],
   "source": [
    "df2 = pd.read_csv('../dados/procedimentos/df1.csv')"
   ]
  },
  {
   "cell_type": "markdown",
   "id": "8d438cf3",
   "metadata": {
    "heading_collapsed": true
   },
   "source": [
    "## 4.1 Univariate Analysis"
   ]
  },
  {
   "cell_type": "markdown",
   "id": "90cb5574",
   "metadata": {
    "heading_collapsed": true,
    "hidden": true
   },
   "source": [
    "### 4.1.1 Response Variable"
   ]
  },
  {
   "cell_type": "code",
   "execution_count": 121,
   "id": "791643c7",
   "metadata": {
    "hidden": true,
    "hide_input": true
   },
   "outputs": [
    {
     "data": {
      "image/png": "[encoded data removed]",
      "text/plain": [
       "<Figure size 1008x576 with 1 Axes>"
      ]
     },
     "metadata": {},
     "output_type": "display_data"
    }
   ],
   "source": [
    "sns.histplot(df2['sales']);"
   ]
  },
  {
   "cell_type": "markdown",
   "id": "4003b1c1",
   "metadata": {
    "heading_collapsed": true,
    "hidden": true
   },
   "source": [
    "### 4.1.2 Numerical Variable"
   ]
  },
  {
   "cell_type": "code",
   "execution_count": 86,
   "id": "b729d320",
   "metadata": {
    "hidden": true,
    "hide_input": true
   },
   "outputs": [
    {
     "data": {
      "image/png": "[encoded data removed]",
      "text/plain": [
       "<Figure size 1152x1008 with 20 Axes>"
      ]
     },
     "metadata": {},
     "output_type": "display_data"
    }
   ],
   "source": [
    "df2.select_dtypes(include=['int64', 'float64']).hist(figsize=(16, 14));"
   ]
  },
  {
   "cell_type": "markdown",
   "id": "e331120e",
   "metadata": {
    "hidden": true
   },
   "source": [
    "store: Number of sales by store is closely distribuited\n",
    "\n",
    "day_of_week: Is balanced in all days\n",
    "\n",
    "sales: Distribuition is left asymmetric\n",
    "\n",
    "promo: Have more no promo events\n",
    "\n",
    "promo2: Have much more no promo2 events\n",
    "\n",
    "competition_distance: Usually short distances"
   ]
  },
  {
   "cell_type": "markdown",
   "id": "3b124d4e",
   "metadata": {
    "heading_collapsed": true,
    "hidden": true,
    "hide_input": true
   },
   "source": [
    "### 4.1.3 Categorical Variable"
   ]
  },
  {
   "cell_type": "code",
   "execution_count": 120,
   "id": "7c448b1b",
   "metadata": {
    "hidden": true,
    "hide_input": true
   },
   "outputs": [
    {
     "data": {
      "image/png": "[encoded data removed]",
      "text/plain": [
       "<Figure size 1008x576 with 6 Axes>"
      ]
     },
     "metadata": {},
     "output_type": "display_data"
    }
   ],
   "source": [
    "# state_holiday\n",
    "plt.subplot(3, 2, 1)\n",
    "sns.countplot(x='state_holiday', data=df2[df2 != 'regular_day'])\n",
    "\n",
    "plt.subplot(3, 2, 2)\n",
    "sns.kdeplot(data=df2[df2['state_holiday'] == 'public_holiday']['sales'], shade=True, label='Public Holiday')\n",
    "sns.kdeplot(data=df2[df2['state_holiday'] == 'easter_holiday']['sales'], shade=True, label='Easter Holiday')\n",
    "sns.kdeplot(data=df2[df2['state_holiday'] == 'christmas']['sales'], shade=True, label='Christmas')\n",
    "plt.legend()\n",
    "\n",
    "# store_type\n",
    "plt.subplot(3, 2, 3)\n",
    "sns.countplot(x='store_type', data=df2)\n",
    "\n",
    "plt.subplot(3, 2, 4)\n",
    "sns.kdeplot(data=df2[df2['store_type'] == 'a']['sales'], shade=True, label='a')\n",
    "sns.kdeplot(data=df2[df2['store_type'] == 'b']['sales'], shade=True, label='b')\n",
    "sns.kdeplot(data=df2[df2['store_type'] == 'c']['sales'], shade=True, label='c')\n",
    "sns.kdeplot(data=df2[df2['store_type'] == 'd']['sales'], shade=True, label='d')\n",
    "plt.legend()\n",
    "\n",
    "#assortment\n",
    "plt.subplot(3, 2, 5)\n",
    "sns.countplot(x='assortment', data=df2)\n",
    "\n",
    "plt.subplot(3, 2, 6)\n",
    "sns.kdeplot(data=df2[df2['assortment'] == 'basic']['sales'], shade=True, label='Basic')\n",
    "sns.kdeplot(data=df2[df2['assortment'] == 'extended']['sales'], shade=True, label='Extendend')\n",
    "sns.kdeplot(data=df2[df2['assortment'] == 'extra']['sales'], shade=True, label='Extra')\n",
    "plt.legend();"
   ]
  },
  {
   "cell_type": "markdown",
   "id": "1a900d5c",
   "metadata": {
    "hide_input": true
   },
   "source": [
    "## 4.2 Bivariate Analysis"
   ]
  },
  {
   "cell_type": "markdown",
   "id": "abebe5c3",
   "metadata": {},
   "source": [
    "### 4.2.1 Stores with more assortment should sell more\n",
    "False\n",
    "\n",
    "Basic assortment have more sales"
   ]
  },
  {
   "cell_type": "code",
   "execution_count": 56,
   "id": "5ee48df3",
   "metadata": {
    "hide_input": true
   },
   "outputs": [
    {
     "data": {
      "image/png": "[encoded data removed]",
      "text/plain": [
       "<Figure size 1008x576 with 2 Axes>"
      ]
     },
     "metadata": {},
     "output_type": "display_data"
    }
   ],
   "source": [
    "plt.subplot(2, 1, 1)\n",
    "aux1 = df2[['assortment', 'sales']].groupby('assortment').sum().reset_index()\n",
    "sns.barplot(x='assortment', y='sales', data=aux1)\n",
    "\n",
    "plt.subplot(2, 1, 2)\n",
    "aux2 = df2[['assortment', 'year', 'sales']].groupby(['assortment', 'year']).sum().reset_index()\n",
    "sns.lineplot(x='year', y='sales', hue='assortment', data=aux2);"
   ]
  },
  {
   "cell_type": "code",
   "execution_count": 58,
   "id": "41cfe428",
   "metadata": {
    "hide_input": true
   },
   "outputs": [
    {
     "data": {
      "application/vnd.plotly.v1+json": {
       "config": {
        "plotlyServerURL": "https://plot.ly"
       },
       "data": [
        {
         "hovertemplate": "x=%{x}<br>y=%{y}<extra></extra>",
         "legendgroup": "",
         "line": {
          "color": "#636efa",
          "dash": "solid"
         },
         "mode": "lines",
         "name": "",
         "orientation": "v",
         "showlegend": false,
         "type": "scatter",
         "x": [
          "2013-00",
          "2013-01",
          "2013-02",
          "2013-03",
          "2013-04",
          "2013-05",
          "2013-06",
          "2013-07",
          "2013-08",
          "2013-09",
          "2013-10",
          "2013-11",
          "2013-12",
          "2013-13",
          "2013-14",
          "2013-15",
          "2013-16",
          "2013-17",
          "2013-18",
          "2013-19",
          "2013-20",
          "2013-21",
          "2013-22",
          "2013-23",
          "2013-24",
          "2013-25",
          "2013-26",
          "2013-27",
          "2013-28",
          "2013-29",
          "2013-30",
          "2013-31",
          "2013-32",
          "2013-33",
          "2013-34",
          "2013-35",
          "2013-36",
          "2013-37",
          "2013-38",
          "2013-39",
          "2013-40",
          "2013-41",
          "2013-42",
          "2013-43",
          "2013-44",
          "2013-45",
          "2013-46",
          "2013-47",
          "2013-48",
          "2013-49",
          "2013-50",
          "2013-51",
          "2013-52",
          "2014-00",
          "2014-01",
          "2014-02",
          "2014-03",
          "2014-04",
          "2014-05",
          "2014-06",
          "2014-07",
          "2014-08",
          "2014-09",
          "2014-10",
          "2014-11",
          "2014-12",
          "2014-13",
          "2014-14",
          "2014-15",
          "2014-16",
          "2014-17",
          "2014-18",
          "2014-19",
          "2014-20",
          "2014-21",
          "2014-22",
          "2014-23",
          "2014-24",
          "2014-25",
          "2014-26",
          "2014-27",
          "2014-28",
          "2014-29",
          "2014-30",
          "2014-31",
          "2014-32",
          "2014-33",
          "2014-34",
          "2014-35",
          "2014-36",
          "2014-37",
          "2014-38",
          "2014-39",
          "2014-40",
          "2014-41",
          "2014-42",
          "2014-43",
          "2014-44",
          "2014-45",
          "2014-46",
          "2014-47",
          "2014-48",
          "2014-49",
          "2014-50",
          "2014-51",
          "2014-52",
          "2015-00",
          "2015-01",
          "2015-02",
          "2015-03",
          "2015-04",
          "2015-05",
          "2015-06",
          "2015-07",
          "2015-08",
          "2015-09",
          "2015-10",
          "2015-11",
          "2015-12",
          "2015-13",
          "2015-14",
          "2015-15",
          "2015-16",
          "2015-17",
          "2015-18",
          "2015-19",
          "2015-20",
          "2015-21",
          "2015-22",
          "2015-23",
          "2015-24",
          "2015-25",
          "2015-26",
          "2015-27",
          "2015-28",
          "2015-29",
          "2015-30"
         ],
         "xaxis": "x",
         "y": [
          269404,
          350279,
          377207,
          404662,
          363061,
          410482,
          416260,
          431015,
          425147,
          393170,
          401051,
          421288,
          509794,
          471260,
          452045,
          403651,
          453239,
          533741,
          516097,
          506957,
          496558,
          532378,
          506674,
          479923,
          505127,
          486740,
          520991,
          464195,
          495664,
          448027,
          489691,
          431566,
          463293,
          434882,
          472618,
          464405,
          504048,
          458250,
          483489,
          530336,
          529514,
          473897,
          501229,
          525986,
          541135,
          497513,
          549354,
          554547,
          639272,
          554093,
          629898,
          516964,
          124552,
          318113,
          516174,
          479160,
          517735,
          515412,
          559224,
          518718,
          522877,
          535465,
          561938,
          509853,
          522446,
          489558,
          569668,
          525754,
          602623,
          512912,
          617447,
          589305,
          536071,
          550441,
          603142,
          617178,
          558251,
          581105,
          531340,
          562521,
          504122,
          531520,
          487399,
          530075,
          500441,
          483710,
          490014,
          483321,
          507382,
          485711,
          519310,
          474463,
          597384,
          527621,
          459522,
          504015,
          567247,
          510334,
          554099,
          509007,
          592771,
          625201,
          552359,
          620743,
          547584,
          196249,
          288129,
          541125,
          574447,
          526935,
          609509,
          612842,
          588241,
          582289,
          573794,
          612693,
          578369,
          584550,
          543416,
          690726,
          590484,
          610342,
          534552,
          709023,
          596427,
          630625,
          617220,
          652675,
          691760,
          589743,
          623881,
          576919,
          684180,
          586036,
          632017,
          574020,
          436689
         ],
         "yaxis": "y"
        }
       ],
       "layout": {
        "legend": {
         "tracegroupgap": 0
        },
        "template": {
         "data": {
          "bar": [
           {
            "error_x": {
             "color": "#2a3f5f"
            },
            "error_y": {
             "color": "#2a3f5f"
            },
            "marker": {
             "line": {
              "color": "#E5ECF6",
              "width": 0.5
             },
             "pattern": {
              "fillmode": "overlay",
              "size": 10,
              "solidity": 0.2
             }
            },
            "type": "bar"
           }
          ],
          "barpolar": [
           {
            "marker": {
             "line": {
              "color": "#E5ECF6",
              "width": 0.5
             },
             "pattern": {
              "fillmode": "overlay",
              "size": 10,
              "solidity": 0.2
             }
            },
            "type": "barpolar"
           }
          ],
          "carpet": [
           {
            "aaxis": {
             "endlinecolor": "#2a3f5f",
             "gridcolor": "white",
             "linecolor": "white",
             "minorgridcolor": "white",
             "startlinecolor": "#2a3f5f"
            },
            "baxis": {
             "endlinecolor": "#2a3f5f",
             "gridcolor": "white",
             "linecolor": "white",
             "minorgridcolor": "white",
             "startlinecolor": "#2a3f5f"
            },
            "type": "carpet"
           }
          ],
          "choropleth": [
           {
            "colorbar": {
             "outlinewidth": 0,
             "ticks": ""
            },
            "type": "choropleth"
           }
          ],
          "contour": [
           {
            "colorbar": {
             "outlinewidth": 0,
             "ticks": ""
            },
            "colorscale": [
             [
              0,
              "#0d0887"
             ],
             [
              0.1111111111111111,
              "#46039f"
             ],
             [
              0.2222222222222222,
              "#7201a8"
             ],
             [
              0.3333333333333333,
              "#9c179e"
             ],
             [
              0.4444444444444444,
              "#bd3786"
             ],
             [
              0.5555555555555556,
              "#d8576b"
             ],
             [
              0.6666666666666666,
              "#ed7953"
             ],
             [
              0.7777777777777778,
              "#fb9f3a"
             ],
             [
              0.8888888888888888,
              "#fdca26"
             ],
             [
              1,
              "#f0f921"
             ]
            ],
            "type": "contour"
           }
          ],
          "contourcarpet": [
           {
            "colorbar": {
             "outlinewidth": 0,
             "ticks": ""
            },
            "type": "contourcarpet"
           }
          ],
          "heatmap": [
           {
            "colorbar": {
             "outlinewidth": 0,
             "ticks": ""
            },
            "colorscale": [
             [
              0,
              "#0d0887"
             ],
             [
              0.1111111111111111,
              "#46039f"
             ],
             [
              0.2222222222222222,
              "#7201a8"
             ],
             [
              0.3333333333333333,
              "#9c179e"
             ],
             [
              0.4444444444444444,
              "#bd3786"
             ],
             [
              0.5555555555555556,
              "#d8576b"
             ],
             [
              0.6666666666666666,
              "#ed7953"
             ],
             [
              0.7777777777777778,
              "#fb9f3a"
             ],
             [
              0.8888888888888888,
              "#fdca26"
             ],
             [
              1,
              "#f0f921"
             ]
            ],
            "type": "heatmap"
           }
          ],
          "heatmapgl": [
           {
            "colorbar": {
             "outlinewidth": 0,
             "ticks": ""
            },
            "colorscale": [
             [
              0,
              "#0d0887"
             ],
             [
              0.1111111111111111,
              "#46039f"
             ],
             [
              0.2222222222222222,
              "#7201a8"
             ],
             [
              0.3333333333333333,
              "#9c179e"
             ],
             [
              0.4444444444444444,
              "#bd3786"
             ],
             [
              0.5555555555555556,
              "#d8576b"
             ],
             [
              0.6666666666666666,
              "#ed7953"
             ],
             [
              0.7777777777777778,
              "#fb9f3a"
             ],
             [
              0.8888888888888888,
              "#fdca26"
             ],
             [
              1,
              "#f0f921"
             ]
            ],
            "type": "heatmapgl"
           }
          ],
          "histogram": [
           {
            "marker": {
             "pattern": {
              "fillmode": "overlay",
              "size": 10,
              "solidity": 0.2
             }
            },
            "type": "histogram"
           }
          ],
          "histogram2d": [
           {
            "colorbar": {
             "outlinewidth": 0,
             "ticks": ""
            },
            "colorscale": [
             [
              0,
              "#0d0887"
             ],
             [
              0.1111111111111111,
              "#46039f"
             ],
             [
              0.2222222222222222,
              "#7201a8"
             ],
             [
              0.3333333333333333,
              "#9c179e"
             ],
             [
              0.4444444444444444,
              "#bd3786"
             ],
             [
              0.5555555555555556,
              "#d8576b"
             ],
             [
              0.6666666666666666,
              "#ed7953"
             ],
             [
              0.7777777777777778,
              "#fb9f3a"
             ],
             [
              0.8888888888888888,
              "#fdca26"
             ],
             [
              1,
              "#f0f921"
             ]
            ],
            "type": "histogram2d"
           }
          ],
          "histogram2dcontour": [
           {
            "colorbar": {
             "outlinewidth": 0,
             "ticks": ""
            },
            "colorscale": [
             [
              0,
              "#0d0887"
             ],
             [
              0.1111111111111111,
              "#46039f"
             ],
             [
              0.2222222222222222,
              "#7201a8"
             ],
             [
              0.3333333333333333,
              "#9c179e"
             ],
             [
              0.4444444444444444,
              "#bd3786"
             ],
             [
              0.5555555555555556,
              "#d8576b"
             ],
             [
              0.6666666666666666,
              "#ed7953"
             ],
             [
              0.7777777777777778,
              "#fb9f3a"
             ],
             [
              0.8888888888888888,
              "#fdca26"
             ],
             [
              1,
              "#f0f921"
             ]
            ],
            "type": "histogram2dcontour"
           }
          ],
          "mesh3d": [
           {
            "colorbar": {
             "outlinewidth": 0,
             "ticks": ""
            },
            "type": "mesh3d"
           }
          ],
          "parcoords": [
           {
            "line": {
             "colorbar": {
              "outlinewidth": 0,
              "ticks": ""
             }
            },
            "type": "parcoords"
           }
          ],
          "pie": [
           {
            "automargin": true,
            "type": "pie"
           }
          ],
          "scatter": [
           {
            "marker": {
             "colorbar": {
              "outlinewidth": 0,
              "ticks": ""
             }
            },
            "type": "scatter"
           }
          ],
          "scatter3d": [
           {
            "line": {
             "colorbar": {
              "outlinewidth": 0,
              "ticks": ""
             }
            },
            "marker": {
             "colorbar": {
              "outlinewidth": 0,
              "ticks": ""
             }
            },
            "type": "scatter3d"
           }
          ],
          "scattercarpet": [
           {
            "marker": {
             "colorbar": {
              "outlinewidth": 0,
              "ticks": ""
             }
            },
            "type": "scattercarpet"
           }
          ],
          "scattergeo": [
           {
            "marker": {
             "colorbar": {
              "outlinewidth": 0,
              "ticks": ""
             }
            },
            "type": "scattergeo"
           }
          ],
          "scattergl": [
           {
            "marker": {
             "colorbar": {
              "outlinewidth": 0,
              "ticks": ""
             }
            },
            "type": "scattergl"
           }
          ],
          "scattermapbox": [
           {
            "marker": {
             "colorbar": {
              "outlinewidth": 0,
              "ticks": ""
             }
            },
            "type": "scattermapbox"
           }
          ],
          "scatterpolar": [
           {
            "marker": {
             "colorbar": {
              "outlinewidth": 0,
              "ticks": ""
             }
            },
            "type": "scatterpolar"
           }
          ],
          "scatterpolargl": [
           {
            "marker": {
             "colorbar": {
              "outlinewidth": 0,
              "ticks": ""
             }
            },
            "type": "scatterpolargl"
           }
          ],
          "scatterternary": [
           {
            "marker": {
             "colorbar": {
              "outlinewidth": 0,
              "ticks": ""
             }
            },
            "type": "scatterternary"
           }
          ],
          "surface": [
           {
            "colorbar": {
             "outlinewidth": 0,
             "ticks": ""
            },
            "colorscale": [
             [
              0,
              "#0d0887"
             ],
             [
              0.1111111111111111,
              "#46039f"
             ],
             [
              0.2222222222222222,
              "#7201a8"
             ],
             [
              0.3333333333333333,
              "#9c179e"
             ],
             [
              0.4444444444444444,
              "#bd3786"
             ],
             [
              0.5555555555555556,
              "#d8576b"
             ],
             [
              0.6666666666666666,
              "#ed7953"
             ],
             [
              0.7777777777777778,
              "#fb9f3a"
             ],
             [
              0.8888888888888888,
              "#fdca26"
             ],
             [
              1,
              "#f0f921"
             ]
            ],
            "type": "surface"
           }
          ],
          "table": [
           {
            "cells": {
             "fill": {
              "color": "#EBF0F8"
             },
             "line": {
              "color": "white"
             }
            },
            "header": {
             "fill": {
              "color": "#C8D4E3"
             },
             "line": {
              "color": "white"
             }
            },
            "type": "table"
           }
          ]
         },
         "layout": {
          "annotationdefaults": {
           "arrowcolor": "#2a3f5f",
           "arrowhead": 0,
           "arrowwidth": 1
          },
          "autotypenumbers": "strict",
          "coloraxis": {
           "colorbar": {
            "outlinewidth": 0,
            "ticks": ""
           }
          },
          "colorscale": {
           "diverging": [
            [
             0,
             "#8e0152"
            ],
            [
             0.1,
             "#c51b7d"
            ],
            [
             0.2,
             "#de77ae"
            ],
            [
             0.3,
             "#f1b6da"
            ],
            [
             0.4,
             "#fde0ef"
            ],
            [
             0.5,
             "#f7f7f7"
            ],
            [
             0.6,
             "#e6f5d0"
            ],
            [
             0.7,
             "#b8e186"
            ],
            [
             0.8,
             "#7fbc41"
            ],
            [
             0.9,
             "#4d9221"
            ],
            [
             1,
             "#276419"
            ]
           ],
           "sequential": [
            [
             0,
             "#0d0887"
            ],
            [
             0.1111111111111111,
             "#46039f"
            ],
            [
             0.2222222222222222,
             "#7201a8"
            ],
            [
             0.3333333333333333,
             "#9c179e"
            ],
            [
             0.4444444444444444,
             "#bd3786"
            ],
            [
             0.5555555555555556,
             "#d8576b"
            ],
            [
             0.6666666666666666,
             "#ed7953"
            ],
            [
             0.7777777777777778,
             "#fb9f3a"
            ],
            [
             0.8888888888888888,
             "#fdca26"
            ],
            [
             1,
             "#f0f921"
            ]
           ],
           "sequentialminus": [
            [
             0,
             "#0d0887"
            ],
            [
             0.1111111111111111,
             "#46039f"
            ],
            [
             0.2222222222222222,
             "#7201a8"
            ],
            [
             0.3333333333333333,
             "#9c179e"
            ],
            [
             0.4444444444444444,
             "#bd3786"
            ],
            [
             0.5555555555555556,
             "#d8576b"
            ],
            [
             0.6666666666666666,
             "#ed7953"
            ],
            [
             0.7777777777777778,
             "#fb9f3a"
            ],
            [
             0.8888888888888888,
             "#fdca26"
            ],
            [
             1,
             "#f0f921"
            ]
           ]
          },
          "colorway": [
           "#636efa",
           "#EF553B",
           "#00cc96",
           "#ab63fa",
           "#FFA15A",
           "#19d3f3",
           "#FF6692",
           "#B6E880",
           "#FF97FF",
           "#FECB52"
          ],
          "font": {
           "color": "#2a3f5f"
          },
          "geo": {
           "bgcolor": "white",
           "lakecolor": "white",
           "landcolor": "#E5ECF6",
           "showlakes": true,
           "showland": true,
           "subunitcolor": "white"
          },
          "hoverlabel": {
           "align": "left"
          },
          "hovermode": "closest",
          "mapbox": {
           "style": "light"
          },
          "paper_bgcolor": "white",
          "plot_bgcolor": "#E5ECF6",
          "polar": {
           "angularaxis": {
            "gridcolor": "white",
            "linecolor": "white",
            "ticks": ""
           },
           "bgcolor": "#E5ECF6",
           "radialaxis": {
            "gridcolor": "white",
            "linecolor": "white",
            "ticks": ""
           }
          },
          "scene": {
           "xaxis": {
            "backgroundcolor": "#E5ECF6",
            "gridcolor": "white",
            "gridwidth": 2,
            "linecolor": "white",
            "showbackground": true,
            "ticks": "",
            "zerolinecolor": "white"
           },
           "yaxis": {
            "backgroundcolor": "#E5ECF6",
            "gridcolor": "white",
            "gridwidth": 2,
            "linecolor": "white",
            "showbackground": true,
            "ticks": "",
            "zerolinecolor": "white"
           },
           "zaxis": {
            "backgroundcolor": "#E5ECF6",
            "gridcolor": "white",
            "gridwidth": 2,
            "linecolor": "white",
            "showbackground": true,
            "ticks": "",
            "zerolinecolor": "white"
           }
          },
          "shapedefaults": {
           "line": {
            "color": "#2a3f5f"
           }
          },
          "ternary": {
           "aaxis": {
            "gridcolor": "white",
            "linecolor": "white",
            "ticks": ""
           },
           "baxis": {
            "gridcolor": "white",
            "linecolor": "white",
            "ticks": ""
           },
           "bgcolor": "#E5ECF6",
           "caxis": {
            "gridcolor": "white",
            "linecolor": "white",
            "ticks": ""
           }
          },
          "title": {
           "x": 0.05
          },
          "xaxis": {
           "automargin": true,
           "gridcolor": "white",
           "linecolor": "white",
           "ticks": "",
           "title": {
            "standoff": 15
           },
           "zerolinecolor": "white",
           "zerolinewidth": 2
          },
          "yaxis": {
           "automargin": true,
           "gridcolor": "white",
           "linecolor": "white",
           "ticks": "",
           "title": {
            "standoff": 15
           },
           "zerolinecolor": "white",
           "zerolinewidth": 2
          }
         }
        },
        "title": {
         "text": "Assortment Extra"
        },
        "xaxis": {
         "anchor": "y",
         "domain": [
          0,
          1
         ],
         "title": {
          "text": "x"
         }
        },
        "yaxis": {
         "anchor": "x",
         "domain": [
          0,
          1
         ],
         "title": {
          "text": "y"
         }
        }
       }
      },
      "text/html": [
       "<div>                            <div id=\"3f85c110-86ba-493f-bc6c-886396cd3e9b\" class=\"plotly-graph-div\" style=\"height:525px; width:100%;\"></div>            <script type=\"text/javascript\">                require([\"plotly\"], function(Plotly) {                    window.PLOTLYENV=window.PLOTLYENV || {};                                    if (document.getElementById(\"3f85c110-86ba-493f-bc6c-886396cd3e9b\")) {                    Plotly.newPlot(                        \"3f85c110-86ba-493f-bc6c-886396cd3e9b\",                        [{\"hovertemplate\":\"x=%{x}<br>y=%{y}<extra></extra>\",\"legendgroup\":\"\",\"line\":{\"color\":\"#636efa\",\"dash\":\"solid\"},\"mode\":\"lines\",\"name\":\"\",\"orientation\":\"v\",\"showlegend\":false,\"type\":\"scatter\",\"x\":[\"2013-00\",\"2013-01\",\"2013-02\",\"2013-03\",\"2013-04\",\"2013-05\",\"2013-06\",\"2013-07\",\"2013-08\",\"2013-09\",\"2013-10\",\"2013-11\",\"2013-12\",\"2013-13\",\"2013-14\",\"2013-15\",\"2013-16\",\"2013-17\",\"2013-18\",\"2013-19\",\"2013-20\",\"2013-21\",\"2013-22\",\"2013-23\",\"2013-24\",\"2013-25\",\"2013-26\",\"2013-27\",\"2013-28\",\"2013-29\",\"2013-30\",\"2013-31\",\"2013-32\",\"2013-33\",\"2013-34\",\"2013-35\",\"2013-36\",\"2013-37\",\"2013-38\",\"2013-39\",\"2013-40\",\"2013-41\",\"2013-42\",\"2013-43\",\"2013-44\",\"2013-45\",\"2013-46\",\"2013-47\",\"2013-48\",\"2013-49\",\"2013-50\",\"2013-51\",\"2013-52\",\"2014-00\",\"2014-01\",\"2014-02\",\"2014-03\",\"2014-04\",\"2014-05\",\"2014-06\",\"2014-07\",\"2014-08\",\"2014-09\",\"2014-10\",\"2014-11\",\"2014-12\",\"2014-13\",\"2014-14\",\"2014-15\",\"2014-16\",\"2014-17\",\"2014-18\",\"2014-19\",\"2014-20\",\"2014-21\",\"2014-22\",\"2014-23\",\"2014-24\",\"2014-25\",\"2014-26\",\"2014-27\",\"2014-28\",\"2014-29\",\"2014-30\",\"2014-31\",\"2014-32\",\"2014-33\",\"2014-34\",\"2014-35\",\"2014-36\",\"2014-37\",\"2014-38\",\"2014-39\",\"2014-40\",\"2014-41\",\"2014-42\",\"2014-43\",\"2014-44\",\"2014-45\",\"2014-46\",\"2014-47\",\"2014-48\",\"2014-49\",\"2014-50\",\"2014-51\",\"2014-52\",\"2015-00\",\"2015-01\",\"2015-02\",\"2015-03\",\"2015-04\",\"2015-05\",\"2015-06\",\"2015-07\",\"2015-08\",\"2015-09\",\"2015-10\",\"2015-11\",\"2015-12\",\"2015-13\",\"2015-14\",\"2015-15\",\"2015-16\",\"2015-17\",\"2015-18\",\"2015-19\",\"2015-20\",\"2015-21\",\"2015-22\",\"2015-23\",\"2015-24\",\"2015-25\",\"2015-26\",\"2015-27\",\"2015-28\",\"2015-29\",\"2015-30\"],\"xaxis\":\"x\",\"y\":[269404,350279,377207,404662,363061,410482,416260,431015,425147,393170,401051,421288,509794,471260,452045,403651,453239,533741,516097,506957,496558,532378,506674,479923,505127,486740,520991,464195,495664,448027,489691,431566,463293,434882,472618,464405,504048,458250,483489,530336,529514,473897,501229,525986,541135,497513,549354,554547,639272,554093,629898,516964,124552,318113,516174,479160,517735,515412,559224,518718,522877,535465,561938,509853,522446,489558,569668,525754,602623,512912,617447,589305,536071,550441,603142,617178,558251,581105,531340,562521,504122,531520,487399,530075,500441,483710,490014,483321,507382,485711,519310,474463,597384,527621,459522,504015,567247,510334,554099,509007,592771,625201,552359,620743,547584,196249,288129,541125,574447,526935,609509,612842,588241,582289,573794,612693,578369,584550,543416,690726,590484,610342,534552,709023,596427,630625,617220,652675,691760,589743,623881,576919,684180,586036,632017,574020,436689],\"yaxis\":\"y\"}],                        {\"legend\":{\"tracegroupgap\":0},\"template\":{\"data\":{\"bar\":[{\"error_x\":{\"color\":\"#2a3f5f\"},\"error_y\":{\"color\":\"#2a3f5f\"},\"marker\":{\"line\":{\"color\":\"#E5ECF6\",\"width\":0.5},\"pattern\":{\"fillmode\":\"overlay\",\"size\":10,\"solidity\":0.2}},\"type\":\"bar\"}],\"barpolar\":[{\"marker\":{\"line\":{\"color\":\"#E5ECF6\",\"width\":0.5},\"pattern\":{\"fillmode\":\"overlay\",\"size\":10,\"solidity\":0.2}},\"type\":\"barpolar\"}],\"carpet\":[{\"aaxis\":{\"endlinecolor\":\"#2a3f5f\",\"gridcolor\":\"white\",\"linecolor\":\"white\",\"minorgridcolor\":\"white\",\"startlinecolor\":\"#2a3f5f\"},\"baxis\":{\"endlinecolor\":\"#2a3f5f\",\"gridcolor\":\"white\",\"linecolor\":\"white\",\"minorgridcolor\":\"white\",\"startlinecolor\":\"#2a3f5f\"},\"type\":\"carpet\"}],\"choropleth\":[{\"colorbar\":{\"outlinewidth\":0,\"ticks\":\"\"},\"type\":\"choropleth\"}],\"contour\":[{\"colorbar\":{\"outlinewidth\":0,\"ticks\":\"\"},\"colorscale\":[[0.0,\"#0d0887\"],[0.1111111111111111,\"#46039f\"],[0.2222222222222222,\"#7201a8\"],[0.3333333333333333,\"#9c179e\"],[0.4444444444444444,\"#bd3786\"],[0.5555555555555556,\"#d8576b\"],[0.6666666666666666,\"#ed7953\"],[0.7777777777777778,\"#fb9f3a\"],[0.8888888888888888,\"#fdca26\"],[1.0,\"#f0f921\"]],\"type\":\"contour\"}],\"contourcarpet\":[{\"colorbar\":{\"outlinewidth\":0,\"ticks\":\"\"},\"type\":\"contourcarpet\"}],\"heatmap\":[{\"colorbar\":{\"outlinewidth\":0,\"ticks\":\"\"},\"colorscale\":[[0.0,\"#0d0887\"],[0.1111111111111111,\"#46039f\"],[0.2222222222222222,\"#7201a8\"],[0.3333333333333333,\"#9c179e\"],[0.4444444444444444,\"#bd3786\"],[0.5555555555555556,\"#d8576b\"],[0.6666666666666666,\"#ed7953\"],[0.7777777777777778,\"#fb9f3a\"],[0.8888888888888888,\"#fdca26\"],[1.0,\"#f0f921\"]],\"type\":\"heatmap\"}],\"heatmapgl\":[{\"colorbar\":{\"outlinewidth\":0,\"ticks\":\"\"},\"colorscale\":[[0.0,\"#0d0887\"],[0.1111111111111111,\"#46039f\"],[0.2222222222222222,\"#7201a8\"],[0.3333333333333333,\"#9c179e\"],[0.4444444444444444,\"#bd3786\"],[0.5555555555555556,\"#d8576b\"],[0.6666666666666666,\"#ed7953\"],[0.7777777777777778,\"#fb9f3a\"],[0.8888888888888888,\"#fdca26\"],[1.0,\"#f0f921\"]],\"type\":\"heatmapgl\"}],\"histogram\":[{\"marker\":{\"pattern\":{\"fillmode\":\"overlay\",\"size\":10,\"solidity\":0.2}},\"type\":\"histogram\"}],\"histogram2d\":[{\"colorbar\":{\"outlinewidth\":0,\"ticks\":\"\"},\"colorscale\":[[0.0,\"#0d0887\"],[0.1111111111111111,\"#46039f\"],[0.2222222222222222,\"#7201a8\"],[0.3333333333333333,\"#9c179e\"],[0.4444444444444444,\"#bd3786\"],[0.5555555555555556,\"#d8576b\"],[0.6666666666666666,\"#ed7953\"],[0.7777777777777778,\"#fb9f3a\"],[0.8888888888888888,\"#fdca26\"],[1.0,\"#f0f921\"]],\"type\":\"histogram2d\"}],\"histogram2dcontour\":[{\"colorbar\":{\"outlinewidth\":0,\"ticks\":\"\"},\"colorscale\":[[0.0,\"#0d0887\"],[0.1111111111111111,\"#46039f\"],[0.2222222222222222,\"#7201a8\"],[0.3333333333333333,\"#9c179e\"],[0.4444444444444444,\"#bd3786\"],[0.5555555555555556,\"#d8576b\"],[0.6666666666666666,\"#ed7953\"],[0.7777777777777778,\"#fb9f3a\"],[0.8888888888888888,\"#fdca26\"],[1.0,\"#f0f921\"]],\"type\":\"histogram2dcontour\"}],\"mesh3d\":[{\"colorbar\":{\"outlinewidth\":0,\"ticks\":\"\"},\"type\":\"mesh3d\"}],\"parcoords\":[{\"line\":{\"colorbar\":{\"outlinewidth\":0,\"ticks\":\"\"}},\"type\":\"parcoords\"}],\"pie\":[{\"automargin\":true,\"type\":\"pie\"}],\"scatter\":[{\"marker\":{\"colorbar\":{\"outlinewidth\":0,\"ticks\":\"\"}},\"type\":\"scatter\"}],\"scatter3d\":[{\"line\":{\"colorbar\":{\"outlinewidth\":0,\"ticks\":\"\"}},\"marker\":{\"colorbar\":{\"outlinewidth\":0,\"ticks\":\"\"}},\"type\":\"scatter3d\"}],\"scattercarpet\":[{\"marker\":{\"colorbar\":{\"outlinewidth\":0,\"ticks\":\"\"}},\"type\":\"scattercarpet\"}],\"scattergeo\":[{\"marker\":{\"colorbar\":{\"outlinewidth\":0,\"ticks\":\"\"}},\"type\":\"scattergeo\"}],\"scattergl\":[{\"marker\":{\"colorbar\":{\"outlinewidth\":0,\"ticks\":\"\"}},\"type\":\"scattergl\"}],\"scattermapbox\":[{\"marker\":{\"colorbar\":{\"outlinewidth\":0,\"ticks\":\"\"}},\"type\":\"scattermapbox\"}],\"scatterpolar\":[{\"marker\":{\"colorbar\":{\"outlinewidth\":0,\"ticks\":\"\"}},\"type\":\"scatterpolar\"}],\"scatterpolargl\":[{\"marker\":{\"colorbar\":{\"outlinewidth\":0,\"ticks\":\"\"}},\"type\":\"scatterpolargl\"}],\"scatterternary\":[{\"marker\":{\"colorbar\":{\"outlinewidth\":0,\"ticks\":\"\"}},\"type\":\"scatterternary\"}],\"surface\":[{\"colorbar\":{\"outlinewidth\":0,\"ticks\":\"\"},\"colorscale\":[[0.0,\"#0d0887\"],[0.1111111111111111,\"#46039f\"],[0.2222222222222222,\"#7201a8\"],[0.3333333333333333,\"#9c179e\"],[0.4444444444444444,\"#bd3786\"],[0.5555555555555556,\"#d8576b\"],[0.6666666666666666,\"#ed7953\"],[0.7777777777777778,\"#fb9f3a\"],[0.8888888888888888,\"#fdca26\"],[1.0,\"#f0f921\"]],\"type\":\"surface\"}],\"table\":[{\"cells\":{\"fill\":{\"color\":\"#EBF0F8\"},\"line\":{\"color\":\"white\"}},\"header\":{\"fill\":{\"color\":\"#C8D4E3\"},\"line\":{\"color\":\"white\"}},\"type\":\"table\"}]},\"layout\":{\"annotationdefaults\":{\"arrowcolor\":\"#2a3f5f\",\"arrowhead\":0,\"arrowwidth\":1},\"autotypenumbers\":\"strict\",\"coloraxis\":{\"colorbar\":{\"outlinewidth\":0,\"ticks\":\"\"}},\"colorscale\":{\"diverging\":[[0,\"#8e0152\"],[0.1,\"#c51b7d\"],[0.2,\"#de77ae\"],[0.3,\"#f1b6da\"],[0.4,\"#fde0ef\"],[0.5,\"#f7f7f7\"],[0.6,\"#e6f5d0\"],[0.7,\"#b8e186\"],[0.8,\"#7fbc41\"],[0.9,\"#4d9221\"],[1,\"#276419\"]],\"sequential\":[[0.0,\"#0d0887\"],[0.1111111111111111,\"#46039f\"],[0.2222222222222222,\"#7201a8\"],[0.3333333333333333,\"#9c179e\"],[0.4444444444444444,\"#bd3786\"],[0.5555555555555556,\"#d8576b\"],[0.6666666666666666,\"#ed7953\"],[0.7777777777777778,\"#fb9f3a\"],[0.8888888888888888,\"#fdca26\"],[1.0,\"#f0f921\"]],\"sequentialminus\":[[0.0,\"#0d0887\"],[0.1111111111111111,\"#46039f\"],[0.2222222222222222,\"#7201a8\"],[0.3333333333333333,\"#9c179e\"],[0.4444444444444444,\"#bd3786\"],[0.5555555555555556,\"#d8576b\"],[0.6666666666666666,\"#ed7953\"],[0.7777777777777778,\"#fb9f3a\"],[0.8888888888888888,\"#fdca26\"],[1.0,\"#f0f921\"]]},\"colorway\":[\"#636efa\",\"#EF553B\",\"#00cc96\",\"#ab63fa\",\"#FFA15A\",\"#19d3f3\",\"#FF6692\",\"#B6E880\",\"#FF97FF\",\"#FECB52\"],\"font\":{\"color\":\"#2a3f5f\"},\"geo\":{\"bgcolor\":\"white\",\"lakecolor\":\"white\",\"landcolor\":\"#E5ECF6\",\"showlakes\":true,\"showland\":true,\"subunitcolor\":\"white\"},\"hoverlabel\":{\"align\":\"left\"},\"hovermode\":\"closest\",\"mapbox\":{\"style\":\"light\"},\"paper_bgcolor\":\"white\",\"plot_bgcolor\":\"#E5ECF6\",\"polar\":{\"angularaxis\":{\"gridcolor\":\"white\",\"linecolor\":\"white\",\"ticks\":\"\"},\"bgcolor\":\"#E5ECF6\",\"radialaxis\":{\"gridcolor\":\"white\",\"linecolor\":\"white\",\"ticks\":\"\"}},\"scene\":{\"xaxis\":{\"backgroundcolor\":\"#E5ECF6\",\"gridcolor\":\"white\",\"gridwidth\":2,\"linecolor\":\"white\",\"showbackground\":true,\"ticks\":\"\",\"zerolinecolor\":\"white\"},\"yaxis\":{\"backgroundcolor\":\"#E5ECF6\",\"gridcolor\":\"white\",\"gridwidth\":2,\"linecolor\":\"white\",\"showbackground\":true,\"ticks\":\"\",\"zerolinecolor\":\"white\"},\"zaxis\":{\"backgroundcolor\":\"#E5ECF6\",\"gridcolor\":\"white\",\"gridwidth\":2,\"linecolor\":\"white\",\"showbackground\":true,\"ticks\":\"\",\"zerolinecolor\":\"white\"}},\"shapedefaults\":{\"line\":{\"color\":\"#2a3f5f\"}},\"ternary\":{\"aaxis\":{\"gridcolor\":\"white\",\"linecolor\":\"white\",\"ticks\":\"\"},\"baxis\":{\"gridcolor\":\"white\",\"linecolor\":\"white\",\"ticks\":\"\"},\"bgcolor\":\"#E5ECF6\",\"caxis\":{\"gridcolor\":\"white\",\"linecolor\":\"white\",\"ticks\":\"\"}},\"title\":{\"x\":0.05},\"xaxis\":{\"automargin\":true,\"gridcolor\":\"white\",\"linecolor\":\"white\",\"ticks\":\"\",\"title\":{\"standoff\":15},\"zerolinecolor\":\"white\",\"zerolinewidth\":2},\"yaxis\":{\"automargin\":true,\"gridcolor\":\"white\",\"linecolor\":\"white\",\"ticks\":\"\",\"title\":{\"standoff\":15},\"zerolinecolor\":\"white\",\"zerolinewidth\":2}}},\"title\":{\"text\":\"Assortment Extra\"},\"xaxis\":{\"anchor\":\"y\",\"domain\":[0.0,1.0],\"title\":{\"text\":\"x\"}},\"yaxis\":{\"anchor\":\"x\",\"domain\":[0.0,1.0],\"title\":{\"text\":\"y\"}}},                        {\"responsive\": true}                    ).then(function(){\n",
       "                            \n",
       "var gd = document.getElementById('3f85c110-86ba-493f-bc6c-886396cd3e9b');\n",
       "var x = new MutationObserver(function (mutations, observer) {{\n",
       "        var display = window.getComputedStyle(gd).display;\n",
       "        if (!display || display === 'none') {{\n",
       "            console.log([gd, 'removed!']);\n",
       "            Plotly.purge(gd);\n",
       "            observer.disconnect();\n",
       "        }}\n",
       "}});\n",
       "\n",
       "// Listen for the removal of the full notebook cells\n",
       "var notebookContainer = gd.closest('#notebook-container');\n",
       "if (notebookContainer) {{\n",
       "    x.observe(notebookContainer, {childList: true});\n",
       "}}\n",
       "\n",
       "// Listen for the clearing of the current output cell\n",
       "var outputEl = gd.closest('.output');\n",
       "if (outputEl) {{\n",
       "    x.observe(outputEl, {childList: true});\n",
       "}}\n",
       "\n",
       "                        })                };                });            </script>        </div>"
      ]
     },
     "metadata": {},
     "output_type": "display_data"
    }
   ],
   "source": [
    "aux3 = df2[df2['assortment'] == 'extra'][['year_week', 'sales']].groupby('year_week').sum().reset_index()\n",
    "px.line(x=aux3['year_week'], y=aux3['sales'], title='Assortment Extra')"
   ]
  },
  {
   "cell_type": "markdown",
   "id": "ea678b2e",
   "metadata": {},
   "source": [
    "### 4.2.2 Lojas com concorrentes por perto deveriam vender menos;"
   ]
  },
  {
   "cell_type": "markdown",
   "id": "aade5a97",
   "metadata": {},
   "source": [
    "### 4.2.3 Lojas com concorrentes a mais tempo deveriam vender mais;"
   ]
  },
  {
   "cell_type": "markdown",
   "id": "7e911163",
   "metadata": {},
   "source": [
    "## 4.3 Multivariate Analysis"
   ]
  },
  {
   "cell_type": "markdown",
   "id": "c927585f",
   "metadata": {},
   "source": [
    "# 5 Data Modeling"
   ]
  },
  {
   "cell_type": "markdown",
   "id": "701fc0de",
   "metadata": {},
   "source": [
    "# 6 Machine Learning"
   ]
  },
  {
   "cell_type": "markdown",
   "id": "054a41d6",
   "metadata": {},
   "source": [
    "# 7 Business Metrics"
   ]
  },
  {
   "cell_type": "markdown",
   "id": "75d61d33",
   "metadata": {},
   "source": [
    "# 8 Deploy "
   ]
  },
  {
   "cell_type": "code",
   "execution_count": null,
   "id": "7775a63a",
   "metadata": {},
   "outputs": [],
   "source": []
  }
 ],
 "metadata": {
  "kernelspec": {
   "display_name": "Python 3 (ipykernel)",
   "language": "python",
   "name": "python3"
  },
  "language_info": {
   "codemirror_mode": {
    "name": "ipython",
    "version": 3
   },
   "file_extension": ".py",
   "mimetype": "text/x-python",
   "name": "python",
   "nbconvert_exporter": "python",
   "pygments_lexer": "ipython3",
   "version": "3.8.10"
  },
  "varInspector": {
   "cols": {
    "lenName": 16,
    "lenType": 16,
    "lenVar": 40
   },
   "kernels_config": {
    "python": {
     "delete_cmd_postfix": "",
     "delete_cmd_prefix": "del ",
     "library": "var_list.py",
     "varRefreshCmd": "print(var_dic_list())"
    },
    "r": {
     "delete_cmd_postfix": ") ",
     "delete_cmd_prefix": "rm(",
     "library": "var_list.r",
     "varRefreshCmd": "cat(var_dic_list()) "
    }
   },
   "types_to_exclude": [
    "module",
    "function",
    "builtin_function_or_method",
    "instance",
    "_Feature"
   ],
   "window_display": false
  }
 },
 "nbformat": 4,
 "nbformat_minor": 5
}
