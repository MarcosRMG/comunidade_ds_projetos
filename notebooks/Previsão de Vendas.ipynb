{
 "cells": [
  {
   "cell_type": "markdown",
   "id": "ddb49759",
   "metadata": {
    "heading_collapsed": true
   },
   "source": [
    "# 1 Python Libraries"
   ]
  },
  {
   "cell_type": "markdown",
   "id": "c9968b78",
   "metadata": {
    "heading_collapsed": true,
    "hidden": true
   },
   "source": [
    "## 1.1 Installations"
   ]
  },
  {
   "cell_type": "code",
   "execution_count": 23,
   "id": "98206fbd",
   "metadata": {
    "hidden": true
   },
   "outputs": [],
   "source": [
    "#pip install pandas"
   ]
  },
  {
   "cell_type": "code",
   "execution_count": 24,
   "id": "ee796077",
   "metadata": {
    "code_folding": [],
    "hidden": true
   },
   "outputs": [],
   "source": [
    "#pip install inflection"
   ]
  },
  {
   "cell_type": "code",
   "execution_count": 25,
   "id": "5e4df81e",
   "metadata": {
    "hidden": true
   },
   "outputs": [],
   "source": [
    "#pip install seaborn"
   ]
  },
  {
   "cell_type": "markdown",
   "id": "0c538942",
   "metadata": {
    "heading_collapsed": true,
    "hidden": true
   },
   "source": [
    "## 1.2 Imports"
   ]
  },
  {
   "cell_type": "code",
   "execution_count": 86,
   "id": "1fcb9c9c",
   "metadata": {
    "hidden": true
   },
   "outputs": [],
   "source": [
    "import pandas as pd\n",
    "import inflection\n",
    "import math\n",
    "import numpy as np\n",
    "import seaborn as sns\n",
    "import matplotlib.pyplot as plt\n",
    "import matplotlib\n",
    "from IPython.display import Image\n",
    "from datetime import datetime\n",
    "from datetime import timedelta"
   ]
  },
  {
   "cell_type": "markdown",
   "id": "ecb5b5cf",
   "metadata": {
    "heading_collapsed": true,
    "hidden": true
   },
   "source": [
    "## 1.3 Settings"
   ]
  },
  {
   "cell_type": "code",
   "execution_count": 27,
   "id": "770edb85",
   "metadata": {
    "hidden": true
   },
   "outputs": [],
   "source": [
    "# Suprimir notação científica no Pandas\n",
    "pd.set_option('display.float_format', lambda x: '%.2f' % x)\n",
    "matplotlib.rcParams['figure.figsize'] = (16, 8)\n",
    "sns.set_style(\"darkgrid\")"
   ]
  },
  {
   "cell_type": "markdown",
   "id": "fa6273f5",
   "metadata": {
    "heading_collapsed": true
   },
   "source": [
    "# 2 Data Extraction"
   ]
  },
  {
   "cell_type": "markdown",
   "id": "5e689eb1",
   "metadata": {
    "heading_collapsed": true,
    "hidden": true
   },
   "source": [
    "## 2.1 Data Load"
   ]
  },
  {
   "cell_type": "code",
   "execution_count": 28,
   "id": "50dbb53e",
   "metadata": {
    "hidden": true
   },
   "outputs": [
    {
     "name": "stderr",
     "output_type": "stream",
     "text": [
      "/home/mg/Documents/data_science_em_producao/dsproducao/lib/python3.8/site-packages/IPython/core/interactiveshell.py:3441: DtypeWarning: Columns (7) have mixed types.Specify dtype option on import or set low_memory=False.\n",
      "  exec(code_obj, self.user_global_ns, self.user_ns)\n"
     ]
    }
   ],
   "source": [
    "df_sales_raw = pd.read_csv('../dados/rossmann-store-sales/train.csv')\n",
    "df_store_raw = pd.read_csv('../dados/rossmann-store-sales/store.csv')"
   ]
  },
  {
   "cell_type": "code",
   "execution_count": 29,
   "id": "a3b4f743",
   "metadata": {
    "hidden": true,
    "scrolled": true
   },
   "outputs": [
    {
     "data": {
      "text/html": [
       "<div>\n",
       "<style scoped>\n",
       "    .dataframe tbody tr th:only-of-type {\n",
       "        vertical-align: middle;\n",
       "    }\n",
       "\n",
       "    .dataframe tbody tr th {\n",
       "        vertical-align: top;\n",
       "    }\n",
       "\n",
       "    .dataframe thead th {\n",
       "        text-align: right;\n",
       "    }\n",
       "</style>\n",
       "<table border=\"1\" class=\"dataframe\">\n",
       "  <thead>\n",
       "    <tr style=\"text-align: right;\">\n",
       "      <th></th>\n",
       "      <th>Store</th>\n",
       "      <th>DayOfWeek</th>\n",
       "      <th>Date</th>\n",
       "      <th>Sales</th>\n",
       "      <th>Customers</th>\n",
       "      <th>Open</th>\n",
       "      <th>Promo</th>\n",
       "      <th>StateHoliday</th>\n",
       "      <th>SchoolHoliday</th>\n",
       "    </tr>\n",
       "  </thead>\n",
       "  <tbody>\n",
       "    <tr>\n",
       "      <th>0</th>\n",
       "      <td>1</td>\n",
       "      <td>5</td>\n",
       "      <td>2015-07-31</td>\n",
       "      <td>5263</td>\n",
       "      <td>555</td>\n",
       "      <td>1</td>\n",
       "      <td>1</td>\n",
       "      <td>0</td>\n",
       "      <td>1</td>\n",
       "    </tr>\n",
       "    <tr>\n",
       "      <th>1</th>\n",
       "      <td>2</td>\n",
       "      <td>5</td>\n",
       "      <td>2015-07-31</td>\n",
       "      <td>6064</td>\n",
       "      <td>625</td>\n",
       "      <td>1</td>\n",
       "      <td>1</td>\n",
       "      <td>0</td>\n",
       "      <td>1</td>\n",
       "    </tr>\n",
       "    <tr>\n",
       "      <th>2</th>\n",
       "      <td>3</td>\n",
       "      <td>5</td>\n",
       "      <td>2015-07-31</td>\n",
       "      <td>8314</td>\n",
       "      <td>821</td>\n",
       "      <td>1</td>\n",
       "      <td>1</td>\n",
       "      <td>0</td>\n",
       "      <td>1</td>\n",
       "    </tr>\n",
       "  </tbody>\n",
       "</table>\n",
       "</div>"
      ],
      "text/plain": [
       "   Store  DayOfWeek        Date  Sales  Customers  Open  Promo StateHoliday  \\\n",
       "0      1          5  2015-07-31   5263        555     1      1            0   \n",
       "1      2          5  2015-07-31   6064        625     1      1            0   \n",
       "2      3          5  2015-07-31   8314        821     1      1            0   \n",
       "\n",
       "   SchoolHoliday  \n",
       "0              1  \n",
       "1              1  \n",
       "2              1  "
      ]
     },
     "execution_count": 29,
     "metadata": {},
     "output_type": "execute_result"
    }
   ],
   "source": [
    "#df_sales_raw.head(3)"
   ]
  },
  {
   "cell_type": "code",
   "execution_count": 30,
   "id": "b147a60f",
   "metadata": {
    "hidden": true
   },
   "outputs": [
    {
     "data": {
      "text/html": [
       "<div>\n",
       "<style scoped>\n",
       "    .dataframe tbody tr th:only-of-type {\n",
       "        vertical-align: middle;\n",
       "    }\n",
       "\n",
       "    .dataframe tbody tr th {\n",
       "        vertical-align: top;\n",
       "    }\n",
       "\n",
       "    .dataframe thead th {\n",
       "        text-align: right;\n",
       "    }\n",
       "</style>\n",
       "<table border=\"1\" class=\"dataframe\">\n",
       "  <thead>\n",
       "    <tr style=\"text-align: right;\">\n",
       "      <th></th>\n",
       "      <th>Store</th>\n",
       "      <th>StoreType</th>\n",
       "      <th>Assortment</th>\n",
       "      <th>CompetitionDistance</th>\n",
       "      <th>CompetitionOpenSinceMonth</th>\n",
       "      <th>CompetitionOpenSinceYear</th>\n",
       "      <th>Promo2</th>\n",
       "      <th>Promo2SinceWeek</th>\n",
       "      <th>Promo2SinceYear</th>\n",
       "      <th>PromoInterval</th>\n",
       "    </tr>\n",
       "  </thead>\n",
       "  <tbody>\n",
       "    <tr>\n",
       "      <th>0</th>\n",
       "      <td>1</td>\n",
       "      <td>c</td>\n",
       "      <td>a</td>\n",
       "      <td>1270.00</td>\n",
       "      <td>9.00</td>\n",
       "      <td>2008.00</td>\n",
       "      <td>0</td>\n",
       "      <td>NaN</td>\n",
       "      <td>NaN</td>\n",
       "      <td>NaN</td>\n",
       "    </tr>\n",
       "    <tr>\n",
       "      <th>1</th>\n",
       "      <td>2</td>\n",
       "      <td>a</td>\n",
       "      <td>a</td>\n",
       "      <td>570.00</td>\n",
       "      <td>11.00</td>\n",
       "      <td>2007.00</td>\n",
       "      <td>1</td>\n",
       "      <td>13.00</td>\n",
       "      <td>2010.00</td>\n",
       "      <td>Jan,Apr,Jul,Oct</td>\n",
       "    </tr>\n",
       "    <tr>\n",
       "      <th>2</th>\n",
       "      <td>3</td>\n",
       "      <td>a</td>\n",
       "      <td>a</td>\n",
       "      <td>14130.00</td>\n",
       "      <td>12.00</td>\n",
       "      <td>2006.00</td>\n",
       "      <td>1</td>\n",
       "      <td>14.00</td>\n",
       "      <td>2011.00</td>\n",
       "      <td>Jan,Apr,Jul,Oct</td>\n",
       "    </tr>\n",
       "  </tbody>\n",
       "</table>\n",
       "</div>"
      ],
      "text/plain": [
       "   Store StoreType Assortment  CompetitionDistance  CompetitionOpenSinceMonth  \\\n",
       "0      1         c          a              1270.00                       9.00   \n",
       "1      2         a          a               570.00                      11.00   \n",
       "2      3         a          a             14130.00                      12.00   \n",
       "\n",
       "   CompetitionOpenSinceYear  Promo2  Promo2SinceWeek  Promo2SinceYear  \\\n",
       "0                   2008.00       0              NaN              NaN   \n",
       "1                   2007.00       1            13.00          2010.00   \n",
       "2                   2006.00       1            14.00          2011.00   \n",
       "\n",
       "     PromoInterval  \n",
       "0              NaN  \n",
       "1  Jan,Apr,Jul,Oct  \n",
       "2  Jan,Apr,Jul,Oct  "
      ]
     },
     "execution_count": 30,
     "metadata": {},
     "output_type": "execute_result"
    }
   ],
   "source": [
    "#df_store_raw.head(3)"
   ]
  },
  {
   "cell_type": "code",
   "execution_count": 31,
   "id": "d14985b0",
   "metadata": {
    "hidden": true
   },
   "outputs": [],
   "source": [
    "df_raw = pd.merge(df_sales_raw, df_store_raw, how='inner', on='Store')"
   ]
  },
  {
   "cell_type": "code",
   "execution_count": 32,
   "id": "d5f31a2c",
   "metadata": {
    "hidden": true
   },
   "outputs": [
    {
     "data": {
      "text/html": [
       "<div>\n",
       "<style scoped>\n",
       "    .dataframe tbody tr th:only-of-type {\n",
       "        vertical-align: middle;\n",
       "    }\n",
       "\n",
       "    .dataframe tbody tr th {\n",
       "        vertical-align: top;\n",
       "    }\n",
       "\n",
       "    .dataframe thead th {\n",
       "        text-align: right;\n",
       "    }\n",
       "</style>\n",
       "<table border=\"1\" class=\"dataframe\">\n",
       "  <thead>\n",
       "    <tr style=\"text-align: right;\">\n",
       "      <th></th>\n",
       "      <th>Store</th>\n",
       "      <th>DayOfWeek</th>\n",
       "      <th>Date</th>\n",
       "      <th>Sales</th>\n",
       "      <th>Customers</th>\n",
       "      <th>Open</th>\n",
       "      <th>Promo</th>\n",
       "      <th>StateHoliday</th>\n",
       "      <th>SchoolHoliday</th>\n",
       "      <th>StoreType</th>\n",
       "      <th>Assortment</th>\n",
       "      <th>CompetitionDistance</th>\n",
       "      <th>CompetitionOpenSinceMonth</th>\n",
       "      <th>CompetitionOpenSinceYear</th>\n",
       "      <th>Promo2</th>\n",
       "      <th>Promo2SinceWeek</th>\n",
       "      <th>Promo2SinceYear</th>\n",
       "      <th>PromoInterval</th>\n",
       "    </tr>\n",
       "  </thead>\n",
       "  <tbody>\n",
       "    <tr>\n",
       "      <th>239677</th>\n",
       "      <td>264</td>\n",
       "      <td>7</td>\n",
       "      <td>2013-12-29</td>\n",
       "      <td>0</td>\n",
       "      <td>0</td>\n",
       "      <td>0</td>\n",
       "      <td>0</td>\n",
       "      <td>0</td>\n",
       "      <td>0</td>\n",
       "      <td>a</td>\n",
       "      <td>a</td>\n",
       "      <td>180.00</td>\n",
       "      <td>3.00</td>\n",
       "      <td>2014.00</td>\n",
       "      <td>0</td>\n",
       "      <td>NaN</td>\n",
       "      <td>NaN</td>\n",
       "      <td>NaN</td>\n",
       "    </tr>\n",
       "  </tbody>\n",
       "</table>\n",
       "</div>"
      ],
      "text/plain": [
       "        Store  DayOfWeek        Date  Sales  Customers  Open  Promo  \\\n",
       "239677    264          7  2013-12-29      0          0     0      0   \n",
       "\n",
       "       StateHoliday  SchoolHoliday StoreType Assortment  CompetitionDistance  \\\n",
       "239677            0              0         a          a               180.00   \n",
       "\n",
       "        CompetitionOpenSinceMonth  CompetitionOpenSinceYear  Promo2  \\\n",
       "239677                       3.00                   2014.00       0   \n",
       "\n",
       "        Promo2SinceWeek  Promo2SinceYear PromoInterval  \n",
       "239677              NaN              NaN           NaN  "
      ]
     },
     "execution_count": 32,
     "metadata": {},
     "output_type": "execute_result"
    }
   ],
   "source": [
    "#df_raw.sample()"
   ]
  },
  {
   "cell_type": "markdown",
   "id": "2deaf5db",
   "metadata": {
    "heading_collapsed": true
   },
   "source": [
    "# 3 Transformations"
   ]
  },
  {
   "cell_type": "code",
   "execution_count": 33,
   "id": "aa801f2f",
   "metadata": {
    "hidden": true
   },
   "outputs": [],
   "source": [
    "df1 = df_raw.copy()"
   ]
  },
  {
   "cell_type": "markdown",
   "id": "1afc0bbe",
   "metadata": {
    "heading_collapsed": true,
    "hidden": true
   },
   "source": [
    "## 3.1 Rename Columns"
   ]
  },
  {
   "cell_type": "code",
   "execution_count": 34,
   "id": "4e57f056",
   "metadata": {
    "hidden": true
   },
   "outputs": [],
   "source": [
    "cols_old = ['Store', 'DayOfWeek', 'Date', 'Sales', 'Customers', 'Open', 'Promo', 'StateHoliday', \n",
    "                     'SchoolHoliday', 'StoreType', 'Assortment', 'CompetitionDistance', \n",
    "                     'CompetitionOpenSinceMonth', 'CompetitionOpenSinceYear', 'Promo2', 'Promo2SinceWeek', \n",
    "                     'Promo2SinceYear', 'PromoInterval']\n",
    "# Renomeando as colunas para o padrão snacke case\n",
    "snackecase = lambda x: inflection.underscore(x)\n",
    "cols_new = list(map(snackecase, cols_old))\n",
    "df1.columns = cols_new"
   ]
  },
  {
   "cell_type": "markdown",
   "id": "3aea0a99",
   "metadata": {
    "heading_collapsed": true,
    "hidden": true
   },
   "source": [
    "## 3.2 Dimensions"
   ]
  },
  {
   "cell_type": "code",
   "execution_count": 35,
   "id": "a2128c83",
   "metadata": {
    "hidden": true
   },
   "outputs": [
    {
     "name": "stdout",
     "output_type": "stream",
     "text": [
      "Number of rows: 1017209\n",
      "Number of columns: 18\n"
     ]
    }
   ],
   "source": [
    "#print(f'Number of rows: {df1.shape[0]}')\n",
    "#print(f'Number of columns: {df1.shape[1]}')"
   ]
  },
  {
   "cell_type": "markdown",
   "id": "647e9b43",
   "metadata": {
    "heading_collapsed": true,
    "hidden": true
   },
   "source": [
    "## 3.3 Types"
   ]
  },
  {
   "cell_type": "code",
   "execution_count": 36,
   "id": "0d21cb2f",
   "metadata": {
    "hidden": true
   },
   "outputs": [
    {
     "data": {
      "text/plain": [
       "store                                    int64\n",
       "day_of_week                              int64\n",
       "date                            datetime64[ns]\n",
       "sales                                    int64\n",
       "customers                                int64\n",
       "open                                     int64\n",
       "promo                                    int64\n",
       "state_holiday                           object\n",
       "school_holiday                           int64\n",
       "store_type                              object\n",
       "assortment                              object\n",
       "competition_distance                   float64\n",
       "competition_open_since_month           float64\n",
       "competition_open_since_year            float64\n",
       "promo2                                   int64\n",
       "promo2_since_week                      float64\n",
       "promo2_since_year                      float64\n",
       "promo_interval                          object\n",
       "dtype: object"
      ]
     },
     "execution_count": 36,
     "metadata": {},
     "output_type": "execute_result"
    }
   ],
   "source": [
    "df1['date'] = pd.to_datetime(df1['date'])\n",
    "#df1.dtypes"
   ]
  },
  {
   "cell_type": "markdown",
   "id": "b78e0e5f",
   "metadata": {
    "heading_collapsed": true,
    "hidden": true
   },
   "source": [
    "## 3.4 Missing"
   ]
  },
  {
   "cell_type": "code",
   "execution_count": 37,
   "id": "af7217bb",
   "metadata": {
    "hidden": true
   },
   "outputs": [
    {
     "data": {
      "text/plain": [
       "store                                0\n",
       "day_of_week                          0\n",
       "date                                 0\n",
       "sales                                0\n",
       "customers                            0\n",
       "open                                 0\n",
       "promo                                0\n",
       "state_holiday                        0\n",
       "school_holiday                       0\n",
       "store_type                           0\n",
       "assortment                           0\n",
       "competition_distance              2642\n",
       "competition_open_since_month    323348\n",
       "competition_open_since_year     323348\n",
       "promo2                               0\n",
       "promo2_since_week               508031\n",
       "promo2_since_year               508031\n",
       "promo_interval                  508031\n",
       "dtype: int64"
      ]
     },
     "execution_count": 37,
     "metadata": {},
     "output_type": "execute_result"
    }
   ],
   "source": [
    "#df1.isna().sum()"
   ]
  },
  {
   "cell_type": "markdown",
   "id": "410dd328",
   "metadata": {
    "heading_collapsed": true,
    "hidden": true
   },
   "source": [
    "## 3.5 Fill NaN"
   ]
  },
  {
   "cell_type": "markdown",
   "id": "6e4084c5",
   "metadata": {
    "heading_collapsed": true,
    "hidden": true
   },
   "source": [
    "### competition_distance              \n",
    "\n",
    "Representa a distância do concorrente mais próximo\n",
    "\n",
    "Suposição: \n",
    "1. Não possuem concorrentes próximos; \n",
    "2. A distância com relação ao concorrente é muito longa.\n",
    "\n",
    "Tratamento: \n",
    "1. Preencher as linhas com um registro maior do que a distância máxima registrada na coluna."
   ]
  },
  {
   "cell_type": "code",
   "execution_count": 38,
   "id": "d874fa87",
   "metadata": {
    "hidden": true
   },
   "outputs": [
    {
     "name": "stdout",
     "output_type": "stream",
     "text": [
      "Maior distância do concorrente para a loja: 75860.0\n",
      "Dados NaN restantes: 0\n"
     ]
    }
   ],
   "source": [
    "#print(f\"Maior distância do concorrente para a loja: {df1['competition_distance'].max()}\")\n",
    "df1['competition_distance'] = df1['competition_distance'].apply(lambda x: 200000.0 if math.isnan(x) else x)\n",
    "#print(f\"Dados NaN restantes: {df1['competition_distance'].isna().sum()}\")                 "
   ]
  },
  {
   "cell_type": "markdown",
   "id": "aac55b8b",
   "metadata": {
    "heading_collapsed": true,
    "hidden": true
   },
   "source": [
    "### competition_open_since_month\n",
    "\n",
    "Representa aproximadamente o mês que o concorrente mais próximo abriu a loja\n",
    "\n",
    "Suposição: \n",
    "1. Falta do concorrente próximo;\n",
    "2. O concorrente próximo abriu a loja antes;\n",
    "3. A data de abertura do concorrente não foi registrada. \n",
    "\n",
    "Tratamento:\n",
    "1. Extrair da coluna date o mês da data da venda, por considerar que as vendas são influenciadas pela data no qual o concorrente próximo abriu. "
   ]
  },
  {
   "cell_type": "code",
   "execution_count": 39,
   "id": "ab1e9ed2",
   "metadata": {
    "hidden": true
   },
   "outputs": [],
   "source": [
    "df1['competition_open_since_month'] = df1.apply(lambda x: x['date'].month if math.isnan(x['competition_open_since_month']) else x['competition_open_since_month'], axis=1)"
   ]
  },
  {
   "cell_type": "code",
   "execution_count": 40,
   "id": "1908a93b",
   "metadata": {
    "hidden": true
   },
   "outputs": [
    {
     "name": "stdout",
     "output_type": "stream",
     "text": [
      "Dados faltantes na coluna: 0\n"
     ]
    }
   ],
   "source": [
    "#print(f'Dados faltantes na coluna: {df1[\"competition_open_since_month\"].isna().sum()}')"
   ]
  },
  {
   "cell_type": "markdown",
   "id": "10deea43",
   "metadata": {
    "heading_collapsed": true,
    "hidden": true
   },
   "source": [
    "### competition_open_since_year\n",
    "\n",
    "Representa aproximadamente o ano que o concorrente mais próximo abriu a loja\n",
    "\n",
    "Suposição: \n",
    "1. Falta do concorrente próximo;\n",
    "2. O concorrente próximo abriu a loja antes;\n",
    "3. A data de abertura do concorrente não foi registrada. \n",
    "\n",
    "Tratamento:\n",
    "1. Extrair da coluna date o ano da data da venda, por considerar que as vendas são influenciadas pela data no qual o concorrente próximo abriu. "
   ]
  },
  {
   "cell_type": "code",
   "execution_count": 41,
   "id": "661c634c",
   "metadata": {
    "hidden": true
   },
   "outputs": [],
   "source": [
    "df1['competition_open_since_year'] = df1.apply(lambda x: x['date'].year if math.isnan(x['competition_open_since_year']) else x['competition_open_since_year'], axis=1)"
   ]
  },
  {
   "cell_type": "code",
   "execution_count": 42,
   "id": "da9b85ed",
   "metadata": {
    "hidden": true
   },
   "outputs": [
    {
     "name": "stdout",
     "output_type": "stream",
     "text": [
      "Dados faltantes na coluna: 0\n"
     ]
    }
   ],
   "source": [
    "#print(f'Dados faltantes na coluna: {df1[\"competition_open_since_year\"].isna().sum()}')"
   ]
  },
  {
   "cell_type": "markdown",
   "id": "8fc4b4eb",
   "metadata": {
    "heading_collapsed": true,
    "hidden": true
   },
   "source": [
    "### promo2_since_week"
   ]
  },
  {
   "cell_type": "code",
   "execution_count": 43,
   "id": "be907633",
   "metadata": {
    "hidden": true
   },
   "outputs": [],
   "source": [
    "df1['promo2_since_week'] = df1.apply(lambda x: x['date'].week if math.isnan(x['promo2_since_week']) else x['promo2_since_week'], axis=1)"
   ]
  },
  {
   "cell_type": "code",
   "execution_count": 44,
   "id": "f40baa23",
   "metadata": {
    "hidden": true
   },
   "outputs": [
    {
     "name": "stdout",
     "output_type": "stream",
     "text": [
      "Dados faltantes na coluna: 0\n"
     ]
    }
   ],
   "source": [
    "#print(f'Dados faltantes na coluna: {df1[\"promo2_since_week\"].isna().sum()}')"
   ]
  },
  {
   "cell_type": "markdown",
   "id": "a3111a71",
   "metadata": {
    "heading_collapsed": true,
    "hidden": true
   },
   "source": [
    "### promo2_since_year "
   ]
  },
  {
   "cell_type": "code",
   "execution_count": 45,
   "id": "2bcf9c97",
   "metadata": {
    "hidden": true
   },
   "outputs": [],
   "source": [
    "df1['promo2_since_year'] = df1.apply(lambda x: x['date'].year if math.isnan(x['promo2_since_year']) else x['promo2_since_year'], axis=1)"
   ]
  },
  {
   "cell_type": "code",
   "execution_count": 46,
   "id": "e4bb0df3",
   "metadata": {
    "hidden": true
   },
   "outputs": [
    {
     "name": "stdout",
     "output_type": "stream",
     "text": [
      "Dados faltantes na coluna: 0\n"
     ]
    }
   ],
   "source": [
    "#print(f'Dados faltantes na coluna: {df1[\"promo2_since_year\"].isna().sum()}')"
   ]
  },
  {
   "cell_type": "markdown",
   "id": "90ea8749",
   "metadata": {
    "heading_collapsed": true,
    "hidden": true
   },
   "source": [
    "### promo_interval"
   ]
  },
  {
   "cell_type": "code",
   "execution_count": 47,
   "id": "ec801a77",
   "metadata": {
    "hidden": true
   },
   "outputs": [],
   "source": [
    "month_map = {1: 'Jan',\n",
    "            2: 'Feb',\n",
    "            3: 'Mar',\n",
    "            4: 'Apr',\n",
    "            5: 'May',\n",
    "            6: 'Jun',\n",
    "            7: 'Jul',\n",
    "            8: 'Aug',\n",
    "            9: 'Sep',\n",
    "            10: 'Oct',\n",
    "            11: 'Nov',\n",
    "            12: 'Dec'}\n",
    "\n",
    "df1['promo_interval'].fillna(0, inplace=True)\n",
    "df1['month_map'] = df1['date'].dt.month.map(month_map)\n",
    "\n",
    "df1['is_promo'] = df1[['promo_interval', 'month_map']].apply(lambda x: 0 if x['promo_interval'] == 0 else 1 if x['month_map'] in x['promo_interval'].split(',') else 0, axis=1)"
   ]
  },
  {
   "cell_type": "code",
   "execution_count": 48,
   "id": "ab6594a4",
   "metadata": {
    "hidden": true
   },
   "outputs": [
    {
     "name": "stdout",
     "output_type": "stream",
     "text": [
      "Dados faltantes na coluna: 0\n"
     ]
    }
   ],
   "source": [
    "#print(f'Dados faltantes na coluna: {df1[\"promo_interval\"].isna().sum()}')"
   ]
  },
  {
   "cell_type": "markdown",
   "id": "44d94ff9",
   "metadata": {
    "heading_collapsed": true,
    "hidden": true
   },
   "source": [
    "## 3.6 Change Data Types"
   ]
  },
  {
   "cell_type": "code",
   "execution_count": 49,
   "id": "b58a16b0",
   "metadata": {
    "hidden": true
   },
   "outputs": [
    {
     "data": {
      "text/plain": [
       "store                                    int64\n",
       "day_of_week                              int64\n",
       "date                            datetime64[ns]\n",
       "sales                                    int64\n",
       "customers                                int64\n",
       "open                                     int64\n",
       "promo                                    int64\n",
       "state_holiday                           object\n",
       "school_holiday                           int64\n",
       "store_type                              object\n",
       "assortment                              object\n",
       "competition_distance                   float64\n",
       "competition_open_since_month             int64\n",
       "competition_open_since_year              int64\n",
       "promo2                                   int64\n",
       "promo2_since_week                        int64\n",
       "promo2_since_year                        int64\n",
       "promo_interval                          object\n",
       "month_map                               object\n",
       "is_promo                                 int64\n",
       "dtype: object"
      ]
     },
     "execution_count": 49,
     "metadata": {},
     "output_type": "execute_result"
    }
   ],
   "source": [
    "df1['competition_open_since_month'] = df1['competition_open_since_month'].astype(int)\n",
    "df1['competition_open_since_year'] = df1['competition_open_since_year'].astype(int)\n",
    "df1['promo2_since_week'] = df1['promo2_since_week'].astype(int)\n",
    "df1['promo2_since_year'] = df1['promo2_since_year'].astype(int)\n",
    "#df1.dtypes"
   ]
  },
  {
   "cell_type": "markdown",
   "id": "a2d16485",
   "metadata": {
    "heading_collapsed": true,
    "hidden": true
   },
   "source": [
    "## 3.7 Descriptive Statistical"
   ]
  },
  {
   "cell_type": "code",
   "execution_count": 50,
   "id": "a2ba62c8",
   "metadata": {
    "hidden": true
   },
   "outputs": [],
   "source": [
    "num_attributes = df1.select_dtypes(include=['int64', 'float64'])\n",
    "cat_attributes = df1.select_dtypes(exclude=['int64', 'float64', 'datetime64[ns]'])"
   ]
  },
  {
   "cell_type": "markdown",
   "id": "0595e3e7",
   "metadata": {
    "heading_collapsed": true,
    "hidden": true
   },
   "source": [
    "### 3.7.1 Numerical Attribues"
   ]
  },
  {
   "cell_type": "code",
   "execution_count": 51,
   "id": "b8e2f934",
   "metadata": {
    "hidden": true
   },
   "outputs": [
    {
     "data": {
      "text/html": [
       "<div>\n",
       "<style scoped>\n",
       "    .dataframe tbody tr th:only-of-type {\n",
       "        vertical-align: middle;\n",
       "    }\n",
       "\n",
       "    .dataframe tbody tr th {\n",
       "        vertical-align: top;\n",
       "    }\n",
       "\n",
       "    .dataframe thead th {\n",
       "        text-align: right;\n",
       "    }\n",
       "</style>\n",
       "<table border=\"1\" class=\"dataframe\">\n",
       "  <thead>\n",
       "    <tr style=\"text-align: right;\">\n",
       "      <th></th>\n",
       "      <th>features</th>\n",
       "      <th>min</th>\n",
       "      <th>max</th>\n",
       "      <th>range</th>\n",
       "      <th>mean</th>\n",
       "      <th>median</th>\n",
       "      <th>std</th>\n",
       "      <th>skew</th>\n",
       "      <th>kurtosis</th>\n",
       "    </tr>\n",
       "  </thead>\n",
       "  <tbody>\n",
       "    <tr>\n",
       "      <th>0</th>\n",
       "      <td>store</td>\n",
       "      <td>1.00</td>\n",
       "      <td>1115.00</td>\n",
       "      <td>1114.00</td>\n",
       "      <td>558.43</td>\n",
       "      <td>558.00</td>\n",
       "      <td>321.91</td>\n",
       "      <td>-0.00</td>\n",
       "      <td>-1.20</td>\n",
       "    </tr>\n",
       "    <tr>\n",
       "      <th>1</th>\n",
       "      <td>day_of_week</td>\n",
       "      <td>1.00</td>\n",
       "      <td>7.00</td>\n",
       "      <td>6.00</td>\n",
       "      <td>4.00</td>\n",
       "      <td>4.00</td>\n",
       "      <td>2.00</td>\n",
       "      <td>0.00</td>\n",
       "      <td>-1.25</td>\n",
       "    </tr>\n",
       "    <tr>\n",
       "      <th>2</th>\n",
       "      <td>sales</td>\n",
       "      <td>0.00</td>\n",
       "      <td>41551.00</td>\n",
       "      <td>41551.00</td>\n",
       "      <td>5773.82</td>\n",
       "      <td>5744.00</td>\n",
       "      <td>3849.92</td>\n",
       "      <td>0.64</td>\n",
       "      <td>1.78</td>\n",
       "    </tr>\n",
       "    <tr>\n",
       "      <th>3</th>\n",
       "      <td>customers</td>\n",
       "      <td>0.00</td>\n",
       "      <td>7388.00</td>\n",
       "      <td>7388.00</td>\n",
       "      <td>633.15</td>\n",
       "      <td>609.00</td>\n",
       "      <td>464.41</td>\n",
       "      <td>1.60</td>\n",
       "      <td>7.09</td>\n",
       "    </tr>\n",
       "    <tr>\n",
       "      <th>4</th>\n",
       "      <td>open</td>\n",
       "      <td>0.00</td>\n",
       "      <td>1.00</td>\n",
       "      <td>1.00</td>\n",
       "      <td>0.83</td>\n",
       "      <td>1.00</td>\n",
       "      <td>0.38</td>\n",
       "      <td>-1.76</td>\n",
       "      <td>1.09</td>\n",
       "    </tr>\n",
       "    <tr>\n",
       "      <th>5</th>\n",
       "      <td>promo</td>\n",
       "      <td>0.00</td>\n",
       "      <td>1.00</td>\n",
       "      <td>1.00</td>\n",
       "      <td>0.38</td>\n",
       "      <td>0.00</td>\n",
       "      <td>0.49</td>\n",
       "      <td>0.49</td>\n",
       "      <td>-1.76</td>\n",
       "    </tr>\n",
       "    <tr>\n",
       "      <th>6</th>\n",
       "      <td>school_holiday</td>\n",
       "      <td>0.00</td>\n",
       "      <td>1.00</td>\n",
       "      <td>1.00</td>\n",
       "      <td>0.18</td>\n",
       "      <td>0.00</td>\n",
       "      <td>0.38</td>\n",
       "      <td>1.68</td>\n",
       "      <td>0.82</td>\n",
       "    </tr>\n",
       "    <tr>\n",
       "      <th>7</th>\n",
       "      <td>competition_distance</td>\n",
       "      <td>20.00</td>\n",
       "      <td>200000.00</td>\n",
       "      <td>199980.00</td>\n",
       "      <td>5935.44</td>\n",
       "      <td>2330.00</td>\n",
       "      <td>12547.65</td>\n",
       "      <td>10.24</td>\n",
       "      <td>147.79</td>\n",
       "    </tr>\n",
       "    <tr>\n",
       "      <th>8</th>\n",
       "      <td>competition_open_since_month</td>\n",
       "      <td>1.00</td>\n",
       "      <td>12.00</td>\n",
       "      <td>11.00</td>\n",
       "      <td>6.79</td>\n",
       "      <td>7.00</td>\n",
       "      <td>3.31</td>\n",
       "      <td>-0.04</td>\n",
       "      <td>-1.23</td>\n",
       "    </tr>\n",
       "    <tr>\n",
       "      <th>9</th>\n",
       "      <td>competition_open_since_year</td>\n",
       "      <td>1900.00</td>\n",
       "      <td>2015.00</td>\n",
       "      <td>115.00</td>\n",
       "      <td>2010.32</td>\n",
       "      <td>2012.00</td>\n",
       "      <td>5.52</td>\n",
       "      <td>-7.24</td>\n",
       "      <td>124.07</td>\n",
       "    </tr>\n",
       "    <tr>\n",
       "      <th>10</th>\n",
       "      <td>promo2</td>\n",
       "      <td>0.00</td>\n",
       "      <td>1.00</td>\n",
       "      <td>1.00</td>\n",
       "      <td>0.50</td>\n",
       "      <td>1.00</td>\n",
       "      <td>0.50</td>\n",
       "      <td>-0.00</td>\n",
       "      <td>-2.00</td>\n",
       "    </tr>\n",
       "    <tr>\n",
       "      <th>11</th>\n",
       "      <td>promo2_since_week</td>\n",
       "      <td>1.00</td>\n",
       "      <td>52.00</td>\n",
       "      <td>51.00</td>\n",
       "      <td>23.62</td>\n",
       "      <td>22.00</td>\n",
       "      <td>14.31</td>\n",
       "      <td>0.18</td>\n",
       "      <td>-1.18</td>\n",
       "    </tr>\n",
       "    <tr>\n",
       "      <th>12</th>\n",
       "      <td>promo2_since_year</td>\n",
       "      <td>2009.00</td>\n",
       "      <td>2015.00</td>\n",
       "      <td>6.00</td>\n",
       "      <td>2012.79</td>\n",
       "      <td>2013.00</td>\n",
       "      <td>1.66</td>\n",
       "      <td>-0.78</td>\n",
       "      <td>-0.21</td>\n",
       "    </tr>\n",
       "    <tr>\n",
       "      <th>13</th>\n",
       "      <td>is_promo</td>\n",
       "      <td>0.00</td>\n",
       "      <td>1.00</td>\n",
       "      <td>1.00</td>\n",
       "      <td>0.17</td>\n",
       "      <td>0.00</td>\n",
       "      <td>0.37</td>\n",
       "      <td>1.80</td>\n",
       "      <td>1.22</td>\n",
       "    </tr>\n",
       "  </tbody>\n",
       "</table>\n",
       "</div>"
      ],
      "text/plain": [
       "                        features     min       max     range    mean  median  \\\n",
       "0                          store    1.00   1115.00   1114.00  558.43  558.00   \n",
       "1                    day_of_week    1.00      7.00      6.00    4.00    4.00   \n",
       "2                          sales    0.00  41551.00  41551.00 5773.82 5744.00   \n",
       "3                      customers    0.00   7388.00   7388.00  633.15  609.00   \n",
       "4                           open    0.00      1.00      1.00    0.83    1.00   \n",
       "5                          promo    0.00      1.00      1.00    0.38    0.00   \n",
       "6                 school_holiday    0.00      1.00      1.00    0.18    0.00   \n",
       "7           competition_distance   20.00 200000.00 199980.00 5935.44 2330.00   \n",
       "8   competition_open_since_month    1.00     12.00     11.00    6.79    7.00   \n",
       "9    competition_open_since_year 1900.00   2015.00    115.00 2010.32 2012.00   \n",
       "10                        promo2    0.00      1.00      1.00    0.50    1.00   \n",
       "11             promo2_since_week    1.00     52.00     51.00   23.62   22.00   \n",
       "12             promo2_since_year 2009.00   2015.00      6.00 2012.79 2013.00   \n",
       "13                      is_promo    0.00      1.00      1.00    0.17    0.00   \n",
       "\n",
       "        std  skew  kurtosis  \n",
       "0    321.91 -0.00     -1.20  \n",
       "1      2.00  0.00     -1.25  \n",
       "2   3849.92  0.64      1.78  \n",
       "3    464.41  1.60      7.09  \n",
       "4      0.38 -1.76      1.09  \n",
       "5      0.49  0.49     -1.76  \n",
       "6      0.38  1.68      0.82  \n",
       "7  12547.65 10.24    147.79  \n",
       "8      3.31 -0.04     -1.23  \n",
       "9      5.52 -7.24    124.07  \n",
       "10     0.50 -0.00     -2.00  \n",
       "11    14.31  0.18     -1.18  \n",
       "12     1.66 -0.78     -0.21  \n",
       "13     0.37  1.80      1.22  "
      ]
     },
     "execution_count": 51,
     "metadata": {},
     "output_type": "execute_result"
    }
   ],
   "source": [
    "# Central Tendency - mean and median\n",
    "ct1 = pd.DataFrame(num_attributes.apply(np.mean))\n",
    "ct2 = pd.DataFrame(num_attributes.apply(np.median))\n",
    "\n",
    "# Dispersion - std, min, max, range, skew, kurtosis \n",
    "d1 = pd.DataFrame((num_attributes).apply(np.std))\n",
    "d2 = pd.DataFrame(num_attributes).apply(min)\n",
    "d3 = pd.DataFrame(num_attributes).apply(max)\n",
    "d4 = pd.DataFrame(num_attributes).apply(lambda x: x.max() - x.min())\n",
    "d5 = pd.DataFrame(num_attributes).apply(lambda x: x.skew())\n",
    "d6 = pd.DataFrame(num_attributes).apply(lambda x: x.kurtosis())\n",
    "\n",
    "# Concatenate\n",
    "\n",
    "m = pd.concat([d2, d3, d4, ct1, ct2, d1, d5, d6], axis=1).reset_index()\n",
    "m.columns = ['features', 'min', 'max', 'range', 'mean', 'median', 'std', 'skew', 'kurtosis']\n",
    "#m"
   ]
  },
  {
   "cell_type": "markdown",
   "id": "3c925915",
   "metadata": {
    "heading_collapsed": true,
    "hidden": true
   },
   "source": [
    "### 3.7.2 Categorical Attributes"
   ]
  },
  {
   "cell_type": "code",
   "execution_count": 52,
   "id": "1cba06b7",
   "metadata": {
    "hidden": true
   },
   "outputs": [
    {
     "data": {
      "text/html": [
       "<div>\n",
       "<style scoped>\n",
       "    .dataframe tbody tr th:only-of-type {\n",
       "        vertical-align: middle;\n",
       "    }\n",
       "\n",
       "    .dataframe tbody tr th {\n",
       "        vertical-align: top;\n",
       "    }\n",
       "\n",
       "    .dataframe thead th {\n",
       "        text-align: right;\n",
       "    }\n",
       "</style>\n",
       "<table border=\"1\" class=\"dataframe\">\n",
       "  <thead>\n",
       "    <tr style=\"text-align: right;\">\n",
       "      <th></th>\n",
       "      <th>state_holiday</th>\n",
       "      <th>store_type</th>\n",
       "      <th>assortment</th>\n",
       "      <th>promo_interval</th>\n",
       "      <th>month_map</th>\n",
       "    </tr>\n",
       "  </thead>\n",
       "  <tbody>\n",
       "    <tr>\n",
       "      <th>0</th>\n",
       "      <td>5</td>\n",
       "      <td>4</td>\n",
       "      <td>3</td>\n",
       "      <td>4</td>\n",
       "      <td>12</td>\n",
       "    </tr>\n",
       "  </tbody>\n",
       "</table>\n",
       "</div>"
      ],
      "text/plain": [
       "   state_holiday  store_type  assortment  promo_interval  month_map\n",
       "0              5           4           3               4         12"
      ]
     },
     "execution_count": 52,
     "metadata": {},
     "output_type": "execute_result"
    }
   ],
   "source": [
    "#cat_attributes.apply(lambda x: x.unique().shape)"
   ]
  },
  {
   "cell_type": "code",
   "execution_count": 53,
   "id": "e5e21f8e",
   "metadata": {
    "hidden": true
   },
   "outputs": [
    {
     "data": {
      "text/plain": [
       "<AxesSubplot:xlabel='assortment', ylabel='sales'>"
      ]
     },
     "execution_count": 53,
     "metadata": {},
     "output_type": "execute_result"
    },
    {
     "data": {
      "image/png": "[encoded data removed]",
      "text/plain": [
       "<Figure size 1152x576 with 3 Axes>"
      ]
     },
     "metadata": {},
     "output_type": "display_data"
    }
   ],
   "source": [
    "'''\n",
    "ax1 = df1[df1['sales'] > 0]\n",
    "plt.subplot(1, 3, 1)\n",
    "sns.boxplot(x='state_holiday', y='sales', data=ax1)\n",
    "\n",
    "plt.subplot(1, 3, 2)\n",
    "sns.boxplot(x='store_type', y='sales', data=ax1)\n",
    "\n",
    "plt.subplot(1, 3, 3)\n",
    "sns.boxplot(x='assortment', y='sales', data=ax1)\n",
    "'''"
   ]
  },
  {
   "cell_type": "markdown",
   "id": "ea0cbb80",
   "metadata": {},
   "source": [
    "# 4 Feature Engineering"
   ]
  },
  {
   "cell_type": "code",
   "execution_count": 55,
   "id": "fe7dab69",
   "metadata": {},
   "outputs": [],
   "source": [
    "df2 = df1.copy()"
   ]
  },
  {
   "cell_type": "markdown",
   "id": "5ca22890",
   "metadata": {
    "heading_collapsed": true
   },
   "source": [
    "## 4.1 Mind Map Hypothesis"
   ]
  },
  {
   "cell_type": "markdown",
   "id": "f504efb0",
   "metadata": {
    "hidden": true
   },
   "source": [
    "Mind Map Hypothesis\n",
    "\n",
    "Phenomenon\n",
    "- Sales forecast\n",
    "\n",
    "Agents:\n",
    "- Customers, stores, time and products\n",
    "\n",
    "Agents attributes\n",
    "- Image below\n",
    "\n",
    "Hypothesis:\n",
    "- Topics below"
   ]
  },
  {
   "cell_type": "code",
   "execution_count": 56,
   "id": "b50ac234",
   "metadata": {
    "hidden": true
   },
   "outputs": [
    {
     "data": {
      "image/png": "[encoded data removed]",
      "text/plain": [
       "<IPython.core.display.Image object>"
      ]
     },
     "execution_count": 56,
     "metadata": {},
     "output_type": "execute_result"
    }
   ],
   "source": [
    "Image('../img/Dayle_Sales_Store.png')"
   ]
  },
  {
   "cell_type": "markdown",
   "id": "2b8496cc",
   "metadata": {
    "hidden": true
   },
   "source": [
    "### 4.1.1 Store Hyphotesis"
   ]
  },
  {
   "cell_type": "markdown",
   "id": "78d84251",
   "metadata": {
    "hidden": true
   },
   "source": [
    "1. Lojas maiores deveriam vender mais;\n",
    "\n",
    "2. Lojas com mais funcionários deveriam vender mais;\n",
    "\n",
    "3. Lojas com concorrentes por perto deveriam vender menos;\n",
    "\n",
    "4. Lojas com maior estoque deveriam vender mais;\n",
    "\n",
    "5. Lojas com mais produtos na vitrine deveriam vender mais;\n",
    "\n",
    "6. Lojas com maior sortimento deveriam vender mais; \n",
    "\n",
    "7. Lojas com concorrentes a mais tempo deveriam vender mais;\n",
    "\n",
    "8. Lojas com promoção ativas deveriam vender mais;\n",
    "\n",
    "9. Lojas com promoção ativas por mais tempo deveriam vender mais;\n",
    "\n",
    "10. Lojas com promoção consecutivas deveriam vender mais; "
   ]
  },
  {
   "cell_type": "markdown",
   "id": "2ffe8d4c",
   "metadata": {
    "hidden": true
   },
   "source": [
    "### 4.1.2 Product Hyphotesis"
   ]
  },
  {
   "cell_type": "markdown",
   "id": "5f2e6a27",
   "metadata": {
    "hidden": true
   },
   "source": [
    "1. Produtos mais baratos deveriam vender mais;\n",
    "\n",
    "2. Produtos em promoção deveriam vender mais;\n",
    "\n",
    "3. Produtos mais caros deveriam vender menos;\n",
    "\n",
    "4. Produtos com maior qualidade deveriam vender mais;"
   ]
  },
  {
   "cell_type": "markdown",
   "id": "f76518f0",
   "metadata": {
    "hidden": true
   },
   "source": [
    "### 4.1.3 Time Hyphotesis"
   ]
  },
  {
   "cell_type": "markdown",
   "id": "adaf8431",
   "metadata": {
    "hidden": true
   },
   "source": [
    "1. No segundo semestre deveriam aumentar as vendas;\n",
    "\n",
    "2. No verão as vendas deveriam ser maiores;\n",
    "\n",
    "3. No final de semana as vendas são menores;\n",
    "\n",
    "4. Durante as férias escolares as vendas são menores;\n",
    "\n",
    "5. No natal as vendas são maiores; \n",
    "\n",
    "6. As vendas são maiores com o passar dos anos;"
   ]
  },
  {
   "cell_type": "markdown",
   "id": "63f028ae",
   "metadata": {
    "heading_collapsed": true
   },
   "source": [
    "## 4.2 Hyphotesis List"
   ]
  },
  {
   "cell_type": "markdown",
   "id": "0472d983",
   "metadata": {
    "hidden": true
   },
   "source": [
    "1. Lojas com maior sortimento deveriam vender mais; \n",
    "\n",
    "2. Lojas com concorrentes por perto deveriam vender menos;\n",
    "\n",
    "3. Lojas com concorrentes a mais tempo deveriam vender mais;\n",
    "\n",
    "4. Lojas com promoção ativas deveriam vender mais;\n",
    "\n",
    "5. Lojas com promoção ativas por mais tempo deveriam vender mais;\n",
    "\n",
    "6. Lojas com promoção consecutivas deveriam vender mais; \n",
    "\n",
    "7. No natal as vendas são maiores; \n",
    "\n",
    "8. As vendas são maiores com o passar dos anos;\n",
    "\n",
    "9. No segundo semestre deveriam aumentar as vendas;\n",
    "\n",
    "10. No final de semana as vendas são menores;\n",
    "\n",
    "11. Durante as férias escolares as vendas são menores;\n",
    "\n",
    "12. Depois do dia 10 de cada mais as vendas deveriam ser maiores;"
   ]
  },
  {
   "cell_type": "markdown",
   "id": "edf097e9",
   "metadata": {},
   "source": [
    "## 4.3 Feature Engineering"
   ]
  },
  {
   "cell_type": "code",
   "execution_count": 104,
   "id": "371a473c",
   "metadata": {},
   "outputs": [],
   "source": [
    "# year\n",
    "df2['year'] = df2['date'].dt.year\n",
    "\n",
    "# month\n",
    "df2['month'] = df2['date'].dt.month\n",
    "\n",
    "# day\n",
    "df2['day'] = df2['date'].dt.day\n",
    "\n",
    "# week of year\n",
    "df2['week_of_year'] = df2['date'].dt.isocalendar().week\n",
    "\n",
    "# year week\n",
    "df2['year_week'] = df2['date'].dt.strftime('%Y-%W')\n",
    "\n",
    "# competition since\n",
    "df2['competition_since'] = df2.apply(lambda x: datetime(year=x['competition_open_since_year'], month=x['competition_open_since_month'], day=1), axis=1)\n",
    "df2['competition_time_month'] = ((df2['date'] - df2['competition_since']) / 30).apply(lambda x: x.days).astype(int)\n",
    "\n",
    "# promo since\n",
    "df2['promo_since'] = df2['promo2_since_year'].astype(str) + '-' + df2['promo2_since_week'].astype(str)\n",
    "df2['promo_since'] = df2['promo_since'].apply(lambda x: datetime.strptime(x + '-1', '%Y-%W-%w') - timedelta(days=7))\n",
    "df2['promo_time_week'] = ((df2['date'] - df2['promo_since']) / 7).apply(lambda x: x.days).astype(int)\n",
    "\n",
    "# Assortment\n",
    "df2['assortment'] = df2['assortment'].apply(lambda x: 'basic' if x == 'a' else 'extra' if x == 'b'else 'extended')\n",
    "\n",
    "# state holiday\n",
    "df2['state_holiday'] = df2['state_holiday'].apply(lambda x: 'public_holiday' if x == 'a' else 'easter_holiday' if x == 'b' else 'christmas' if x == 'c' else 'regular_day')"
   ]
  },
  {
   "cell_type": "code",
   "execution_count": 103,
   "id": "662e7063",
   "metadata": {},
   "outputs": [
    {
     "data": {
      "text/html": [
       "<div>\n",
       "<style scoped>\n",
       "    .dataframe tbody tr th:only-of-type {\n",
       "        vertical-align: middle;\n",
       "    }\n",
       "\n",
       "    .dataframe tbody tr th {\n",
       "        vertical-align: top;\n",
       "    }\n",
       "\n",
       "    .dataframe thead th {\n",
       "        text-align: right;\n",
       "    }\n",
       "</style>\n",
       "<table border=\"1\" class=\"dataframe\">\n",
       "  <thead>\n",
       "    <tr style=\"text-align: right;\">\n",
       "      <th></th>\n",
       "      <th>0</th>\n",
       "      <th>1</th>\n",
       "      <th>2</th>\n",
       "      <th>3</th>\n",
       "      <th>4</th>\n",
       "      <th>5</th>\n",
       "      <th>6</th>\n",
       "      <th>7</th>\n",
       "      <th>8</th>\n",
       "      <th>9</th>\n",
       "      <th>...</th>\n",
       "      <th>1017199</th>\n",
       "      <th>1017200</th>\n",
       "      <th>1017201</th>\n",
       "      <th>1017202</th>\n",
       "      <th>1017203</th>\n",
       "      <th>1017204</th>\n",
       "      <th>1017205</th>\n",
       "      <th>1017206</th>\n",
       "      <th>1017207</th>\n",
       "      <th>1017208</th>\n",
       "    </tr>\n",
       "  </thead>\n",
       "  <tbody>\n",
       "    <tr>\n",
       "      <th>store</th>\n",
       "      <td>1</td>\n",
       "      <td>1</td>\n",
       "      <td>1</td>\n",
       "      <td>1</td>\n",
       "      <td>1</td>\n",
       "      <td>1</td>\n",
       "      <td>1</td>\n",
       "      <td>1</td>\n",
       "      <td>1</td>\n",
       "      <td>1</td>\n",
       "      <td>...</td>\n",
       "      <td>1115</td>\n",
       "      <td>1115</td>\n",
       "      <td>1115</td>\n",
       "      <td>1115</td>\n",
       "      <td>1115</td>\n",
       "      <td>1115</td>\n",
       "      <td>1115</td>\n",
       "      <td>1115</td>\n",
       "      <td>1115</td>\n",
       "      <td>1115</td>\n",
       "    </tr>\n",
       "    <tr>\n",
       "      <th>day_of_week</th>\n",
       "      <td>5</td>\n",
       "      <td>4</td>\n",
       "      <td>3</td>\n",
       "      <td>2</td>\n",
       "      <td>1</td>\n",
       "      <td>7</td>\n",
       "      <td>6</td>\n",
       "      <td>5</td>\n",
       "      <td>4</td>\n",
       "      <td>3</td>\n",
       "      <td>...</td>\n",
       "      <td>4</td>\n",
       "      <td>3</td>\n",
       "      <td>2</td>\n",
       "      <td>1</td>\n",
       "      <td>7</td>\n",
       "      <td>6</td>\n",
       "      <td>5</td>\n",
       "      <td>4</td>\n",
       "      <td>3</td>\n",
       "      <td>2</td>\n",
       "    </tr>\n",
       "    <tr>\n",
       "      <th>date</th>\n",
       "      <td>2015-07-31 00:00:00</td>\n",
       "      <td>2015-07-30 00:00:00</td>\n",
       "      <td>2015-07-29 00:00:00</td>\n",
       "      <td>2015-07-28 00:00:00</td>\n",
       "      <td>2015-07-27 00:00:00</td>\n",
       "      <td>2015-07-26 00:00:00</td>\n",
       "      <td>2015-07-25 00:00:00</td>\n",
       "      <td>2015-07-24 00:00:00</td>\n",
       "      <td>2015-07-23 00:00:00</td>\n",
       "      <td>2015-07-22 00:00:00</td>\n",
       "      <td>...</td>\n",
       "      <td>2013-01-10 00:00:00</td>\n",
       "      <td>2013-01-09 00:00:00</td>\n",
       "      <td>2013-01-08 00:00:00</td>\n",
       "      <td>2013-01-07 00:00:00</td>\n",
       "      <td>2013-01-06 00:00:00</td>\n",
       "      <td>2013-01-05 00:00:00</td>\n",
       "      <td>2013-01-04 00:00:00</td>\n",
       "      <td>2013-01-03 00:00:00</td>\n",
       "      <td>2013-01-02 00:00:00</td>\n",
       "      <td>2013-01-01 00:00:00</td>\n",
       "    </tr>\n",
       "    <tr>\n",
       "      <th>sales</th>\n",
       "      <td>5263</td>\n",
       "      <td>5020</td>\n",
       "      <td>4782</td>\n",
       "      <td>5011</td>\n",
       "      <td>6102</td>\n",
       "      <td>0</td>\n",
       "      <td>4364</td>\n",
       "      <td>3706</td>\n",
       "      <td>3769</td>\n",
       "      <td>3464</td>\n",
       "      <td>...</td>\n",
       "      <td>5007</td>\n",
       "      <td>4649</td>\n",
       "      <td>5243</td>\n",
       "      <td>6905</td>\n",
       "      <td>0</td>\n",
       "      <td>4771</td>\n",
       "      <td>4540</td>\n",
       "      <td>4297</td>\n",
       "      <td>3697</td>\n",
       "      <td>0</td>\n",
       "    </tr>\n",
       "    <tr>\n",
       "      <th>customers</th>\n",
       "      <td>555</td>\n",
       "      <td>546</td>\n",
       "      <td>523</td>\n",
       "      <td>560</td>\n",
       "      <td>612</td>\n",
       "      <td>0</td>\n",
       "      <td>500</td>\n",
       "      <td>459</td>\n",
       "      <td>503</td>\n",
       "      <td>463</td>\n",
       "      <td>...</td>\n",
       "      <td>339</td>\n",
       "      <td>324</td>\n",
       "      <td>341</td>\n",
       "      <td>471</td>\n",
       "      <td>0</td>\n",
       "      <td>339</td>\n",
       "      <td>326</td>\n",
       "      <td>300</td>\n",
       "      <td>305</td>\n",
       "      <td>0</td>\n",
       "    </tr>\n",
       "    <tr>\n",
       "      <th>open</th>\n",
       "      <td>1</td>\n",
       "      <td>1</td>\n",
       "      <td>1</td>\n",
       "      <td>1</td>\n",
       "      <td>1</td>\n",
       "      <td>0</td>\n",
       "      <td>1</td>\n",
       "      <td>1</td>\n",
       "      <td>1</td>\n",
       "      <td>1</td>\n",
       "      <td>...</td>\n",
       "      <td>1</td>\n",
       "      <td>1</td>\n",
       "      <td>1</td>\n",
       "      <td>1</td>\n",
       "      <td>0</td>\n",
       "      <td>1</td>\n",
       "      <td>1</td>\n",
       "      <td>1</td>\n",
       "      <td>1</td>\n",
       "      <td>0</td>\n",
       "    </tr>\n",
       "    <tr>\n",
       "      <th>promo</th>\n",
       "      <td>1</td>\n",
       "      <td>1</td>\n",
       "      <td>1</td>\n",
       "      <td>1</td>\n",
       "      <td>1</td>\n",
       "      <td>0</td>\n",
       "      <td>0</td>\n",
       "      <td>0</td>\n",
       "      <td>0</td>\n",
       "      <td>0</td>\n",
       "      <td>...</td>\n",
       "      <td>1</td>\n",
       "      <td>1</td>\n",
       "      <td>1</td>\n",
       "      <td>1</td>\n",
       "      <td>0</td>\n",
       "      <td>0</td>\n",
       "      <td>0</td>\n",
       "      <td>0</td>\n",
       "      <td>0</td>\n",
       "      <td>0</td>\n",
       "    </tr>\n",
       "    <tr>\n",
       "      <th>state_holiday</th>\n",
       "      <td>regulra_day</td>\n",
       "      <td>regulra_day</td>\n",
       "      <td>regulra_day</td>\n",
       "      <td>regulra_day</td>\n",
       "      <td>regulra_day</td>\n",
       "      <td>regulra_day</td>\n",
       "      <td>regulra_day</td>\n",
       "      <td>regulra_day</td>\n",
       "      <td>regulra_day</td>\n",
       "      <td>regulra_day</td>\n",
       "      <td>...</td>\n",
       "      <td>regulra_day</td>\n",
       "      <td>regulra_day</td>\n",
       "      <td>regulra_day</td>\n",
       "      <td>regulra_day</td>\n",
       "      <td>regulra_day</td>\n",
       "      <td>regulra_day</td>\n",
       "      <td>regulra_day</td>\n",
       "      <td>regulra_day</td>\n",
       "      <td>regulra_day</td>\n",
       "      <td>public_holiday</td>\n",
       "    </tr>\n",
       "    <tr>\n",
       "      <th>school_holiday</th>\n",
       "      <td>1</td>\n",
       "      <td>1</td>\n",
       "      <td>1</td>\n",
       "      <td>1</td>\n",
       "      <td>1</td>\n",
       "      <td>0</td>\n",
       "      <td>0</td>\n",
       "      <td>0</td>\n",
       "      <td>0</td>\n",
       "      <td>0</td>\n",
       "      <td>...</td>\n",
       "      <td>1</td>\n",
       "      <td>1</td>\n",
       "      <td>1</td>\n",
       "      <td>1</td>\n",
       "      <td>1</td>\n",
       "      <td>1</td>\n",
       "      <td>1</td>\n",
       "      <td>1</td>\n",
       "      <td>1</td>\n",
       "      <td>1</td>\n",
       "    </tr>\n",
       "    <tr>\n",
       "      <th>store_type</th>\n",
       "      <td>c</td>\n",
       "      <td>c</td>\n",
       "      <td>c</td>\n",
       "      <td>c</td>\n",
       "      <td>c</td>\n",
       "      <td>c</td>\n",
       "      <td>c</td>\n",
       "      <td>c</td>\n",
       "      <td>c</td>\n",
       "      <td>c</td>\n",
       "      <td>...</td>\n",
       "      <td>d</td>\n",
       "      <td>d</td>\n",
       "      <td>d</td>\n",
       "      <td>d</td>\n",
       "      <td>d</td>\n",
       "      <td>d</td>\n",
       "      <td>d</td>\n",
       "      <td>d</td>\n",
       "      <td>d</td>\n",
       "      <td>d</td>\n",
       "    </tr>\n",
       "    <tr>\n",
       "      <th>assortment</th>\n",
       "      <td>basic</td>\n",
       "      <td>basic</td>\n",
       "      <td>basic</td>\n",
       "      <td>basic</td>\n",
       "      <td>basic</td>\n",
       "      <td>basic</td>\n",
       "      <td>basic</td>\n",
       "      <td>basic</td>\n",
       "      <td>basic</td>\n",
       "      <td>basic</td>\n",
       "      <td>...</td>\n",
       "      <td>extended</td>\n",
       "      <td>extended</td>\n",
       "      <td>extended</td>\n",
       "      <td>extended</td>\n",
       "      <td>extended</td>\n",
       "      <td>extended</td>\n",
       "      <td>extended</td>\n",
       "      <td>extended</td>\n",
       "      <td>extended</td>\n",
       "      <td>extended</td>\n",
       "    </tr>\n",
       "    <tr>\n",
       "      <th>competition_distance</th>\n",
       "      <td>1270.00</td>\n",
       "      <td>1270.00</td>\n",
       "      <td>1270.00</td>\n",
       "      <td>1270.00</td>\n",
       "      <td>1270.00</td>\n",
       "      <td>1270.00</td>\n",
       "      <td>1270.00</td>\n",
       "      <td>1270.00</td>\n",
       "      <td>1270.00</td>\n",
       "      <td>1270.00</td>\n",
       "      <td>...</td>\n",
       "      <td>5350.00</td>\n",
       "      <td>5350.00</td>\n",
       "      <td>5350.00</td>\n",
       "      <td>5350.00</td>\n",
       "      <td>5350.00</td>\n",
       "      <td>5350.00</td>\n",
       "      <td>5350.00</td>\n",
       "      <td>5350.00</td>\n",
       "      <td>5350.00</td>\n",
       "      <td>5350.00</td>\n",
       "    </tr>\n",
       "    <tr>\n",
       "      <th>competition_open_since_month</th>\n",
       "      <td>9</td>\n",
       "      <td>9</td>\n",
       "      <td>9</td>\n",
       "      <td>9</td>\n",
       "      <td>9</td>\n",
       "      <td>9</td>\n",
       "      <td>9</td>\n",
       "      <td>9</td>\n",
       "      <td>9</td>\n",
       "      <td>9</td>\n",
       "      <td>...</td>\n",
       "      <td>1</td>\n",
       "      <td>1</td>\n",
       "      <td>1</td>\n",
       "      <td>1</td>\n",
       "      <td>1</td>\n",
       "      <td>1</td>\n",
       "      <td>1</td>\n",
       "      <td>1</td>\n",
       "      <td>1</td>\n",
       "      <td>1</td>\n",
       "    </tr>\n",
       "    <tr>\n",
       "      <th>competition_open_since_year</th>\n",
       "      <td>2008</td>\n",
       "      <td>2008</td>\n",
       "      <td>2008</td>\n",
       "      <td>2008</td>\n",
       "      <td>2008</td>\n",
       "      <td>2008</td>\n",
       "      <td>2008</td>\n",
       "      <td>2008</td>\n",
       "      <td>2008</td>\n",
       "      <td>2008</td>\n",
       "      <td>...</td>\n",
       "      <td>2013</td>\n",
       "      <td>2013</td>\n",
       "      <td>2013</td>\n",
       "      <td>2013</td>\n",
       "      <td>2013</td>\n",
       "      <td>2013</td>\n",
       "      <td>2013</td>\n",
       "      <td>2013</td>\n",
       "      <td>2013</td>\n",
       "      <td>2013</td>\n",
       "    </tr>\n",
       "    <tr>\n",
       "      <th>promo2</th>\n",
       "      <td>0</td>\n",
       "      <td>0</td>\n",
       "      <td>0</td>\n",
       "      <td>0</td>\n",
       "      <td>0</td>\n",
       "      <td>0</td>\n",
       "      <td>0</td>\n",
       "      <td>0</td>\n",
       "      <td>0</td>\n",
       "      <td>0</td>\n",
       "      <td>...</td>\n",
       "      <td>1</td>\n",
       "      <td>1</td>\n",
       "      <td>1</td>\n",
       "      <td>1</td>\n",
       "      <td>1</td>\n",
       "      <td>1</td>\n",
       "      <td>1</td>\n",
       "      <td>1</td>\n",
       "      <td>1</td>\n",
       "      <td>1</td>\n",
       "    </tr>\n",
       "    <tr>\n",
       "      <th>promo2_since_week</th>\n",
       "      <td>31</td>\n",
       "      <td>31</td>\n",
       "      <td>31</td>\n",
       "      <td>31</td>\n",
       "      <td>31</td>\n",
       "      <td>30</td>\n",
       "      <td>30</td>\n",
       "      <td>30</td>\n",
       "      <td>30</td>\n",
       "      <td>30</td>\n",
       "      <td>...</td>\n",
       "      <td>22</td>\n",
       "      <td>22</td>\n",
       "      <td>22</td>\n",
       "      <td>22</td>\n",
       "      <td>22</td>\n",
       "      <td>22</td>\n",
       "      <td>22</td>\n",
       "      <td>22</td>\n",
       "      <td>22</td>\n",
       "      <td>22</td>\n",
       "    </tr>\n",
       "    <tr>\n",
       "      <th>promo2_since_year</th>\n",
       "      <td>2015</td>\n",
       "      <td>2015</td>\n",
       "      <td>2015</td>\n",
       "      <td>2015</td>\n",
       "      <td>2015</td>\n",
       "      <td>2015</td>\n",
       "      <td>2015</td>\n",
       "      <td>2015</td>\n",
       "      <td>2015</td>\n",
       "      <td>2015</td>\n",
       "      <td>...</td>\n",
       "      <td>2012</td>\n",
       "      <td>2012</td>\n",
       "      <td>2012</td>\n",
       "      <td>2012</td>\n",
       "      <td>2012</td>\n",
       "      <td>2012</td>\n",
       "      <td>2012</td>\n",
       "      <td>2012</td>\n",
       "      <td>2012</td>\n",
       "      <td>2012</td>\n",
       "    </tr>\n",
       "    <tr>\n",
       "      <th>promo_interval</th>\n",
       "      <td>0</td>\n",
       "      <td>0</td>\n",
       "      <td>0</td>\n",
       "      <td>0</td>\n",
       "      <td>0</td>\n",
       "      <td>0</td>\n",
       "      <td>0</td>\n",
       "      <td>0</td>\n",
       "      <td>0</td>\n",
       "      <td>0</td>\n",
       "      <td>...</td>\n",
       "      <td>Mar,Jun,Sept,Dec</td>\n",
       "      <td>Mar,Jun,Sept,Dec</td>\n",
       "      <td>Mar,Jun,Sept,Dec</td>\n",
       "      <td>Mar,Jun,Sept,Dec</td>\n",
       "      <td>Mar,Jun,Sept,Dec</td>\n",
       "      <td>Mar,Jun,Sept,Dec</td>\n",
       "      <td>Mar,Jun,Sept,Dec</td>\n",
       "      <td>Mar,Jun,Sept,Dec</td>\n",
       "      <td>Mar,Jun,Sept,Dec</td>\n",
       "      <td>Mar,Jun,Sept,Dec</td>\n",
       "    </tr>\n",
       "    <tr>\n",
       "      <th>month_map</th>\n",
       "      <td>Jul</td>\n",
       "      <td>Jul</td>\n",
       "      <td>Jul</td>\n",
       "      <td>Jul</td>\n",
       "      <td>Jul</td>\n",
       "      <td>Jul</td>\n",
       "      <td>Jul</td>\n",
       "      <td>Jul</td>\n",
       "      <td>Jul</td>\n",
       "      <td>Jul</td>\n",
       "      <td>...</td>\n",
       "      <td>Jan</td>\n",
       "      <td>Jan</td>\n",
       "      <td>Jan</td>\n",
       "      <td>Jan</td>\n",
       "      <td>Jan</td>\n",
       "      <td>Jan</td>\n",
       "      <td>Jan</td>\n",
       "      <td>Jan</td>\n",
       "      <td>Jan</td>\n",
       "      <td>Jan</td>\n",
       "    </tr>\n",
       "    <tr>\n",
       "      <th>is_promo</th>\n",
       "      <td>0</td>\n",
       "      <td>0</td>\n",
       "      <td>0</td>\n",
       "      <td>0</td>\n",
       "      <td>0</td>\n",
       "      <td>0</td>\n",
       "      <td>0</td>\n",
       "      <td>0</td>\n",
       "      <td>0</td>\n",
       "      <td>0</td>\n",
       "      <td>...</td>\n",
       "      <td>0</td>\n",
       "      <td>0</td>\n",
       "      <td>0</td>\n",
       "      <td>0</td>\n",
       "      <td>0</td>\n",
       "      <td>0</td>\n",
       "      <td>0</td>\n",
       "      <td>0</td>\n",
       "      <td>0</td>\n",
       "      <td>0</td>\n",
       "    </tr>\n",
       "    <tr>\n",
       "      <th>year</th>\n",
       "      <td>2015</td>\n",
       "      <td>2015</td>\n",
       "      <td>2015</td>\n",
       "      <td>2015</td>\n",
       "      <td>2015</td>\n",
       "      <td>2015</td>\n",
       "      <td>2015</td>\n",
       "      <td>2015</td>\n",
       "      <td>2015</td>\n",
       "      <td>2015</td>\n",
       "      <td>...</td>\n",
       "      <td>2013</td>\n",
       "      <td>2013</td>\n",
       "      <td>2013</td>\n",
       "      <td>2013</td>\n",
       "      <td>2013</td>\n",
       "      <td>2013</td>\n",
       "      <td>2013</td>\n",
       "      <td>2013</td>\n",
       "      <td>2013</td>\n",
       "      <td>2013</td>\n",
       "    </tr>\n",
       "    <tr>\n",
       "      <th>month</th>\n",
       "      <td>7</td>\n",
       "      <td>7</td>\n",
       "      <td>7</td>\n",
       "      <td>7</td>\n",
       "      <td>7</td>\n",
       "      <td>7</td>\n",
       "      <td>7</td>\n",
       "      <td>7</td>\n",
       "      <td>7</td>\n",
       "      <td>7</td>\n",
       "      <td>...</td>\n",
       "      <td>1</td>\n",
       "      <td>1</td>\n",
       "      <td>1</td>\n",
       "      <td>1</td>\n",
       "      <td>1</td>\n",
       "      <td>1</td>\n",
       "      <td>1</td>\n",
       "      <td>1</td>\n",
       "      <td>1</td>\n",
       "      <td>1</td>\n",
       "    </tr>\n",
       "    <tr>\n",
       "      <th>day</th>\n",
       "      <td>31</td>\n",
       "      <td>30</td>\n",
       "      <td>29</td>\n",
       "      <td>28</td>\n",
       "      <td>27</td>\n",
       "      <td>26</td>\n",
       "      <td>25</td>\n",
       "      <td>24</td>\n",
       "      <td>23</td>\n",
       "      <td>22</td>\n",
       "      <td>...</td>\n",
       "      <td>10</td>\n",
       "      <td>9</td>\n",
       "      <td>8</td>\n",
       "      <td>7</td>\n",
       "      <td>6</td>\n",
       "      <td>5</td>\n",
       "      <td>4</td>\n",
       "      <td>3</td>\n",
       "      <td>2</td>\n",
       "      <td>1</td>\n",
       "    </tr>\n",
       "    <tr>\n",
       "      <th>week_of_year</th>\n",
       "      <td>31</td>\n",
       "      <td>31</td>\n",
       "      <td>31</td>\n",
       "      <td>31</td>\n",
       "      <td>31</td>\n",
       "      <td>30</td>\n",
       "      <td>30</td>\n",
       "      <td>30</td>\n",
       "      <td>30</td>\n",
       "      <td>30</td>\n",
       "      <td>...</td>\n",
       "      <td>2</td>\n",
       "      <td>2</td>\n",
       "      <td>2</td>\n",
       "      <td>2</td>\n",
       "      <td>1</td>\n",
       "      <td>1</td>\n",
       "      <td>1</td>\n",
       "      <td>1</td>\n",
       "      <td>1</td>\n",
       "      <td>1</td>\n",
       "    </tr>\n",
       "    <tr>\n",
       "      <th>year_week</th>\n",
       "      <td>2015-30</td>\n",
       "      <td>2015-30</td>\n",
       "      <td>2015-30</td>\n",
       "      <td>2015-30</td>\n",
       "      <td>2015-30</td>\n",
       "      <td>2015-29</td>\n",
       "      <td>2015-29</td>\n",
       "      <td>2015-29</td>\n",
       "      <td>2015-29</td>\n",
       "      <td>2015-29</td>\n",
       "      <td>...</td>\n",
       "      <td>2013-01</td>\n",
       "      <td>2013-01</td>\n",
       "      <td>2013-01</td>\n",
       "      <td>2013-01</td>\n",
       "      <td>2013-00</td>\n",
       "      <td>2013-00</td>\n",
       "      <td>2013-00</td>\n",
       "      <td>2013-00</td>\n",
       "      <td>2013-00</td>\n",
       "      <td>2013-00</td>\n",
       "    </tr>\n",
       "    <tr>\n",
       "      <th>competition_since</th>\n",
       "      <td>2008-09-01 00:00:00</td>\n",
       "      <td>2008-09-01 00:00:00</td>\n",
       "      <td>2008-09-01 00:00:00</td>\n",
       "      <td>2008-09-01 00:00:00</td>\n",
       "      <td>2008-09-01 00:00:00</td>\n",
       "      <td>2008-09-01 00:00:00</td>\n",
       "      <td>2008-09-01 00:00:00</td>\n",
       "      <td>2008-09-01 00:00:00</td>\n",
       "      <td>2008-09-01 00:00:00</td>\n",
       "      <td>2008-09-01 00:00:00</td>\n",
       "      <td>...</td>\n",
       "      <td>2013-01-01 00:00:00</td>\n",
       "      <td>2013-01-01 00:00:00</td>\n",
       "      <td>2013-01-01 00:00:00</td>\n",
       "      <td>2013-01-01 00:00:00</td>\n",
       "      <td>2013-01-01 00:00:00</td>\n",
       "      <td>2013-01-01 00:00:00</td>\n",
       "      <td>2013-01-01 00:00:00</td>\n",
       "      <td>2013-01-01 00:00:00</td>\n",
       "      <td>2013-01-01 00:00:00</td>\n",
       "      <td>2013-01-01 00:00:00</td>\n",
       "    </tr>\n",
       "    <tr>\n",
       "      <th>competition_time_month</th>\n",
       "      <td>84</td>\n",
       "      <td>84</td>\n",
       "      <td>84</td>\n",
       "      <td>84</td>\n",
       "      <td>84</td>\n",
       "      <td>83</td>\n",
       "      <td>83</td>\n",
       "      <td>83</td>\n",
       "      <td>83</td>\n",
       "      <td>83</td>\n",
       "      <td>...</td>\n",
       "      <td>0</td>\n",
       "      <td>0</td>\n",
       "      <td>0</td>\n",
       "      <td>0</td>\n",
       "      <td>0</td>\n",
       "      <td>0</td>\n",
       "      <td>0</td>\n",
       "      <td>0</td>\n",
       "      <td>0</td>\n",
       "      <td>0</td>\n",
       "    </tr>\n",
       "    <tr>\n",
       "      <th>promotion_since</th>\n",
       "      <td>2015-31</td>\n",
       "      <td>2015-31</td>\n",
       "      <td>2015-31</td>\n",
       "      <td>2015-31</td>\n",
       "      <td>2015-31</td>\n",
       "      <td>2015-30</td>\n",
       "      <td>2015-30</td>\n",
       "      <td>2015-30</td>\n",
       "      <td>2015-30</td>\n",
       "      <td>2015-30</td>\n",
       "      <td>...</td>\n",
       "      <td>2012-22</td>\n",
       "      <td>2012-22</td>\n",
       "      <td>2012-22</td>\n",
       "      <td>2012-22</td>\n",
       "      <td>2012-22</td>\n",
       "      <td>2012-22</td>\n",
       "      <td>2012-22</td>\n",
       "      <td>2012-22</td>\n",
       "      <td>2012-22</td>\n",
       "      <td>2012-22</td>\n",
       "    </tr>\n",
       "    <tr>\n",
       "      <th>promo_since</th>\n",
       "      <td>2015-07-27 00:00:00</td>\n",
       "      <td>2015-07-27 00:00:00</td>\n",
       "      <td>2015-07-27 00:00:00</td>\n",
       "      <td>2015-07-27 00:00:00</td>\n",
       "      <td>2015-07-27 00:00:00</td>\n",
       "      <td>2015-07-20 00:00:00</td>\n",
       "      <td>2015-07-20 00:00:00</td>\n",
       "      <td>2015-07-20 00:00:00</td>\n",
       "      <td>2015-07-20 00:00:00</td>\n",
       "      <td>2015-07-20 00:00:00</td>\n",
       "      <td>...</td>\n",
       "      <td>2012-05-21 00:00:00</td>\n",
       "      <td>2012-05-21 00:00:00</td>\n",
       "      <td>2012-05-21 00:00:00</td>\n",
       "      <td>2012-05-21 00:00:00</td>\n",
       "      <td>2012-05-21 00:00:00</td>\n",
       "      <td>2012-05-21 00:00:00</td>\n",
       "      <td>2012-05-21 00:00:00</td>\n",
       "      <td>2012-05-21 00:00:00</td>\n",
       "      <td>2012-05-21 00:00:00</td>\n",
       "      <td>2012-05-21 00:00:00</td>\n",
       "    </tr>\n",
       "    <tr>\n",
       "      <th>promo_time_week</th>\n",
       "      <td>0</td>\n",
       "      <td>0</td>\n",
       "      <td>0</td>\n",
       "      <td>0</td>\n",
       "      <td>0</td>\n",
       "      <td>0</td>\n",
       "      <td>0</td>\n",
       "      <td>0</td>\n",
       "      <td>0</td>\n",
       "      <td>0</td>\n",
       "      <td>...</td>\n",
       "      <td>33</td>\n",
       "      <td>33</td>\n",
       "      <td>33</td>\n",
       "      <td>33</td>\n",
       "      <td>32</td>\n",
       "      <td>32</td>\n",
       "      <td>32</td>\n",
       "      <td>32</td>\n",
       "      <td>32</td>\n",
       "      <td>32</td>\n",
       "    </tr>\n",
       "  </tbody>\n",
       "</table>\n",
       "<p>30 rows × 1017209 columns</p>\n",
       "</div>"
      ],
      "text/plain": [
       "                                          0                    1        \\\n",
       "store                                           1                    1   \n",
       "day_of_week                                     5                    4   \n",
       "date                          2015-07-31 00:00:00  2015-07-30 00:00:00   \n",
       "sales                                        5263                 5020   \n",
       "customers                                     555                  546   \n",
       "open                                            1                    1   \n",
       "promo                                           1                    1   \n",
       "state_holiday                         regulra_day          regulra_day   \n",
       "school_holiday                                  1                    1   \n",
       "store_type                                      c                    c   \n",
       "assortment                                  basic                basic   \n",
       "competition_distance                      1270.00              1270.00   \n",
       "competition_open_since_month                    9                    9   \n",
       "competition_open_since_year                  2008                 2008   \n",
       "promo2                                          0                    0   \n",
       "promo2_since_week                              31                   31   \n",
       "promo2_since_year                            2015                 2015   \n",
       "promo_interval                                  0                    0   \n",
       "month_map                                     Jul                  Jul   \n",
       "is_promo                                        0                    0   \n",
       "year                                         2015                 2015   \n",
       "month                                           7                    7   \n",
       "day                                            31                   30   \n",
       "week_of_year                                   31                   31   \n",
       "year_week                                 2015-30              2015-30   \n",
       "competition_since             2008-09-01 00:00:00  2008-09-01 00:00:00   \n",
       "competition_time_month                         84                   84   \n",
       "promotion_since                           2015-31              2015-31   \n",
       "promo_since                   2015-07-27 00:00:00  2015-07-27 00:00:00   \n",
       "promo_time_week                                 0                    0   \n",
       "\n",
       "                                          2                    3        \\\n",
       "store                                           1                    1   \n",
       "day_of_week                                     3                    2   \n",
       "date                          2015-07-29 00:00:00  2015-07-28 00:00:00   \n",
       "sales                                        4782                 5011   \n",
       "customers                                     523                  560   \n",
       "open                                            1                    1   \n",
       "promo                                           1                    1   \n",
       "state_holiday                         regulra_day          regulra_day   \n",
       "school_holiday                                  1                    1   \n",
       "store_type                                      c                    c   \n",
       "assortment                                  basic                basic   \n",
       "competition_distance                      1270.00              1270.00   \n",
       "competition_open_since_month                    9                    9   \n",
       "competition_open_since_year                  2008                 2008   \n",
       "promo2                                          0                    0   \n",
       "promo2_since_week                              31                   31   \n",
       "promo2_since_year                            2015                 2015   \n",
       "promo_interval                                  0                    0   \n",
       "month_map                                     Jul                  Jul   \n",
       "is_promo                                        0                    0   \n",
       "year                                         2015                 2015   \n",
       "month                                           7                    7   \n",
       "day                                            29                   28   \n",
       "week_of_year                                   31                   31   \n",
       "year_week                                 2015-30              2015-30   \n",
       "competition_since             2008-09-01 00:00:00  2008-09-01 00:00:00   \n",
       "competition_time_month                         84                   84   \n",
       "promotion_since                           2015-31              2015-31   \n",
       "promo_since                   2015-07-27 00:00:00  2015-07-27 00:00:00   \n",
       "promo_time_week                                 0                    0   \n",
       "\n",
       "                                          4                    5        \\\n",
       "store                                           1                    1   \n",
       "day_of_week                                     1                    7   \n",
       "date                          2015-07-27 00:00:00  2015-07-26 00:00:00   \n",
       "sales                                        6102                    0   \n",
       "customers                                     612                    0   \n",
       "open                                            1                    0   \n",
       "promo                                           1                    0   \n",
       "state_holiday                         regulra_day          regulra_day   \n",
       "school_holiday                                  1                    0   \n",
       "store_type                                      c                    c   \n",
       "assortment                                  basic                basic   \n",
       "competition_distance                      1270.00              1270.00   \n",
       "competition_open_since_month                    9                    9   \n",
       "competition_open_since_year                  2008                 2008   \n",
       "promo2                                          0                    0   \n",
       "promo2_since_week                              31                   30   \n",
       "promo2_since_year                            2015                 2015   \n",
       "promo_interval                                  0                    0   \n",
       "month_map                                     Jul                  Jul   \n",
       "is_promo                                        0                    0   \n",
       "year                                         2015                 2015   \n",
       "month                                           7                    7   \n",
       "day                                            27                   26   \n",
       "week_of_year                                   31                   30   \n",
       "year_week                                 2015-30              2015-29   \n",
       "competition_since             2008-09-01 00:00:00  2008-09-01 00:00:00   \n",
       "competition_time_month                         84                   83   \n",
       "promotion_since                           2015-31              2015-30   \n",
       "promo_since                   2015-07-27 00:00:00  2015-07-20 00:00:00   \n",
       "promo_time_week                                 0                    0   \n",
       "\n",
       "                                          6                    7        \\\n",
       "store                                           1                    1   \n",
       "day_of_week                                     6                    5   \n",
       "date                          2015-07-25 00:00:00  2015-07-24 00:00:00   \n",
       "sales                                        4364                 3706   \n",
       "customers                                     500                  459   \n",
       "open                                            1                    1   \n",
       "promo                                           0                    0   \n",
       "state_holiday                         regulra_day          regulra_day   \n",
       "school_holiday                                  0                    0   \n",
       "store_type                                      c                    c   \n",
       "assortment                                  basic                basic   \n",
       "competition_distance                      1270.00              1270.00   \n",
       "competition_open_since_month                    9                    9   \n",
       "competition_open_since_year                  2008                 2008   \n",
       "promo2                                          0                    0   \n",
       "promo2_since_week                              30                   30   \n",
       "promo2_since_year                            2015                 2015   \n",
       "promo_interval                                  0                    0   \n",
       "month_map                                     Jul                  Jul   \n",
       "is_promo                                        0                    0   \n",
       "year                                         2015                 2015   \n",
       "month                                           7                    7   \n",
       "day                                            25                   24   \n",
       "week_of_year                                   30                   30   \n",
       "year_week                                 2015-29              2015-29   \n",
       "competition_since             2008-09-01 00:00:00  2008-09-01 00:00:00   \n",
       "competition_time_month                         83                   83   \n",
       "promotion_since                           2015-30              2015-30   \n",
       "promo_since                   2015-07-20 00:00:00  2015-07-20 00:00:00   \n",
       "promo_time_week                                 0                    0   \n",
       "\n",
       "                                          8                    9        ...  \\\n",
       "store                                           1                    1  ...   \n",
       "day_of_week                                     4                    3  ...   \n",
       "date                          2015-07-23 00:00:00  2015-07-22 00:00:00  ...   \n",
       "sales                                        3769                 3464  ...   \n",
       "customers                                     503                  463  ...   \n",
       "open                                            1                    1  ...   \n",
       "promo                                           0                    0  ...   \n",
       "state_holiday                         regulra_day          regulra_day  ...   \n",
       "school_holiday                                  0                    0  ...   \n",
       "store_type                                      c                    c  ...   \n",
       "assortment                                  basic                basic  ...   \n",
       "competition_distance                      1270.00              1270.00  ...   \n",
       "competition_open_since_month                    9                    9  ...   \n",
       "competition_open_since_year                  2008                 2008  ...   \n",
       "promo2                                          0                    0  ...   \n",
       "promo2_since_week                              30                   30  ...   \n",
       "promo2_since_year                            2015                 2015  ...   \n",
       "promo_interval                                  0                    0  ...   \n",
       "month_map                                     Jul                  Jul  ...   \n",
       "is_promo                                        0                    0  ...   \n",
       "year                                         2015                 2015  ...   \n",
       "month                                           7                    7  ...   \n",
       "day                                            23                   22  ...   \n",
       "week_of_year                                   30                   30  ...   \n",
       "year_week                                 2015-29              2015-29  ...   \n",
       "competition_since             2008-09-01 00:00:00  2008-09-01 00:00:00  ...   \n",
       "competition_time_month                         83                   83  ...   \n",
       "promotion_since                           2015-30              2015-30  ...   \n",
       "promo_since                   2015-07-20 00:00:00  2015-07-20 00:00:00  ...   \n",
       "promo_time_week                                 0                    0  ...   \n",
       "\n",
       "                                          1017199              1017200  \\\n",
       "store                                        1115                 1115   \n",
       "day_of_week                                     4                    3   \n",
       "date                          2013-01-10 00:00:00  2013-01-09 00:00:00   \n",
       "sales                                        5007                 4649   \n",
       "customers                                     339                  324   \n",
       "open                                            1                    1   \n",
       "promo                                           1                    1   \n",
       "state_holiday                         regulra_day          regulra_day   \n",
       "school_holiday                                  1                    1   \n",
       "store_type                                      d                    d   \n",
       "assortment                               extended             extended   \n",
       "competition_distance                      5350.00              5350.00   \n",
       "competition_open_since_month                    1                    1   \n",
       "competition_open_since_year                  2013                 2013   \n",
       "promo2                                          1                    1   \n",
       "promo2_since_week                              22                   22   \n",
       "promo2_since_year                            2012                 2012   \n",
       "promo_interval                   Mar,Jun,Sept,Dec     Mar,Jun,Sept,Dec   \n",
       "month_map                                     Jan                  Jan   \n",
       "is_promo                                        0                    0   \n",
       "year                                         2013                 2013   \n",
       "month                                           1                    1   \n",
       "day                                            10                    9   \n",
       "week_of_year                                    2                    2   \n",
       "year_week                                 2013-01              2013-01   \n",
       "competition_since             2013-01-01 00:00:00  2013-01-01 00:00:00   \n",
       "competition_time_month                          0                    0   \n",
       "promotion_since                           2012-22              2012-22   \n",
       "promo_since                   2012-05-21 00:00:00  2012-05-21 00:00:00   \n",
       "promo_time_week                                33                   33   \n",
       "\n",
       "                                          1017201              1017202  \\\n",
       "store                                        1115                 1115   \n",
       "day_of_week                                     2                    1   \n",
       "date                          2013-01-08 00:00:00  2013-01-07 00:00:00   \n",
       "sales                                        5243                 6905   \n",
       "customers                                     341                  471   \n",
       "open                                            1                    1   \n",
       "promo                                           1                    1   \n",
       "state_holiday                         regulra_day          regulra_day   \n",
       "school_holiday                                  1                    1   \n",
       "store_type                                      d                    d   \n",
       "assortment                               extended             extended   \n",
       "competition_distance                      5350.00              5350.00   \n",
       "competition_open_since_month                    1                    1   \n",
       "competition_open_since_year                  2013                 2013   \n",
       "promo2                                          1                    1   \n",
       "promo2_since_week                              22                   22   \n",
       "promo2_since_year                            2012                 2012   \n",
       "promo_interval                   Mar,Jun,Sept,Dec     Mar,Jun,Sept,Dec   \n",
       "month_map                                     Jan                  Jan   \n",
       "is_promo                                        0                    0   \n",
       "year                                         2013                 2013   \n",
       "month                                           1                    1   \n",
       "day                                             8                    7   \n",
       "week_of_year                                    2                    2   \n",
       "year_week                                 2013-01              2013-01   \n",
       "competition_since             2013-01-01 00:00:00  2013-01-01 00:00:00   \n",
       "competition_time_month                          0                    0   \n",
       "promotion_since                           2012-22              2012-22   \n",
       "promo_since                   2012-05-21 00:00:00  2012-05-21 00:00:00   \n",
       "promo_time_week                                33                   33   \n",
       "\n",
       "                                          1017203              1017204  \\\n",
       "store                                        1115                 1115   \n",
       "day_of_week                                     7                    6   \n",
       "date                          2013-01-06 00:00:00  2013-01-05 00:00:00   \n",
       "sales                                           0                 4771   \n",
       "customers                                       0                  339   \n",
       "open                                            0                    1   \n",
       "promo                                           0                    0   \n",
       "state_holiday                         regulra_day          regulra_day   \n",
       "school_holiday                                  1                    1   \n",
       "store_type                                      d                    d   \n",
       "assortment                               extended             extended   \n",
       "competition_distance                      5350.00              5350.00   \n",
       "competition_open_since_month                    1                    1   \n",
       "competition_open_since_year                  2013                 2013   \n",
       "promo2                                          1                    1   \n",
       "promo2_since_week                              22                   22   \n",
       "promo2_since_year                            2012                 2012   \n",
       "promo_interval                   Mar,Jun,Sept,Dec     Mar,Jun,Sept,Dec   \n",
       "month_map                                     Jan                  Jan   \n",
       "is_promo                                        0                    0   \n",
       "year                                         2013                 2013   \n",
       "month                                           1                    1   \n",
       "day                                             6                    5   \n",
       "week_of_year                                    1                    1   \n",
       "year_week                                 2013-00              2013-00   \n",
       "competition_since             2013-01-01 00:00:00  2013-01-01 00:00:00   \n",
       "competition_time_month                          0                    0   \n",
       "promotion_since                           2012-22              2012-22   \n",
       "promo_since                   2012-05-21 00:00:00  2012-05-21 00:00:00   \n",
       "promo_time_week                                32                   32   \n",
       "\n",
       "                                          1017205              1017206  \\\n",
       "store                                        1115                 1115   \n",
       "day_of_week                                     5                    4   \n",
       "date                          2013-01-04 00:00:00  2013-01-03 00:00:00   \n",
       "sales                                        4540                 4297   \n",
       "customers                                     326                  300   \n",
       "open                                            1                    1   \n",
       "promo                                           0                    0   \n",
       "state_holiday                         regulra_day          regulra_day   \n",
       "school_holiday                                  1                    1   \n",
       "store_type                                      d                    d   \n",
       "assortment                               extended             extended   \n",
       "competition_distance                      5350.00              5350.00   \n",
       "competition_open_since_month                    1                    1   \n",
       "competition_open_since_year                  2013                 2013   \n",
       "promo2                                          1                    1   \n",
       "promo2_since_week                              22                   22   \n",
       "promo2_since_year                            2012                 2012   \n",
       "promo_interval                   Mar,Jun,Sept,Dec     Mar,Jun,Sept,Dec   \n",
       "month_map                                     Jan                  Jan   \n",
       "is_promo                                        0                    0   \n",
       "year                                         2013                 2013   \n",
       "month                                           1                    1   \n",
       "day                                             4                    3   \n",
       "week_of_year                                    1                    1   \n",
       "year_week                                 2013-00              2013-00   \n",
       "competition_since             2013-01-01 00:00:00  2013-01-01 00:00:00   \n",
       "competition_time_month                          0                    0   \n",
       "promotion_since                           2012-22              2012-22   \n",
       "promo_since                   2012-05-21 00:00:00  2012-05-21 00:00:00   \n",
       "promo_time_week                                32                   32   \n",
       "\n",
       "                                          1017207              1017208  \n",
       "store                                        1115                 1115  \n",
       "day_of_week                                     3                    2  \n",
       "date                          2013-01-02 00:00:00  2013-01-01 00:00:00  \n",
       "sales                                        3697                    0  \n",
       "customers                                     305                    0  \n",
       "open                                            1                    0  \n",
       "promo                                           0                    0  \n",
       "state_holiday                         regulra_day       public_holiday  \n",
       "school_holiday                                  1                    1  \n",
       "store_type                                      d                    d  \n",
       "assortment                               extended             extended  \n",
       "competition_distance                      5350.00              5350.00  \n",
       "competition_open_since_month                    1                    1  \n",
       "competition_open_since_year                  2013                 2013  \n",
       "promo2                                          1                    1  \n",
       "promo2_since_week                              22                   22  \n",
       "promo2_since_year                            2012                 2012  \n",
       "promo_interval                   Mar,Jun,Sept,Dec     Mar,Jun,Sept,Dec  \n",
       "month_map                                     Jan                  Jan  \n",
       "is_promo                                        0                    0  \n",
       "year                                         2013                 2013  \n",
       "month                                           1                    1  \n",
       "day                                             2                    1  \n",
       "week_of_year                                    1                    1  \n",
       "year_week                                 2013-00              2013-00  \n",
       "competition_since             2013-01-01 00:00:00  2013-01-01 00:00:00  \n",
       "competition_time_month                          0                    0  \n",
       "promotion_since                           2012-22              2012-22  \n",
       "promo_since                   2012-05-21 00:00:00  2012-05-21 00:00:00  \n",
       "promo_time_week                                32                   32  \n",
       "\n",
       "[30 rows x 1017209 columns]"
      ]
     },
     "execution_count": 103,
     "metadata": {},
     "output_type": "execute_result"
    }
   ],
   "source": [
    "df2.T"
   ]
  },
  {
   "cell_type": "code",
   "execution_count": null,
   "id": "eb265a3a",
   "metadata": {},
   "outputs": [],
   "source": []
  }
 ],
 "metadata": {
  "kernelspec": {
   "display_name": "Python 3 (ipykernel)",
   "language": "python",
   "name": "python3"
  },
  "language_info": {
   "codemirror_mode": {
    "name": "ipython",
    "version": 3
   },
   "file_extension": ".py",
   "mimetype": "text/x-python",
   "name": "python",
   "nbconvert_exporter": "python",
   "pygments_lexer": "ipython3",
   "version": "3.8.10"
  },
  "varInspector": {
   "cols": {
    "lenName": 16,
    "lenType": 16,
    "lenVar": 40
   },
   "kernels_config": {
    "python": {
     "delete_cmd_postfix": "",
     "delete_cmd_prefix": "del ",
     "library": "var_list.py",
     "varRefreshCmd": "print(var_dic_list())"
    },
    "r": {
     "delete_cmd_postfix": ") ",
     "delete_cmd_prefix": "rm(",
     "library": "var_list.r",
     "varRefreshCmd": "cat(var_dic_list()) "
    }
   },
   "types_to_exclude": [
    "module",
    "function",
    "builtin_function_or_method",
    "instance",
    "_Feature"
   ],
   "window_display": false
  }
 },
 "nbformat": 4,
 "nbformat_minor": 5
}
