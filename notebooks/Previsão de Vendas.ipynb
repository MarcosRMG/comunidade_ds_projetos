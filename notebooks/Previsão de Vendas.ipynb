{
 "cells": [
  {
   "cell_type": "markdown",
   "id": "ddb49759",
   "metadata": {
    "heading_collapsed": true
   },
   "source": [
    "# 1 Bibliotecas Python"
   ]
  },
  {
   "cell_type": "markdown",
   "id": "c9968b78",
   "metadata": {
    "heading_collapsed": true,
    "hidden": true
   },
   "source": [
    "## 1.1 Instalações"
   ]
  },
  {
   "cell_type": "code",
   "execution_count": 3,
   "id": "98206fbd",
   "metadata": {
    "hidden": true
   },
   "outputs": [],
   "source": [
    "#pip install pandas"
   ]
  },
  {
   "cell_type": "code",
   "execution_count": 4,
   "id": "ee796077",
   "metadata": {
    "hidden": true
   },
   "outputs": [],
   "source": [
    "#pip install inflection"
   ]
  },
  {
   "cell_type": "markdown",
   "id": "0c538942",
   "metadata": {
    "hidden": true
   },
   "source": [
    "## 1.2 Importações"
   ]
  },
  {
   "cell_type": "code",
   "execution_count": 5,
   "id": "1fcb9c9c",
   "metadata": {
    "hidden": true
   },
   "outputs": [],
   "source": [
    "import pandas as pd\n",
    "import inflection\n",
    "import math"
   ]
  },
  {
   "cell_type": "markdown",
   "id": "ecb5b5cf",
   "metadata": {
    "heading_collapsed": true,
    "hidden": true
   },
   "source": [
    "## 1.3 Configurações"
   ]
  },
  {
   "cell_type": "code",
   "execution_count": 6,
   "id": "770edb85",
   "metadata": {
    "hidden": true
   },
   "outputs": [],
   "source": [
    "# Suprimir notação científica no Pandas\n",
    "pd.set_option('display.float_format', lambda x: '%.2f' % x)"
   ]
  },
  {
   "cell_type": "markdown",
   "id": "fa6273f5",
   "metadata": {
    "heading_collapsed": true
   },
   "source": [
    "# 2 Coleta de Dados"
   ]
  },
  {
   "cell_type": "markdown",
   "id": "5e689eb1",
   "metadata": {
    "heading_collapsed": true,
    "hidden": true
   },
   "source": [
    "## 2.1 Leitura"
   ]
  },
  {
   "cell_type": "code",
   "execution_count": 7,
   "id": "50dbb53e",
   "metadata": {
    "hidden": true
   },
   "outputs": [
    {
     "name": "stderr",
     "output_type": "stream",
     "text": [
      "/home/mg/Documents/data_science_em_producao/dsproducao/lib/python3.8/site-packages/IPython/core/interactiveshell.py:3441: DtypeWarning: Columns (7) have mixed types.Specify dtype option on import or set low_memory=False.\n",
      "  exec(code_obj, self.user_global_ns, self.user_ns)\n"
     ]
    }
   ],
   "source": [
    "df_vendas_cru = pd.read_csv('../dados/rossmann-store-sales/train.csv')\n",
    "df_lojas_cru = pd.read_csv('../dados/rossmann-store-sales/store.csv')"
   ]
  },
  {
   "cell_type": "code",
   "execution_count": 8,
   "id": "a3b4f743",
   "metadata": {
    "hidden": true
   },
   "outputs": [
    {
     "data": {
      "text/html": [
       "<div>\n",
       "<style scoped>\n",
       "    .dataframe tbody tr th:only-of-type {\n",
       "        vertical-align: middle;\n",
       "    }\n",
       "\n",
       "    .dataframe tbody tr th {\n",
       "        vertical-align: top;\n",
       "    }\n",
       "\n",
       "    .dataframe thead th {\n",
       "        text-align: right;\n",
       "    }\n",
       "</style>\n",
       "<table border=\"1\" class=\"dataframe\">\n",
       "  <thead>\n",
       "    <tr style=\"text-align: right;\">\n",
       "      <th></th>\n",
       "      <th>Store</th>\n",
       "      <th>DayOfWeek</th>\n",
       "      <th>Date</th>\n",
       "      <th>Sales</th>\n",
       "      <th>Customers</th>\n",
       "      <th>Open</th>\n",
       "      <th>Promo</th>\n",
       "      <th>StateHoliday</th>\n",
       "      <th>SchoolHoliday</th>\n",
       "    </tr>\n",
       "  </thead>\n",
       "  <tbody>\n",
       "    <tr>\n",
       "      <th>0</th>\n",
       "      <td>1</td>\n",
       "      <td>5</td>\n",
       "      <td>2015-07-31</td>\n",
       "      <td>5263</td>\n",
       "      <td>555</td>\n",
       "      <td>1</td>\n",
       "      <td>1</td>\n",
       "      <td>0</td>\n",
       "      <td>1</td>\n",
       "    </tr>\n",
       "    <tr>\n",
       "      <th>1</th>\n",
       "      <td>2</td>\n",
       "      <td>5</td>\n",
       "      <td>2015-07-31</td>\n",
       "      <td>6064</td>\n",
       "      <td>625</td>\n",
       "      <td>1</td>\n",
       "      <td>1</td>\n",
       "      <td>0</td>\n",
       "      <td>1</td>\n",
       "    </tr>\n",
       "    <tr>\n",
       "      <th>2</th>\n",
       "      <td>3</td>\n",
       "      <td>5</td>\n",
       "      <td>2015-07-31</td>\n",
       "      <td>8314</td>\n",
       "      <td>821</td>\n",
       "      <td>1</td>\n",
       "      <td>1</td>\n",
       "      <td>0</td>\n",
       "      <td>1</td>\n",
       "    </tr>\n",
       "  </tbody>\n",
       "</table>\n",
       "</div>"
      ],
      "text/plain": [
       "   Store  DayOfWeek        Date  Sales  Customers  Open  Promo StateHoliday  \\\n",
       "0      1          5  2015-07-31   5263        555     1      1            0   \n",
       "1      2          5  2015-07-31   6064        625     1      1            0   \n",
       "2      3          5  2015-07-31   8314        821     1      1            0   \n",
       "\n",
       "   SchoolHoliday  \n",
       "0              1  \n",
       "1              1  \n",
       "2              1  "
      ]
     },
     "execution_count": 8,
     "metadata": {},
     "output_type": "execute_result"
    }
   ],
   "source": [
    "df_vendas_cru.head(3)"
   ]
  },
  {
   "cell_type": "code",
   "execution_count": 9,
   "id": "b147a60f",
   "metadata": {
    "hidden": true
   },
   "outputs": [
    {
     "data": {
      "text/html": [
       "<div>\n",
       "<style scoped>\n",
       "    .dataframe tbody tr th:only-of-type {\n",
       "        vertical-align: middle;\n",
       "    }\n",
       "\n",
       "    .dataframe tbody tr th {\n",
       "        vertical-align: top;\n",
       "    }\n",
       "\n",
       "    .dataframe thead th {\n",
       "        text-align: right;\n",
       "    }\n",
       "</style>\n",
       "<table border=\"1\" class=\"dataframe\">\n",
       "  <thead>\n",
       "    <tr style=\"text-align: right;\">\n",
       "      <th></th>\n",
       "      <th>Store</th>\n",
       "      <th>StoreType</th>\n",
       "      <th>Assortment</th>\n",
       "      <th>CompetitionDistance</th>\n",
       "      <th>CompetitionOpenSinceMonth</th>\n",
       "      <th>CompetitionOpenSinceYear</th>\n",
       "      <th>Promo2</th>\n",
       "      <th>Promo2SinceWeek</th>\n",
       "      <th>Promo2SinceYear</th>\n",
       "      <th>PromoInterval</th>\n",
       "    </tr>\n",
       "  </thead>\n",
       "  <tbody>\n",
       "    <tr>\n",
       "      <th>0</th>\n",
       "      <td>1</td>\n",
       "      <td>c</td>\n",
       "      <td>a</td>\n",
       "      <td>1270.00</td>\n",
       "      <td>9.00</td>\n",
       "      <td>2008.00</td>\n",
       "      <td>0</td>\n",
       "      <td>NaN</td>\n",
       "      <td>NaN</td>\n",
       "      <td>NaN</td>\n",
       "    </tr>\n",
       "    <tr>\n",
       "      <th>1</th>\n",
       "      <td>2</td>\n",
       "      <td>a</td>\n",
       "      <td>a</td>\n",
       "      <td>570.00</td>\n",
       "      <td>11.00</td>\n",
       "      <td>2007.00</td>\n",
       "      <td>1</td>\n",
       "      <td>13.00</td>\n",
       "      <td>2010.00</td>\n",
       "      <td>Jan,Apr,Jul,Oct</td>\n",
       "    </tr>\n",
       "    <tr>\n",
       "      <th>2</th>\n",
       "      <td>3</td>\n",
       "      <td>a</td>\n",
       "      <td>a</td>\n",
       "      <td>14130.00</td>\n",
       "      <td>12.00</td>\n",
       "      <td>2006.00</td>\n",
       "      <td>1</td>\n",
       "      <td>14.00</td>\n",
       "      <td>2011.00</td>\n",
       "      <td>Jan,Apr,Jul,Oct</td>\n",
       "    </tr>\n",
       "  </tbody>\n",
       "</table>\n",
       "</div>"
      ],
      "text/plain": [
       "   Store StoreType Assortment  CompetitionDistance  CompetitionOpenSinceMonth  \\\n",
       "0      1         c          a              1270.00                       9.00   \n",
       "1      2         a          a               570.00                      11.00   \n",
       "2      3         a          a             14130.00                      12.00   \n",
       "\n",
       "   CompetitionOpenSinceYear  Promo2  Promo2SinceWeek  Promo2SinceYear  \\\n",
       "0                   2008.00       0              NaN              NaN   \n",
       "1                   2007.00       1            13.00          2010.00   \n",
       "2                   2006.00       1            14.00          2011.00   \n",
       "\n",
       "     PromoInterval  \n",
       "0              NaN  \n",
       "1  Jan,Apr,Jul,Oct  \n",
       "2  Jan,Apr,Jul,Oct  "
      ]
     },
     "execution_count": 9,
     "metadata": {},
     "output_type": "execute_result"
    }
   ],
   "source": [
    "df_lojas_cru.head(3)"
   ]
  },
  {
   "cell_type": "code",
   "execution_count": 10,
   "id": "d14985b0",
   "metadata": {
    "hidden": true
   },
   "outputs": [],
   "source": [
    "df_cru = pd.merge(df_vendas_cru, df_lojas_cru, how='inner', on='Store')"
   ]
  },
  {
   "cell_type": "code",
   "execution_count": 11,
   "id": "d5f31a2c",
   "metadata": {
    "hidden": true
   },
   "outputs": [
    {
     "data": {
      "text/html": [
       "<div>\n",
       "<style scoped>\n",
       "    .dataframe tbody tr th:only-of-type {\n",
       "        vertical-align: middle;\n",
       "    }\n",
       "\n",
       "    .dataframe tbody tr th {\n",
       "        vertical-align: top;\n",
       "    }\n",
       "\n",
       "    .dataframe thead th {\n",
       "        text-align: right;\n",
       "    }\n",
       "</style>\n",
       "<table border=\"1\" class=\"dataframe\">\n",
       "  <thead>\n",
       "    <tr style=\"text-align: right;\">\n",
       "      <th></th>\n",
       "      <th>Store</th>\n",
       "      <th>DayOfWeek</th>\n",
       "      <th>Date</th>\n",
       "      <th>Sales</th>\n",
       "      <th>Customers</th>\n",
       "      <th>Open</th>\n",
       "      <th>Promo</th>\n",
       "      <th>StateHoliday</th>\n",
       "      <th>SchoolHoliday</th>\n",
       "      <th>StoreType</th>\n",
       "      <th>Assortment</th>\n",
       "      <th>CompetitionDistance</th>\n",
       "      <th>CompetitionOpenSinceMonth</th>\n",
       "      <th>CompetitionOpenSinceYear</th>\n",
       "      <th>Promo2</th>\n",
       "      <th>Promo2SinceWeek</th>\n",
       "      <th>Promo2SinceYear</th>\n",
       "      <th>PromoInterval</th>\n",
       "    </tr>\n",
       "  </thead>\n",
       "  <tbody>\n",
       "    <tr>\n",
       "      <th>899881</th>\n",
       "      <td>987</td>\n",
       "      <td>7</td>\n",
       "      <td>2014-03-09</td>\n",
       "      <td>0</td>\n",
       "      <td>0</td>\n",
       "      <td>0</td>\n",
       "      <td>0</td>\n",
       "      <td>0</td>\n",
       "      <td>0</td>\n",
       "      <td>c</td>\n",
       "      <td>a</td>\n",
       "      <td>1690.00</td>\n",
       "      <td>6.00</td>\n",
       "      <td>2007.00</td>\n",
       "      <td>0</td>\n",
       "      <td>NaN</td>\n",
       "      <td>NaN</td>\n",
       "      <td>NaN</td>\n",
       "    </tr>\n",
       "  </tbody>\n",
       "</table>\n",
       "</div>"
      ],
      "text/plain": [
       "        Store  DayOfWeek        Date  Sales  Customers  Open  Promo  \\\n",
       "899881    987          7  2014-03-09      0          0     0      0   \n",
       "\n",
       "       StateHoliday  SchoolHoliday StoreType Assortment  CompetitionDistance  \\\n",
       "899881            0              0         c          a              1690.00   \n",
       "\n",
       "        CompetitionOpenSinceMonth  CompetitionOpenSinceYear  Promo2  \\\n",
       "899881                       6.00                   2007.00       0   \n",
       "\n",
       "        Promo2SinceWeek  Promo2SinceYear PromoInterval  \n",
       "899881              NaN              NaN           NaN  "
      ]
     },
     "execution_count": 11,
     "metadata": {},
     "output_type": "execute_result"
    }
   ],
   "source": [
    "df_cru.sample()"
   ]
  },
  {
   "cell_type": "markdown",
   "id": "2deaf5db",
   "metadata": {},
   "source": [
    "# 3 Descrição dos Dados"
   ]
  },
  {
   "cell_type": "code",
   "execution_count": 12,
   "id": "aa801f2f",
   "metadata": {},
   "outputs": [],
   "source": [
    "df1 = df_cru.copy()"
   ]
  },
  {
   "cell_type": "markdown",
   "id": "1afc0bbe",
   "metadata": {},
   "source": [
    "## 3.1 Renomeando colunas"
   ]
  },
  {
   "cell_type": "code",
   "execution_count": 13,
   "id": "4e57f056",
   "metadata": {},
   "outputs": [],
   "source": [
    "colunas_originais = ['Store', 'DayOfWeek', 'Date', 'Sales', 'Customers', 'Open', 'Promo', 'StateHoliday', \n",
    "                     'SchoolHoliday', 'StoreType', 'Assortment', 'CompetitionDistance', \n",
    "                     'CompetitionOpenSinceMonth', 'CompetitionOpenSinceYear', 'Promo2', 'Promo2SinceWeek', \n",
    "                     'Promo2SinceYear', 'PromoInterval']\n",
    "# Renomeando as colunas para o padrão snacke case\n",
    "snackecase = lambda x: inflection.underscore(x)\n",
    "novas_colunas = list(map(snackecase, colunas_originais))\n",
    "df1.columns = novas_colunas"
   ]
  },
  {
   "cell_type": "markdown",
   "id": "3aea0a99",
   "metadata": {
    "heading_collapsed": true
   },
   "source": [
    "## 3.2 Dimensão dos dados"
   ]
  },
  {
   "cell_type": "code",
   "execution_count": 14,
   "id": "a2128c83",
   "metadata": {
    "hidden": true
   },
   "outputs": [
    {
     "name": "stdout",
     "output_type": "stream",
     "text": [
      "Número de linhas: 1017209\n",
      "Número de colunas: 18\n"
     ]
    }
   ],
   "source": [
    "print(f'Número de linhas: {df1.shape[0]}')\n",
    "print(f'Número de colunas: {df1.shape[1]}')"
   ]
  },
  {
   "cell_type": "markdown",
   "id": "647e9b43",
   "metadata": {
    "heading_collapsed": true
   },
   "source": [
    "## 3.3 Tipos de dados"
   ]
  },
  {
   "cell_type": "code",
   "execution_count": 15,
   "id": "0d21cb2f",
   "metadata": {
    "hidden": true
   },
   "outputs": [
    {
     "data": {
      "text/plain": [
       "store                                    int64\n",
       "day_of_week                              int64\n",
       "date                            datetime64[ns]\n",
       "sales                                    int64\n",
       "customers                                int64\n",
       "open                                     int64\n",
       "promo                                    int64\n",
       "state_holiday                           object\n",
       "school_holiday                           int64\n",
       "store_type                              object\n",
       "assortment                              object\n",
       "competition_distance                   float64\n",
       "competition_open_since_month           float64\n",
       "competition_open_since_year            float64\n",
       "promo2                                   int64\n",
       "promo2_since_week                      float64\n",
       "promo2_since_year                      float64\n",
       "promo_interval                          object\n",
       "dtype: object"
      ]
     },
     "execution_count": 15,
     "metadata": {},
     "output_type": "execute_result"
    }
   ],
   "source": [
    "df1['date'] = pd.to_datetime(df1['date'])\n",
    "df1.dtypes"
   ]
  },
  {
   "cell_type": "markdown",
   "id": "b78e0e5f",
   "metadata": {
    "heading_collapsed": true
   },
   "source": [
    "## 3.4 Dados faltantes"
   ]
  },
  {
   "cell_type": "code",
   "execution_count": 16,
   "id": "af7217bb",
   "metadata": {
    "hidden": true
   },
   "outputs": [
    {
     "data": {
      "text/plain": [
       "store                                0\n",
       "day_of_week                          0\n",
       "date                                 0\n",
       "sales                                0\n",
       "customers                            0\n",
       "open                                 0\n",
       "promo                                0\n",
       "state_holiday                        0\n",
       "school_holiday                       0\n",
       "store_type                           0\n",
       "assortment                           0\n",
       "competition_distance              2642\n",
       "competition_open_since_month    323348\n",
       "competition_open_since_year     323348\n",
       "promo2                               0\n",
       "promo2_since_week               508031\n",
       "promo2_since_year               508031\n",
       "promo_interval                  508031\n",
       "dtype: int64"
      ]
     },
     "execution_count": 16,
     "metadata": {},
     "output_type": "execute_result"
    }
   ],
   "source": [
    "df1.isna().sum()"
   ]
  },
  {
   "cell_type": "markdown",
   "id": "410dd328",
   "metadata": {},
   "source": [
    "## 3.5 Tratamento dos NaN"
   ]
  },
  {
   "cell_type": "markdown",
   "id": "6e4084c5",
   "metadata": {},
   "source": [
    "### competition_distance              \n",
    "\n",
    "Representa a distância do concorrente mais próximo\n",
    "\n",
    "Suposição: \n",
    "1. Não possuem concorrentes próximos; \n",
    "2. A distância com relação ao concorrente é muito longa.\n",
    "\n",
    "Tratamento: \n",
    "1. Preencher as linhas com um registro maior do que a distância máxima registrada na coluna."
   ]
  },
  {
   "cell_type": "code",
   "execution_count": 17,
   "id": "d874fa87",
   "metadata": {},
   "outputs": [
    {
     "name": "stdout",
     "output_type": "stream",
     "text": [
      "Maior distância do concorrente para a loja: 75860.0\n",
      "Dados NaN restantes: 0\n"
     ]
    }
   ],
   "source": [
    "print(f\"Maior distância do concorrente para a loja: {df1['competition_distance'].max()}\")\n",
    "df1['competition_distance'] = df1['competition_distance'].apply(lambda x: 200000.0 if math.isnan(x) else x)\n",
    "print(f\"Dados NaN restantes: {df1['competition_distance'].isna().sum()}\")                 "
   ]
  },
  {
   "cell_type": "markdown",
   "id": "aac55b8b",
   "metadata": {},
   "source": [
    "### competition_open_since_month\n",
    "\n",
    "Representa aproximadamente o mês que o concorrente mais próximo abriu a loja\n",
    "\n",
    "Suposição: \n",
    "1. Falta do concorrente próximo;\n",
    "2. O concorrente próximo abriu a loja antes;\n",
    "3. A data de abertura do concorrente não foi registrada. \n",
    "\n",
    "Tratamento:\n",
    "1. Extrair da coluna date o mês da data da venda, por considerar que as vendas são influenciadas pela data no qual o concorrente próximo abriu. "
   ]
  },
  {
   "cell_type": "code",
   "execution_count": 18,
   "id": "ab1e9ed2",
   "metadata": {},
   "outputs": [],
   "source": [
    "df1['competition_open_since_month'] = df1.apply(lambda x: x['date'].month if math.isnan(x['competition_open_since_month']) else x['competition_open_since_month'], axis=1)"
   ]
  },
  {
   "cell_type": "code",
   "execution_count": 19,
   "id": "1908a93b",
   "metadata": {},
   "outputs": [
    {
     "name": "stdout",
     "output_type": "stream",
     "text": [
      "Dados faltantes na coluna: 0\n"
     ]
    }
   ],
   "source": [
    "print(f'Dados faltantes na coluna: {df1[\"competition_open_since_month\"].isna().sum()}')"
   ]
  },
  {
   "cell_type": "markdown",
   "id": "10deea43",
   "metadata": {},
   "source": [
    "### competition_open_since_year\n",
    "\n",
    "Representa aproximadamente o ano que o concorrente mais próximo abriu a loja\n",
    "\n",
    "Suposição: \n",
    "1. Falta do concorrente próximo;\n",
    "2. O concorrente próximo abriu a loja antes;\n",
    "3. A data de abertura do concorrente não foi registrada. \n",
    "\n",
    "Tratamento:\n",
    "1. Extrair da coluna date o ano da data da venda, por considerar que as vendas são influenciadas pela data no qual o concorrente próximo abriu. "
   ]
  },
  {
   "cell_type": "code",
   "execution_count": 20,
   "id": "661c634c",
   "metadata": {},
   "outputs": [],
   "source": [
    "df1['competition_open_since_year'] = df1.apply(lambda x: x['date'].year if math.isnan(x['competition_open_since_year']) else x['competition_open_since_year'], axis=1)"
   ]
  },
  {
   "cell_type": "code",
   "execution_count": 21,
   "id": "da9b85ed",
   "metadata": {},
   "outputs": [
    {
     "name": "stdout",
     "output_type": "stream",
     "text": [
      "Dados faltantes na coluna: 0\n"
     ]
    }
   ],
   "source": [
    "print(f'Dados faltantes na coluna: {df1[\"competition_open_since_year\"].isna().sum()}')"
   ]
  },
  {
   "cell_type": "markdown",
   "id": "8fc4b4eb",
   "metadata": {},
   "source": [
    "### promo2_since_week"
   ]
  },
  {
   "cell_type": "code",
   "execution_count": 22,
   "id": "be907633",
   "metadata": {},
   "outputs": [],
   "source": [
    "df1['promo2_since_week'] = df1.apply(lambda x: x['date'].week if math.isnan(x['promo2_since_week']) else x['promo2_since_week'], axis=1)"
   ]
  },
  {
   "cell_type": "code",
   "execution_count": 24,
   "id": "f40baa23",
   "metadata": {},
   "outputs": [
    {
     "name": "stdout",
     "output_type": "stream",
     "text": [
      "Dados faltantes na coluna: 0\n"
     ]
    }
   ],
   "source": [
    "print(f'Dados faltantes na coluna: {df1[\"promo2_since_week\"].isna().sum()}')"
   ]
  },
  {
   "cell_type": "markdown",
   "id": "a3111a71",
   "metadata": {},
   "source": [
    "### promo2_since_year "
   ]
  },
  {
   "cell_type": "code",
   "execution_count": 25,
   "id": "2bcf9c97",
   "metadata": {},
   "outputs": [],
   "source": [
    "df1['promo2_since_year'] = df1.apply(lambda x: x['date'].year if math.isnan(x['promo2_since_year']) else x['promo2_since_year'], axis=1)"
   ]
  },
  {
   "cell_type": "code",
   "execution_count": 26,
   "id": "e4bb0df3",
   "metadata": {},
   "outputs": [
    {
     "name": "stdout",
     "output_type": "stream",
     "text": [
      "Dados faltantes na coluna: 0\n"
     ]
    }
   ],
   "source": [
    "print(f'Dados faltantes na coluna: {df1[\"promo2_since_year\"].isna().sum()}')"
   ]
  },
  {
   "cell_type": "markdown",
   "id": "90ea8749",
   "metadata": {},
   "source": [
    "### promo_interval"
   ]
  },
  {
   "cell_type": "code",
   "execution_count": 50,
   "id": "ec801a77",
   "metadata": {},
   "outputs": [],
   "source": [
    "month_map = {1: 'Jan',\n",
    "            2: 'Feb',\n",
    "            3: 'Mar',\n",
    "            4: 'Apr',\n",
    "            5: 'May',\n",
    "            6: 'Jun',\n",
    "            7: 'Jul',\n",
    "            8: 'Aug',\n",
    "            9: 'Sep',\n",
    "            10: 'Oct',\n",
    "            11: 'Nov',\n",
    "            12: 'Dec'}\n",
    "\n",
    "df1['promo_interval'].fillna(0, inplace=True)\n",
    "df1['month_map'] = df1['date'].dt.month.map(month_map)\n",
    "\n",
    "df1['is_promo'] = df1[['promo_interval', 'month_map']].apply(lambda x: 0 if x['promo_interval'] == 0 else 1 if x['month_map'] in x['promo_interval'].split(',') else 0, axis=1)"
   ]
  },
  {
   "cell_type": "code",
   "execution_count": 54,
   "id": "ab6594a4",
   "metadata": {},
   "outputs": [
    {
     "name": "stdout",
     "output_type": "stream",
     "text": [
      "Dados faltantes na coluna: 0\n"
     ]
    }
   ],
   "source": [
    "print(f'Dados faltantes na coluna: {df1[\"promo_interval\"].isna().sum()}')"
   ]
  },
  {
   "cell_type": "markdown",
   "id": "44d94ff9",
   "metadata": {},
   "source": [
    "## 3.6"
   ]
  },
  {
   "cell_type": "markdown",
   "id": "a2d16485",
   "metadata": {},
   "source": [
    "## 3.7"
   ]
  },
  {
   "cell_type": "markdown",
   "id": "ea0cbb80",
   "metadata": {},
   "source": [
    "## 3.8"
   ]
  },
  {
   "cell_type": "code",
   "execution_count": null,
   "id": "b50ac234",
   "metadata": {},
   "outputs": [],
   "source": []
  }
 ],
 "metadata": {
  "kernelspec": {
   "display_name": "Python 3 (ipykernel)",
   "language": "python",
   "name": "python3"
  },
  "language_info": {
   "codemirror_mode": {
    "name": "ipython",
    "version": 3
   },
   "file_extension": ".py",
   "mimetype": "text/x-python",
   "name": "python",
   "nbconvert_exporter": "python",
   "pygments_lexer": "ipython3",
   "version": "3.8.10"
  },
  "varInspector": {
   "cols": {
    "lenName": 16,
    "lenType": 16,
    "lenVar": 40
   },
   "kernels_config": {
    "python": {
     "delete_cmd_postfix": "",
     "delete_cmd_prefix": "del ",
     "library": "var_list.py",
     "varRefreshCmd": "print(var_dic_list())"
    },
    "r": {
     "delete_cmd_postfix": ") ",
     "delete_cmd_prefix": "rm(",
     "library": "var_list.r",
     "varRefreshCmd": "cat(var_dic_list()) "
    }
   },
   "types_to_exclude": [
    "module",
    "function",
    "builtin_function_or_method",
    "instance",
    "_Feature"
   ],
   "window_display": false
  }
 },
 "nbformat": 4,
 "nbformat_minor": 5
}
